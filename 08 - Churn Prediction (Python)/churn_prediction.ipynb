{
  "nbformat": 4,
  "nbformat_minor": 0,
  "metadata": {
    "colab": {
      "provenance": []
    },
    "kernelspec": {
      "name": "python3",
      "display_name": "Python 3"
    },
    "accelerator": "GPU"
  },
  "cells": [
    {
      "cell_type": "markdown",
      "source": [
        "# Ejercicio: Churn\n",
        "\n",
        "\n",
        "Este ejercicio tiene por objetivo poner en práctica los conceptos las técnicas de aprendizaje supervisado y en particular clasificación. El ejercicio se divide en las siguientes secciones:\n",
        "1. exploración de los datos mediante técnicas estadísticas clásicas,\n",
        "2. selección de atributos,\n",
        "3. entrenamiento de diferentes clasificadores,\n",
        "4. evaluación.\n",
        "\n",
        "https://www.kaggle.com/datasets/gauravtopre/bank-customer-churn-dataset"
      ],
      "metadata": {
        "id": "2Y0CUn60jZex"
      }
    },
    {
      "cell_type": "markdown",
      "metadata": {
        "id": "XdA5nF8JvOQ0"
      },
      "source": [
        "# Librerías:\n",
        "Importamos todas las librerías que serán utilizadas para el ejercicio.\n",
        "\n",
        "\n"
      ]
    },
    {
      "cell_type": "code",
      "metadata": {
        "id": "W3f05yxKmKaS",
        "colab": {
          "base_uri": "https://localhost:8080/"
        },
        "outputId": "fc41b896-3691-4946-aa8d-be4b05502648"
      },
      "source": [
        "# Import libs\n",
        "import pandas as pd\n",
        "import numpy as np\n",
        "import matplotlib.pyplot as plt\n",
        "import seaborn as sns\n",
        "!pip install -U --no-cache-dir gdown --pre"
      ],
      "execution_count": null,
      "outputs": [
        {
          "output_type": "stream",
          "name": "stdout",
          "text": [
            "Requirement already satisfied: gdown in /usr/local/lib/python3.10/dist-packages (4.6.6)\n",
            "Collecting gdown\n",
            "  Downloading gdown-4.7.1-py3-none-any.whl (15 kB)\n",
            "Requirement already satisfied: filelock in /usr/local/lib/python3.10/dist-packages (from gdown) (3.13.1)\n",
            "Requirement already satisfied: requests[socks] in /usr/local/lib/python3.10/dist-packages (from gdown) (2.31.0)\n",
            "Requirement already satisfied: six in /usr/local/lib/python3.10/dist-packages (from gdown) (1.16.0)\n",
            "Requirement already satisfied: tqdm in /usr/local/lib/python3.10/dist-packages (from gdown) (4.66.1)\n",
            "Requirement already satisfied: beautifulsoup4 in /usr/local/lib/python3.10/dist-packages (from gdown) (4.11.2)\n",
            "Requirement already satisfied: soupsieve>1.2 in /usr/local/lib/python3.10/dist-packages (from beautifulsoup4->gdown) (2.5)\n",
            "Requirement already satisfied: charset-normalizer<4,>=2 in /usr/local/lib/python3.10/dist-packages (from requests[socks]->gdown) (3.3.2)\n",
            "Requirement already satisfied: idna<4,>=2.5 in /usr/local/lib/python3.10/dist-packages (from requests[socks]->gdown) (3.6)\n",
            "Requirement already satisfied: urllib3<3,>=1.21.1 in /usr/local/lib/python3.10/dist-packages (from requests[socks]->gdown) (2.0.7)\n",
            "Requirement already satisfied: certifi>=2017.4.17 in /usr/local/lib/python3.10/dist-packages (from requests[socks]->gdown) (2023.11.17)\n",
            "Requirement already satisfied: PySocks!=1.5.7,>=1.5.6 in /usr/local/lib/python3.10/dist-packages (from requests[socks]->gdown) (1.7.1)\n",
            "Installing collected packages: gdown\n",
            "  Attempting uninstall: gdown\n",
            "    Found existing installation: gdown 4.6.6\n",
            "    Uninstalling gdown-4.6.6:\n",
            "      Successfully uninstalled gdown-4.6.6\n",
            "Successfully installed gdown-4.7.1\n"
          ]
        }
      ]
    },
    {
      "cell_type": "markdown",
      "metadata": {
        "id": "Kc_0rl7zvV8t"
      },
      "source": [
        "# Datos:\n",
        "Descargamos los datos desde google drive a la instancia de google colab."
      ]
    },
    {
      "cell_type": "code",
      "source": [
        "#!gdown --id 1OkojZM7dmynsC9rTZNpg7nnpQkYGvHlQbkJO7DB3asA\n",
        "!gdown --id 1_kZWTS1shXWq3HHH1mebYcebwRD6_F_o"
      ],
      "metadata": {
        "colab": {
          "base_uri": "https://localhost:8080/"
        },
        "id": "2AYoot6pBJQl",
        "outputId": "cc9917a7-95fd-4644-a36a-3ff4bf8d6889"
      },
      "execution_count": null,
      "outputs": [
        {
          "output_type": "stream",
          "name": "stdout",
          "text": [
            "/usr/local/lib/python3.10/dist-packages/gdown/cli.py:126: FutureWarning: Option `--id` was deprecated in version 4.3.1 and will be removed in 5.0. You don't need to pass it anymore to use a file ID.\n",
            "  warnings.warn(\n",
            "Downloading...\n",
            "From: https://drive.google.com/uc?id=1_kZWTS1shXWq3HHH1mebYcebwRD6_F_o\n",
            "To: /content/Bank Customer Churn Prediction.csv\n",
            "100% 562k/562k [00:00<00:00, 6.73MB/s]\n"
          ]
        }
      ]
    },
    {
      "cell_type": "code",
      "metadata": {
        "id": "i-eiw-HRmt-g"
      },
      "source": [
        "# Ref.: https://www.kaggle.com/isaikumar/creditcardfraud/version/1\n",
        "# Data frame with credit card data\n",
        "\n",
        "# Leemos el archivo CSV\n",
        "df = pd.read_csv( 'Bank Customer Churn Prediction.csv' )"
      ],
      "execution_count": null,
      "outputs": []
    },
    {
      "cell_type": "markdown",
      "source": [
        "# 1. Entendimiento del problemas y los datos.\n"
      ],
      "metadata": {
        "id": "tmFE1DUsyuiU"
      }
    },
    {
      "cell_type": "markdown",
      "source": [
        "## 1.1 El problema\n",
        "*Describa con sus palabras el problema a resolver, defina las métricas de performance adecuadas al caso.*\n",
        "\n"
      ],
      "metadata": {
        "id": "ZzNJJ0L8SoYf"
      }
    },
    {
      "cell_type": "markdown",
      "source": [
        "## 1.2 Los datos\n",
        "*Haga un análisis de los atributos y los datos. En el caso de los atributos observe el tipo de dato, distribuciones, etc. Analice la distribución de los datos en función de la clase objetivo (churn). Calidad de datos (datos faltantes, outliers).*"
      ],
      "metadata": {
        "id": "BhL3FCE1Sq4w"
      }
    },
    {
      "cell_type": "markdown",
      "metadata": {
        "id": "mFNEal38vlV2"
      },
      "source": [
        "## Código de referencia\n",
        "\n",
        "1.   Visualizamos la información del dataframe de datos.\n",
        "2.   Calculamos la correlación entre cada una de las variables y la clase. Cuanto más grande el valor de correlación en valor absoluto mayor es la correlación estadística entre la variable y la clase Class que contiene si la transacción es fraudulenta o legítima.\n"
      ]
    },
    {
      "cell_type": "code",
      "metadata": {
        "id": "wFZwJKCcn6fs",
        "colab": {
          "base_uri": "https://localhost:8080/"
        },
        "outputId": "b6e004c4-6ceb-4e8a-ad0b-d0d0981790e6"
      },
      "source": [
        "# 1\n",
        "# Details on data\n",
        "print(df.shape)\n",
        "print(df.columns)\n",
        "print(df.dtypes)\n",
        "\n",
        "# Change categorical features to numerical\n",
        "df['country'] = df['country'].apply(lambda x : 0.0 if x == 'France' else 1.0 if x == 'Germany' else 2.0)\n",
        "df['gender'] = df['gender'].apply(lambda x : 0.0 if x == 'Male' else 1.0)\n",
        "\n",
        "# 2\n",
        "# Compute correlation of features with respect to Class\n",
        "# By default uses Pearson correlation that estimates linear correlation:\n",
        "# +1 or -1 linearly correlated, 0 non linear correlated\n",
        "df.corr()[\"churn\"].sort_values(key=abs,ascending=False)"
      ],
      "execution_count": null,
      "outputs": [
        {
          "output_type": "stream",
          "name": "stdout",
          "text": [
            "(10000, 12)\n",
            "Index(['customer_id', 'credit_score', 'country', 'gender', 'age', 'tenure',\n",
            "       'balance', 'products_number', 'credit_card', 'active_member',\n",
            "       'estimated_salary', 'churn'],\n",
            "      dtype='object')\n",
            "customer_id           int64\n",
            "credit_score          int64\n",
            "country             float64\n",
            "gender              float64\n",
            "age                   int64\n",
            "tenure                int64\n",
            "balance             float64\n",
            "products_number       int64\n",
            "credit_card           int64\n",
            "active_member         int64\n",
            "estimated_salary    float64\n",
            "churn                 int64\n",
            "dtype: object\n"
          ]
        },
        {
          "output_type": "execute_result",
          "data": {
            "text/plain": [
              "churn               1.000000\n",
              "age                 0.285323\n",
              "active_member      -0.156128\n",
              "balance             0.118533\n",
              "products_number    -0.047820\n",
              "credit_score       -0.027094\n",
              "tenure             -0.014001\n",
              "estimated_salary    0.012097\n",
              "credit_card        -0.007138\n",
              "customer_id        -0.006248\n",
              "country                  NaN\n",
              "gender                   NaN\n",
              "Name: churn, dtype: float64"
            ]
          },
          "metadata": {},
          "execution_count": 10
        }
      ]
    },
    {
      "cell_type": "code",
      "source": [
        "import seaborn as sns\n",
        "\n",
        "# Histogram of feature depending on churn\n",
        "sns.histplot(data=df, x=\"age\", hue=\"churn\")"
      ],
      "metadata": {
        "colab": {
          "base_uri": "https://localhost:8080/",
          "height": 467
        },
        "id": "yi7Oh6UN0rdU",
        "outputId": "bf15044e-1fce-4853-807c-ce233a023682"
      },
      "execution_count": null,
      "outputs": [
        {
          "output_type": "execute_result",
          "data": {
            "text/plain": [
              "<Axes: xlabel='active_member', ylabel='Count'>"
            ]
          },
          "metadata": {},
          "execution_count": 9
        },
        {
          "output_type": "display_data",
          "data": {
            "text/plain": [
              "<Figure size 640x480 with 1 Axes>"
            ],
            "image/png": "[encoded data removed]"
          },
          "metadata": {}
        }
      ]
    },
    {
      "cell_type": "markdown",
      "metadata": {
        "id": "9ccQZwfav2jY"
      },
      "source": [
        "# 2. Modelado\n"
      ]
    },
    {
      "cell_type": "markdown",
      "source": [
        "## 2.1 Selección de atributos\n",
        "Seleccionamos los atributos (características) a ser utilizadas. Dentro de los atributos $X$ no debe estar la clase $Churn$. *Comente la estrategia a serguir para seleccionar los atributos*.\n",
        "\n"
      ],
      "metadata": {
        "id": "yQZ68tkGS3jX"
      }
    },
    {
      "cell_type": "code",
      "metadata": {
        "id": "OK_BZmeErAzQ",
        "colab": {
          "base_uri": "https://localhost:8080/"
        },
        "outputId": "937457f4-ccd2-4e84-ac96-9fe56db7e152"
      },
      "source": [
        "# 1\n",
        "# Extract features and labels\n",
        "\n",
        "#\n",
        "# Obs. Modify the following code to select set of features\n",
        "#\n",
        "# The following line allows to select some variables to be used\n",
        "\n",
        "# Remove columns from dataframe\n",
        "df_X = df.drop(columns=['customer_id', 'churn'])\n",
        "X = df_X.values\n",
        "\n",
        "# Churn is the target to predict (classify)\n",
        "y = df.churn\n",
        "\n",
        "# 2\n",
        "# Number of samples per class\n",
        "unique, counts = np.unique(y, return_counts=True)\n",
        "for i in range(0,len(unique)):\n",
        "  print('Class %i: Samples %i' % (unique[i], counts[i]) )\n",
        "\n",
        "# Number of attributes\n",
        "print('Number of attributes: %i' % (X.shape)[1])"
      ],
      "execution_count": null,
      "outputs": [
        {
          "output_type": "stream",
          "name": "stdout",
          "text": [
            "Class 0: Samples 7963\n",
            "Class 1: Samples 2037\n",
            "Number of attributes: 10\n"
          ]
        }
      ]
    },
    {
      "cell_type": "markdown",
      "metadata": {
        "id": "o929j70xwV0f"
      },
      "source": [
        "## 2.1 Entrenamiento del clasificador\n",
        "\n",
        "1. El conjunto de datos se separa en entrenamiento y test.\n",
        "2. Se selecciona y entrena un clasificador.\n",
        "3. Métricas de performance\n",
        "\n"
      ]
    },
    {
      "cell_type": "code",
      "metadata": {
        "id": "546_qM25KkSJ",
        "colab": {
          "base_uri": "https://localhost:8080/",
          "height": 74
        },
        "outputId": "61ba14f6-9364-416b-960a-7ee7f9ce3512"
      },
      "source": [
        "# Classifier\n",
        "from sklearn.metrics import confusion_matrix\n",
        "from sklearn.model_selection import train_test_split\n",
        "from sklearn.tree import DecisionTreeClassifier\n",
        "\n",
        "# 1\n",
        "# Split train and test\n",
        "# stratify=y means the same % of classes is present in train and test\n",
        "X_train, X_test, y_train, y_test = train_test_split(X, y, test_size=0.3, random_state=0, stratify=y)\n",
        "\n",
        "# 2\n",
        "#\n",
        "# Selection of classifier\n",
        "#\n",
        "clf = DecisionTreeClassifier(min_samples_leaf=50)\n",
        "\n",
        "# Train classifier\n",
        "clf.fit(X_train,y_train)"
      ],
      "execution_count": null,
      "outputs": [
        {
          "output_type": "execute_result",
          "data": {
            "text/plain": [
              "DecisionTreeClassifier(min_samples_leaf=50)"
            ],
            "text/html": [
              "<style>#sk-container-id-1 {color: black;background-color: white;}#sk-container-id-1 pre{padding: 0;}#sk-container-id-1 div.sk-toggleable {background-color: white;}#sk-container-id-1 label.sk-toggleable__label {cursor: pointer;display: block;width: 100%;margin-bottom: 0;padding: 0.3em;box-sizing: border-box;text-align: center;}#sk-container-id-1 label.sk-toggleable__label-arrow:before {content: \"▸\";float: left;margin-right: 0.25em;color: #696969;}#sk-container-id-1 label.sk-toggleable__label-arrow:hover:before {color: black;}#sk-container-id-1 div.sk-estimator:hover label.sk-toggleable__label-arrow:before {color: black;}#sk-container-id-1 div.sk-toggleable__content {max-height: 0;max-width: 0;overflow: hidden;text-align: left;background-color: #f0f8ff;}#sk-container-id-1 div.sk-toggleable__content pre {margin: 0.2em;color: black;border-radius: 0.25em;background-color: #f0f8ff;}#sk-container-id-1 input.sk-toggleable__control:checked~div.sk-toggleable__content {max-height: 200px;max-width: 100%;overflow: auto;}#sk-container-id-1 input.sk-toggleable__control:checked~label.sk-toggleable__label-arrow:before {content: \"▾\";}#sk-container-id-1 div.sk-estimator input.sk-toggleable__control:checked~label.sk-toggleable__label {background-color: #d4ebff;}#sk-container-id-1 div.sk-label input.sk-toggleable__control:checked~label.sk-toggleable__label {background-color: #d4ebff;}#sk-container-id-1 input.sk-hidden--visually {border: 0;clip: rect(1px 1px 1px 1px);clip: rect(1px, 1px, 1px, 1px);height: 1px;margin: -1px;overflow: hidden;padding: 0;position: absolute;width: 1px;}#sk-container-id-1 div.sk-estimator {font-family: monospace;background-color: #f0f8ff;border: 1px dotted black;border-radius: 0.25em;box-sizing: border-box;margin-bottom: 0.5em;}#sk-container-id-1 div.sk-estimator:hover {background-color: #d4ebff;}#sk-container-id-1 div.sk-parallel-item::after {content: \"\";width: 100%;border-bottom: 1px solid gray;flex-grow: 1;}#sk-container-id-1 div.sk-label:hover label.sk-toggleable__label {background-color: #d4ebff;}#sk-container-id-1 div.sk-serial::before {content: \"\";position: absolute;border-left: 1px solid gray;box-sizing: border-box;top: 0;bottom: 0;left: 50%;z-index: 0;}#sk-container-id-1 div.sk-serial {display: flex;flex-direction: column;align-items: center;background-color: white;padding-right: 0.2em;padding-left: 0.2em;position: relative;}#sk-container-id-1 div.sk-item {position: relative;z-index: 1;}#sk-container-id-1 div.sk-parallel {display: flex;align-items: stretch;justify-content: center;background-color: white;position: relative;}#sk-container-id-1 div.sk-item::before, #sk-container-id-1 div.sk-parallel-item::before {content: \"\";position: absolute;border-left: 1px solid gray;box-sizing: border-box;top: 0;bottom: 0;left: 50%;z-index: -1;}#sk-container-id-1 div.sk-parallel-item {display: flex;flex-direction: column;z-index: 1;position: relative;background-color: white;}#sk-container-id-1 div.sk-parallel-item:first-child::after {align-self: flex-end;width: 50%;}#sk-container-id-1 div.sk-parallel-item:last-child::after {align-self: flex-start;width: 50%;}#sk-container-id-1 div.sk-parallel-item:only-child::after {width: 0;}#sk-container-id-1 div.sk-dashed-wrapped {border: 1px dashed gray;margin: 0 0.4em 0.5em 0.4em;box-sizing: border-box;padding-bottom: 0.4em;background-color: white;}#sk-container-id-1 div.sk-label label {font-family: monospace;font-weight: bold;display: inline-block;line-height: 1.2em;}#sk-container-id-1 div.sk-label-container {text-align: center;}#sk-container-id-1 div.sk-container {/* jupyter's `normalize.less` sets `[hidden] { display: none; }` but bootstrap.min.css set `[hidden] { display: none !important; }` so we also need the `!important` here to be able to override the default hidden behavior on the sphinx rendered scikit-learn.org. See: https://github.com/scikit-learn/scikit-learn/issues/21755 */display: inline-block !important;position: relative;}#sk-container-id-1 div.sk-text-repr-fallback {display: none;}</style><div id=\"sk-container-id-1\" class=\"sk-top-container\"><div class=\"sk-text-repr-fallback\"><pre>DecisionTreeClassifier(min_samples_leaf=50)</pre><b>In a Jupyter environment, please rerun this cell to show the HTML representation or trust the notebook. <br />On GitHub, the HTML representation is unable to render, please try loading this page with nbviewer.org.</b></div><div class=\"sk-container\" hidden><div class=\"sk-item\"><div class=\"sk-estimator sk-toggleable\"><input class=\"sk-toggleable__control sk-hidden--visually\" id=\"sk-estimator-id-1\" type=\"checkbox\" checked><label for=\"sk-estimator-id-1\" class=\"sk-toggleable__label sk-toggleable__label-arrow\">DecisionTreeClassifier</label><div class=\"sk-toggleable__content\"><pre>DecisionTreeClassifier(min_samples_leaf=50)</pre></div></div></div></div></div>"
            ]
          },
          "metadata": {},
          "execution_count": 12
        }
      ]
    },
    {
      "cell_type": "markdown",
      "source": [
        "# 3. Evaluación"
      ],
      "metadata": {
        "id": "711Fe_D8mZQ7"
      }
    },
    {
      "cell_type": "markdown",
      "source": [
        "## 3.1 Matriz de confusión"
      ],
      "metadata": {
        "id": "zQXvu0oEVonQ"
      }
    },
    {
      "cell_type": "code",
      "source": [
        "# 3\n",
        "# Confusion matrix\n",
        "y_pred = clf.predict(X_test)\n",
        "cm = confusion_matrix(y_test, y_pred)\n",
        "\n",
        "print(' Confusion matrix ------------------')\n",
        "print(cm)\n",
        "\n",
        "sum_diag = sum(cm[i][i] for i in range(2))\n",
        "sum_all = sum(sum(cm))\n",
        "\n",
        "print('\\n % Corr ----------------------------')\n",
        "print( sum_diag/sum_all*100 )\n",
        "\n",
        "# Classification report\n",
        "from sklearn.metrics import classification_report\n",
        "target_names = ['0', '1']\n",
        "\n",
        "print('\\n Classification report ------------------')\n",
        "report = classification_report(y_test, y_pred, target_names=target_names,output_dict=True)\n",
        "print('Class 0 (No Churn) %s: ' % report['0'])\n",
        "print('Class 1 (Churn) %s: ' % report['1'])"
      ],
      "metadata": {
        "colab": {
          "base_uri": "https://localhost:8080/"
        },
        "id": "7RTbWpysmbt9",
        "outputId": "a7b079f9-3385-4406-870f-255b5c8b4a23"
      },
      "execution_count": null,
      "outputs": [
        {
          "output_type": "stream",
          "name": "stdout",
          "text": [
            " Confusion matrix ------------------\n",
            "[[2274  115]\n",
            " [ 363  248]]\n",
            "\n",
            " % Corr ----------------------------\n",
            "84.06666666666666\n",
            "\n",
            " Classification report ------------------\n",
            "Class 0 (No Churn) {'precision': 0.8623435722411832, 'recall': 0.9518627040602763, 'f1-score': 0.9048945483485873, 'support': 2389}: \n",
            "Class 1 (Churn) {'precision': 0.6831955922865014, 'recall': 0.40589198036006546, 'f1-score': 0.509240246406571, 'support': 611}: \n"
          ]
        }
      ]
    },
    {
      "cell_type": "markdown",
      "source": [
        "## 3.2 Scores de churn"
      ],
      "metadata": {
        "id": "vE2SwU3_VtNm"
      }
    },
    {
      "cell_type": "code",
      "source": [
        "prob = clf.predict_proba(X_test)\n",
        "print(prob.shape)\n",
        "\n",
        "plt.hist(prob[:,1], bins=50, cumulative=False)\n",
        "\n",
        "# Number of customers with prob of churn more thatn 0.3\n",
        "sum(prob[:,1]>0.5)"
      ],
      "metadata": {
        "colab": {
          "base_uri": "https://localhost:8080/",
          "height": 465
        },
        "id": "LpaiWZ8dNc-k",
        "outputId": "23938c7c-6e01-43f8-f9b4-85bff5c93b53"
      },
      "execution_count": null,
      "outputs": [
        {
          "output_type": "stream",
          "name": "stdout",
          "text": [
            "(3000, 2)\n"
          ]
        },
        {
          "output_type": "execute_result",
          "data": {
            "text/plain": [
              "363"
            ]
          },
          "metadata": {},
          "execution_count": 15
        },
        {
          "output_type": "display_data",
          "data": {
            "text/plain": [
              "<Figure size 640x480 with 1 Axes>"
            ],
            "image/png": "[encoded data removed]"
          },
          "metadata": {}
        }
      ]
    }
  ]
}
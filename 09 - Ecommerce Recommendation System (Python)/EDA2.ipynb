{
 "cells": [
  {
   "cell_type": "markdown",
   "metadata": {},
   "source": [
    "# Introducción"
   ]
  },
  {
   "cell_type": "markdown",
   "metadata": {},
   "source": [
    "En el Notebook anterior llegamos a varias conclusiones e hicimos varios cambios en el Dataframe, estos cambios vamos a replicarlos aquí, pero aprovechando las conclusiones a las que llegamos:\n",
    "\n",
    "* En un principio observamos una tabla con 8 columnas:\n",
    "\n",
    "InvoiceNo = El número de la factura\n",
    "\n",
    "StockCode = El codigo del producto\n",
    "\n",
    "Description = La descripción del producto\n",
    "\n",
    "Quantity = La cantidad de este producto en el pedido\n",
    "\n",
    "InvoiceDate = La fecha y hora del pedido\n",
    "\n",
    "UnitPrice = El precio por unidad\n",
    "\n",
    "CustomerID = El codigo de cliente\n",
    "\n",
    "Country = El país de compra\n",
    "\n",
    "* Había datos faltantes y descripciones no incluidas. En el Notebook anterior las borramos, pero en este caso vamos a profundizar más en estos datos.\n",
    "\n",
    "* Vimos que habia productos con precios inferiores a 0.01, los eliminamos\n",
    "\n",
    "* Vimos que existian varios tipos de ordenes, algunos eran pedidos, otros gastos de envio, otros cargos al banco, exactamente eran ('POST' 'D' 'C2' 'M' 'BANK CHARGES' 'DOT' 'CRUK')\n",
    "\n",
    "* Nos hicimos varias preguntas semillas:\n",
    "\n",
    "* ¿Quienes cancelan mas pedidos?\n",
    "* ¿Existen errores en las cancelaciones? (Que no sean de clientes por ejemplo)\n",
    "* ¿De que paises vienen unos gastos de envios u otros?, ¿afecta el volumen?\n",
    "* ¿Los cargos manuales vienen siempre de los mismos clientes?\n",
    "* ¿En que pedidos hay Bank Charges? ¿Tiene que ver el metodo de pago? ¿Es siempre la misma comision?\n",
    "* ¿Los CRUK son siempre devoluciones?¿Hay patrones entre aquellos clientes que usan CRUK?\n",
    "* Habria que señalar de alguna manera aquellos pedidos que hayan sido cancelados, por un lado, no tenerlos en cuenta como compras, por otro lado ver patrones entre clientes o productos asociados a cancelaciones.\n",
    "\n",
    "* Creamos varias columnas, estas eran\n",
    "\n",
    "* tipo: El tipo de transaccion: puede ser ORDER, BANK, CRUK, etc\n",
    "* Status: Si la transaccion es COMPLETED o CANCEL\n",
    "* TotalSales: Cantidad total de ventas en Unidades monetarias que ha vendido ese producto\n",
    "* TotalCancel: Cantidad total de cancelaciones en unidades monetarias que ha tenido ese producto\n",
    "* TasaCancel: Proporcion de cancelaciones sobre el numero total de ordenes (Este dato hay que modificarlo, ya que tenia en cuenta que las ordenes y las cancelaciones eran independientes, es decir, que cada cancelacion era una orden cancelada, pero no existia su orden equivalente)\n",
    "* CancelledCount: Cantidad de cancelaciones realizadas por ese cliente\n",
    "* CompletedCount: Cantidad de ordenes realizadas por ese cliente\n",
    "* TasaCancelCliente: Proporcion de cancelaciones sobre las totales realizadas por el cliente (Este dato tambien hay que modificarlo para que tenga en cuenta las orders Completed como ordenes totales)\n",
    "* Precio Total: El el coste total de ese articulo en el pedido (Precio * Cantidad)\n",
    "* Compras Totales: Total en unidades monetarias de compras realizadas por el cliente \n",
    "* Cancelaciones Totales: Total en unidades monetarias de cancelaciones realizadas por el cliente\n",
    "* NetIncome: Ingreso Neto (TotalSales - TotalCancel)-> Este dato si está bien calculado teniendo en cuenta que contamos con que las ordenes canceladas tienen una contraparte como orden completada\n",
    "\n",
    "* Nos dimos cuenta de que existian compras realizadas que eran un error, como por ejemplo PAPER CRAFT , LITTLE BIRDIE, que tiene un pedido de 80995, esto es una compra erronea y deberiamos evitar tener este tipo de pedidos en nuestro dataset ya que nubla el objetivo.\n",
    "\n",
    "Bien, comencemos con el nuevo EDA teniendo en cuenta las conclusiones anteriores\n"
   ]
  },
  {
   "cell_type": "markdown",
   "metadata": {},
   "source": [
    "# Importamos las librerias necesarias"
   ]
  },
  {
   "cell_type": "code",
   "execution_count": 66,
   "metadata": {},
   "outputs": [],
   "source": [
    "import warnings\n",
    "warnings.filterwarnings('ignore')"
   ]
  },
  {
   "cell_type": "code",
   "execution_count": 67,
   "metadata": {},
   "outputs": [],
   "source": [
    "import pandas as pd\n",
    "import matplotlib.pyplot as plt\n",
    "import seaborn as sns"
   ]
  },
  {
   "cell_type": "markdown",
   "metadata": {},
   "source": [
    "# Importamos el DataSet"
   ]
  },
  {
   "cell_type": "code",
   "execution_count": 68,
   "metadata": {},
   "outputs": [],
   "source": [
    "df = pd.read_csv('data.csv',encoding='latin1')"
   ]
  },
  {
   "cell_type": "markdown",
   "metadata": {},
   "source": [
    "# Revisamos el Dataframe"
   ]
  },
  {
   "cell_type": "code",
   "execution_count": 69,
   "metadata": {},
   "outputs": [
    {
     "data": {
      "text/html": [
       "<div>\n",
       "<style scoped>\n",
       "    .dataframe tbody tr th:only-of-type {\n",
       "        vertical-align: middle;\n",
       "    }\n",
       "\n",
       "    .dataframe tbody tr th {\n",
       "        vertical-align: top;\n",
       "    }\n",
       "\n",
       "    .dataframe thead th {\n",
       "        text-align: right;\n",
       "    }\n",
       "</style>\n",
       "<table border=\"1\" class=\"dataframe\">\n",
       "  <thead>\n",
       "    <tr style=\"text-align: right;\">\n",
       "      <th></th>\n",
       "      <th>InvoiceNo</th>\n",
       "      <th>StockCode</th>\n",
       "      <th>Description</th>\n",
       "      <th>Quantity</th>\n",
       "      <th>InvoiceDate</th>\n",
       "      <th>UnitPrice</th>\n",
       "      <th>CustomerID</th>\n",
       "      <th>Country</th>\n",
       "    </tr>\n",
       "  </thead>\n",
       "  <tbody>\n",
       "    <tr>\n",
       "      <th>0</th>\n",
       "      <td>536365</td>\n",
       "      <td>85123A</td>\n",
       "      <td>WHITE HANGING HEART T-LIGHT HOLDER</td>\n",
       "      <td>6</td>\n",
       "      <td>12/1/2010 8:26</td>\n",
       "      <td>2.55</td>\n",
       "      <td>17850.0</td>\n",
       "      <td>United Kingdom</td>\n",
       "    </tr>\n",
       "    <tr>\n",
       "      <th>1</th>\n",
       "      <td>536365</td>\n",
       "      <td>71053</td>\n",
       "      <td>WHITE METAL LANTERN</td>\n",
       "      <td>6</td>\n",
       "      <td>12/1/2010 8:26</td>\n",
       "      <td>3.39</td>\n",
       "      <td>17850.0</td>\n",
       "      <td>United Kingdom</td>\n",
       "    </tr>\n",
       "    <tr>\n",
       "      <th>2</th>\n",
       "      <td>536365</td>\n",
       "      <td>84406B</td>\n",
       "      <td>CREAM CUPID HEARTS COAT HANGER</td>\n",
       "      <td>8</td>\n",
       "      <td>12/1/2010 8:26</td>\n",
       "      <td>2.75</td>\n",
       "      <td>17850.0</td>\n",
       "      <td>United Kingdom</td>\n",
       "    </tr>\n",
       "    <tr>\n",
       "      <th>3</th>\n",
       "      <td>536365</td>\n",
       "      <td>84029G</td>\n",
       "      <td>KNITTED UNION FLAG HOT WATER BOTTLE</td>\n",
       "      <td>6</td>\n",
       "      <td>12/1/2010 8:26</td>\n",
       "      <td>3.39</td>\n",
       "      <td>17850.0</td>\n",
       "      <td>United Kingdom</td>\n",
       "    </tr>\n",
       "    <tr>\n",
       "      <th>4</th>\n",
       "      <td>536365</td>\n",
       "      <td>84029E</td>\n",
       "      <td>RED WOOLLY HOTTIE WHITE HEART.</td>\n",
       "      <td>6</td>\n",
       "      <td>12/1/2010 8:26</td>\n",
       "      <td>3.39</td>\n",
       "      <td>17850.0</td>\n",
       "      <td>United Kingdom</td>\n",
       "    </tr>\n",
       "    <tr>\n",
       "      <th>...</th>\n",
       "      <td>...</td>\n",
       "      <td>...</td>\n",
       "      <td>...</td>\n",
       "      <td>...</td>\n",
       "      <td>...</td>\n",
       "      <td>...</td>\n",
       "      <td>...</td>\n",
       "      <td>...</td>\n",
       "    </tr>\n",
       "    <tr>\n",
       "      <th>541904</th>\n",
       "      <td>581587</td>\n",
       "      <td>22613</td>\n",
       "      <td>PACK OF 20 SPACEBOY NAPKINS</td>\n",
       "      <td>12</td>\n",
       "      <td>12/9/2011 12:50</td>\n",
       "      <td>0.85</td>\n",
       "      <td>12680.0</td>\n",
       "      <td>France</td>\n",
       "    </tr>\n",
       "    <tr>\n",
       "      <th>541905</th>\n",
       "      <td>581587</td>\n",
       "      <td>22899</td>\n",
       "      <td>CHILDREN'S APRON DOLLY GIRL</td>\n",
       "      <td>6</td>\n",
       "      <td>12/9/2011 12:50</td>\n",
       "      <td>2.10</td>\n",
       "      <td>12680.0</td>\n",
       "      <td>France</td>\n",
       "    </tr>\n",
       "    <tr>\n",
       "      <th>541906</th>\n",
       "      <td>581587</td>\n",
       "      <td>23254</td>\n",
       "      <td>CHILDRENS CUTLERY DOLLY GIRL</td>\n",
       "      <td>4</td>\n",
       "      <td>12/9/2011 12:50</td>\n",
       "      <td>4.15</td>\n",
       "      <td>12680.0</td>\n",
       "      <td>France</td>\n",
       "    </tr>\n",
       "    <tr>\n",
       "      <th>541907</th>\n",
       "      <td>581587</td>\n",
       "      <td>23255</td>\n",
       "      <td>CHILDRENS CUTLERY CIRCUS PARADE</td>\n",
       "      <td>4</td>\n",
       "      <td>12/9/2011 12:50</td>\n",
       "      <td>4.15</td>\n",
       "      <td>12680.0</td>\n",
       "      <td>France</td>\n",
       "    </tr>\n",
       "    <tr>\n",
       "      <th>541908</th>\n",
       "      <td>581587</td>\n",
       "      <td>22138</td>\n",
       "      <td>BAKING SET 9 PIECE RETROSPOT</td>\n",
       "      <td>3</td>\n",
       "      <td>12/9/2011 12:50</td>\n",
       "      <td>4.95</td>\n",
       "      <td>12680.0</td>\n",
       "      <td>France</td>\n",
       "    </tr>\n",
       "  </tbody>\n",
       "</table>\n",
       "<p>541909 rows × 8 columns</p>\n",
       "</div>"
      ],
      "text/plain": [
       "       InvoiceNo StockCode                          Description  Quantity  \\\n",
       "0         536365    85123A   WHITE HANGING HEART T-LIGHT HOLDER         6   \n",
       "1         536365     71053                  WHITE METAL LANTERN         6   \n",
       "2         536365    84406B       CREAM CUPID HEARTS COAT HANGER         8   \n",
       "3         536365    84029G  KNITTED UNION FLAG HOT WATER BOTTLE         6   \n",
       "4         536365    84029E       RED WOOLLY HOTTIE WHITE HEART.         6   \n",
       "...          ...       ...                                  ...       ...   \n",
       "541904    581587     22613          PACK OF 20 SPACEBOY NAPKINS        12   \n",
       "541905    581587     22899         CHILDREN'S APRON DOLLY GIRL          6   \n",
       "541906    581587     23254        CHILDRENS CUTLERY DOLLY GIRL          4   \n",
       "541907    581587     23255      CHILDRENS CUTLERY CIRCUS PARADE         4   \n",
       "541908    581587     22138        BAKING SET 9 PIECE RETROSPOT          3   \n",
       "\n",
       "            InvoiceDate  UnitPrice  CustomerID         Country  \n",
       "0        12/1/2010 8:26       2.55     17850.0  United Kingdom  \n",
       "1        12/1/2010 8:26       3.39     17850.0  United Kingdom  \n",
       "2        12/1/2010 8:26       2.75     17850.0  United Kingdom  \n",
       "3        12/1/2010 8:26       3.39     17850.0  United Kingdom  \n",
       "4        12/1/2010 8:26       3.39     17850.0  United Kingdom  \n",
       "...                 ...        ...         ...             ...  \n",
       "541904  12/9/2011 12:50       0.85     12680.0          France  \n",
       "541905  12/9/2011 12:50       2.10     12680.0          France  \n",
       "541906  12/9/2011 12:50       4.15     12680.0          France  \n",
       "541907  12/9/2011 12:50       4.15     12680.0          France  \n",
       "541908  12/9/2011 12:50       4.95     12680.0          France  \n",
       "\n",
       "[541909 rows x 8 columns]"
      ]
     },
     "execution_count": 69,
     "metadata": {},
     "output_type": "execute_result"
    }
   ],
   "source": [
    "df"
   ]
  },
  {
   "cell_type": "markdown",
   "metadata": {},
   "source": [
    "En este caso, antes de eliminar los valores nulos, vamos a comprobar si alguno son cancelaciones e intentaremos casarlas con ordenes completadas.\n",
    "Las conclusiones realizadas en el anterior Notebook no se repetirán aquí para evitar redundancia, de esta manera los pasos ya realizados no se explicarán para mejorar la fluidez."
   ]
  },
  {
   "cell_type": "code",
   "execution_count": 70,
   "metadata": {},
   "outputs": [
    {
     "name": "stdout",
     "output_type": "stream",
     "text": [
      "<class 'pandas.core.frame.DataFrame'>\n",
      "RangeIndex: 541909 entries, 0 to 541908\n",
      "Data columns (total 8 columns):\n",
      " #   Column       Non-Null Count   Dtype  \n",
      "---  ------       --------------   -----  \n",
      " 0   InvoiceNo    541909 non-null  object \n",
      " 1   StockCode    541909 non-null  object \n",
      " 2   Description  540455 non-null  object \n",
      " 3   Quantity     541909 non-null  int64  \n",
      " 4   InvoiceDate  541909 non-null  object \n",
      " 5   UnitPrice    541909 non-null  float64\n",
      " 6   CustomerID   406829 non-null  float64\n",
      " 7   Country      541909 non-null  object \n",
      "dtypes: float64(2), int64(1), object(5)\n",
      "memory usage: 33.1+ MB\n"
     ]
    }
   ],
   "source": [
    "df.info()"
   ]
  },
  {
   "cell_type": "code",
   "execution_count": 71,
   "metadata": {},
   "outputs": [
    {
     "data": {
      "text/plain": [
       "InvoiceNo           0\n",
       "StockCode           0\n",
       "Description      1454\n",
       "Quantity            0\n",
       "InvoiceDate         0\n",
       "UnitPrice           0\n",
       "CustomerID     135080\n",
       "Country             0\n",
       "dtype: int64"
      ]
     },
     "execution_count": 71,
     "metadata": {},
     "output_type": "execute_result"
    }
   ],
   "source": [
    "# Comprobar valores nulos\n",
    "df.isna().sum()"
   ]
  },
  {
   "cell_type": "code",
   "execution_count": 72,
   "metadata": {},
   "outputs": [
    {
     "name": "stdout",
     "output_type": "stream",
     "text": [
      "StockCode\n",
      "35965     10\n",
      "23084     10\n",
      "22084      9\n",
      "22451      6\n",
      "22501      5\n",
      "          ..\n",
      "16169P     1\n",
      "84846A     1\n",
      "82545A     1\n",
      "84251F     1\n",
      "85175      1\n",
      "Name: count, Length: 960, dtype: int64\n"
     ]
    }
   ],
   "source": [
    "# veamos cuantas veces se repite cada StockCode con description nula\n",
    "# Filtrar para obtener solo las filas donde 'description' es nulo\n",
    "df_null_descriptions = df[df['Description'].isnull()]\n",
    "\n",
    "# Contar cuántas veces se repite cada StockCode\n",
    "stockcode_counts = df_null_descriptions['StockCode'].value_counts()\n",
    "\n",
    "print(stockcode_counts)"
   ]
  },
  {
   "cell_type": "markdown",
   "metadata": {},
   "source": [
    "Vamos a revisar estos StockCodes para ver que información podemos sacar de ellos\n"
   ]
  },
  {
   "cell_type": "code",
   "execution_count": 73,
   "metadata": {},
   "outputs": [
    {
     "data": {
      "text/html": [
       "<div>\n",
       "<style scoped>\n",
       "    .dataframe tbody tr th:only-of-type {\n",
       "        vertical-align: middle;\n",
       "    }\n",
       "\n",
       "    .dataframe tbody tr th {\n",
       "        vertical-align: top;\n",
       "    }\n",
       "\n",
       "    .dataframe thead th {\n",
       "        text-align: right;\n",
       "    }\n",
       "</style>\n",
       "<table border=\"1\" class=\"dataframe\">\n",
       "  <thead>\n",
       "    <tr style=\"text-align: right;\">\n",
       "      <th></th>\n",
       "      <th>InvoiceNo</th>\n",
       "      <th>StockCode</th>\n",
       "      <th>Description</th>\n",
       "      <th>Quantity</th>\n",
       "      <th>InvoiceDate</th>\n",
       "      <th>UnitPrice</th>\n",
       "      <th>CustomerID</th>\n",
       "      <th>Country</th>\n",
       "    </tr>\n",
       "  </thead>\n",
       "  <tbody>\n",
       "    <tr>\n",
       "      <th>2889</th>\n",
       "      <td>536592</td>\n",
       "      <td>35965</td>\n",
       "      <td>FOLKART HEART NAPKIN RINGS</td>\n",
       "      <td>4</td>\n",
       "      <td>12/1/2010 17:06</td>\n",
       "      <td>3.36</td>\n",
       "      <td>NaN</td>\n",
       "      <td>United Kingdom</td>\n",
       "    </tr>\n",
       "    <tr>\n",
       "      <th>6017</th>\n",
       "      <td>536876</td>\n",
       "      <td>35965</td>\n",
       "      <td>FOLKART HEART NAPKIN RINGS</td>\n",
       "      <td>1</td>\n",
       "      <td>12/3/2010 11:36</td>\n",
       "      <td>3.36</td>\n",
       "      <td>NaN</td>\n",
       "      <td>United Kingdom</td>\n",
       "    </tr>\n",
       "    <tr>\n",
       "      <th>7205</th>\n",
       "      <td>537013</td>\n",
       "      <td>35965</td>\n",
       "      <td>NaN</td>\n",
       "      <td>-25</td>\n",
       "      <td>12/3/2010 15:40</td>\n",
       "      <td>0.00</td>\n",
       "      <td>NaN</td>\n",
       "      <td>United Kingdom</td>\n",
       "    </tr>\n",
       "    <tr>\n",
       "      <th>8071</th>\n",
       "      <td>537126</td>\n",
       "      <td>35965</td>\n",
       "      <td>FOLKART HEART NAPKIN RINGS</td>\n",
       "      <td>1</td>\n",
       "      <td>12/5/2010 12:13</td>\n",
       "      <td>2.95</td>\n",
       "      <td>18118.0</td>\n",
       "      <td>United Kingdom</td>\n",
       "    </tr>\n",
       "    <tr>\n",
       "      <th>10678</th>\n",
       "      <td>537237</td>\n",
       "      <td>35965</td>\n",
       "      <td>FOLKART HEART NAPKIN RINGS</td>\n",
       "      <td>3</td>\n",
       "      <td>12/6/2010 9:58</td>\n",
       "      <td>3.36</td>\n",
       "      <td>NaN</td>\n",
       "      <td>United Kingdom</td>\n",
       "    </tr>\n",
       "    <tr>\n",
       "      <th>...</th>\n",
       "      <td>...</td>\n",
       "      <td>...</td>\n",
       "      <td>...</td>\n",
       "      <td>...</td>\n",
       "      <td>...</td>\n",
       "      <td>...</td>\n",
       "      <td>...</td>\n",
       "      <td>...</td>\n",
       "    </tr>\n",
       "    <tr>\n",
       "      <th>347758</th>\n",
       "      <td>567337</td>\n",
       "      <td>35965</td>\n",
       "      <td>NaN</td>\n",
       "      <td>5</td>\n",
       "      <td>9/19/2011 14:56</td>\n",
       "      <td>0.00</td>\n",
       "      <td>NaN</td>\n",
       "      <td>United Kingdom</td>\n",
       "    </tr>\n",
       "    <tr>\n",
       "      <th>349563</th>\n",
       "      <td>567507</td>\n",
       "      <td>35965</td>\n",
       "      <td>FOLKART HEART NAPKIN RINGS</td>\n",
       "      <td>12</td>\n",
       "      <td>9/20/2011 14:46</td>\n",
       "      <td>0.97</td>\n",
       "      <td>NaN</td>\n",
       "      <td>United Kingdom</td>\n",
       "    </tr>\n",
       "    <tr>\n",
       "      <th>454169</th>\n",
       "      <td>575513</td>\n",
       "      <td>35965</td>\n",
       "      <td>NaN</td>\n",
       "      <td>7</td>\n",
       "      <td>11/10/2011 10:39</td>\n",
       "      <td>0.00</td>\n",
       "      <td>NaN</td>\n",
       "      <td>United Kingdom</td>\n",
       "    </tr>\n",
       "    <tr>\n",
       "      <th>464522</th>\n",
       "      <td>576110</td>\n",
       "      <td>35965</td>\n",
       "      <td>NaN</td>\n",
       "      <td>5</td>\n",
       "      <td>11/14/2011 10:33</td>\n",
       "      <td>0.00</td>\n",
       "      <td>NaN</td>\n",
       "      <td>United Kingdom</td>\n",
       "    </tr>\n",
       "    <tr>\n",
       "      <th>471033</th>\n",
       "      <td>576618</td>\n",
       "      <td>35965</td>\n",
       "      <td>FOLKART HEART NAPKIN RINGS</td>\n",
       "      <td>12</td>\n",
       "      <td>11/15/2011 17:00</td>\n",
       "      <td>0.55</td>\n",
       "      <td>NaN</td>\n",
       "      <td>United Kingdom</td>\n",
       "    </tr>\n",
       "  </tbody>\n",
       "</table>\n",
       "<p>83 rows × 8 columns</p>\n",
       "</div>"
      ],
      "text/plain": [
       "       InvoiceNo StockCode                 Description  Quantity  \\\n",
       "2889      536592     35965  FOLKART HEART NAPKIN RINGS         4   \n",
       "6017      536876     35965  FOLKART HEART NAPKIN RINGS         1   \n",
       "7205      537013     35965                         NaN       -25   \n",
       "8071      537126     35965  FOLKART HEART NAPKIN RINGS         1   \n",
       "10678     537237     35965  FOLKART HEART NAPKIN RINGS         3   \n",
       "...          ...       ...                         ...       ...   \n",
       "347758    567337     35965                         NaN         5   \n",
       "349563    567507     35965  FOLKART HEART NAPKIN RINGS        12   \n",
       "454169    575513     35965                         NaN         7   \n",
       "464522    576110     35965                         NaN         5   \n",
       "471033    576618     35965  FOLKART HEART NAPKIN RINGS        12   \n",
       "\n",
       "             InvoiceDate  UnitPrice  CustomerID         Country  \n",
       "2889     12/1/2010 17:06       3.36         NaN  United Kingdom  \n",
       "6017     12/3/2010 11:36       3.36         NaN  United Kingdom  \n",
       "7205     12/3/2010 15:40       0.00         NaN  United Kingdom  \n",
       "8071     12/5/2010 12:13       2.95     18118.0  United Kingdom  \n",
       "10678     12/6/2010 9:58       3.36         NaN  United Kingdom  \n",
       "...                  ...        ...         ...             ...  \n",
       "347758   9/19/2011 14:56       0.00         NaN  United Kingdom  \n",
       "349563   9/20/2011 14:46       0.97         NaN  United Kingdom  \n",
       "454169  11/10/2011 10:39       0.00         NaN  United Kingdom  \n",
       "464522  11/14/2011 10:33       0.00         NaN  United Kingdom  \n",
       "471033  11/15/2011 17:00       0.55         NaN  United Kingdom  \n",
       "\n",
       "[83 rows x 8 columns]"
      ]
     },
     "execution_count": 73,
     "metadata": {},
     "output_type": "execute_result"
    }
   ],
   "source": [
    "df[df['StockCode'] == '35965']"
   ]
  },
  {
   "cell_type": "markdown",
   "metadata": {},
   "source": [
    "Aqui vemos un error que cometimos en el anterior Notebook, ya que si existen descripciones NaN para productos que tienen descripciones en otras entradas. Tambien podemos observar que hay entradas con una cantidad negativa y que no están marcadas como cancelaciones.\n",
    "\n",
    "En este caso podriamos imputar la descripción FOLKART HEART NAPKIN RINGS, para el producto con StockCode 35965, pero podemos ver que aquellas entradas sin descripción, tampoco tienen un CustomerID, ni Unitprice en algunas, y posibles errores en quantity.\n",
    "\n",
    "De momento vamos a eliminar aquellos sin CustomerID y veamos cuantas descripciones nulas quedan."
   ]
  },
  {
   "cell_type": "code",
   "execution_count": 74,
   "metadata": {},
   "outputs": [],
   "source": [
    "# Eliminar las filas donde el CustomerID es nulo\n",
    "df = df.dropna(subset=['CustomerID'])"
   ]
  },
  {
   "cell_type": "code",
   "execution_count": 75,
   "metadata": {},
   "outputs": [
    {
     "data": {
      "text/plain": [
       "InvoiceNo      0\n",
       "StockCode      0\n",
       "Description    0\n",
       "Quantity       0\n",
       "InvoiceDate    0\n",
       "UnitPrice      0\n",
       "CustomerID     0\n",
       "Country        0\n",
       "dtype: int64"
      ]
     },
     "execution_count": 75,
     "metadata": {},
     "output_type": "execute_result"
    }
   ],
   "source": [
    "# Comprobar valores nulos\n",
    "df.isna().sum()"
   ]
  },
  {
   "cell_type": "markdown",
   "metadata": {},
   "source": [
    "Tras eliminar los valores nulos en CustomerID ya no quedan productos con descripcion nula. Así que continuaremos así.\n",
    "En el EDA 1 llegamos a la conclusión de que debíamos eliminar los duplicados y borrar aquellas entradas con precios inferiores a 0.01"
   ]
  },
  {
   "cell_type": "code",
   "execution_count": 76,
   "metadata": {},
   "outputs": [],
   "source": [
    "# Removing duplicate rows\n",
    "df.drop_duplicates(inplace=True)"
   ]
  },
  {
   "cell_type": "code",
   "execution_count": 77,
   "metadata": {},
   "outputs": [],
   "source": [
    "# Borramos las entradas con UnitPrice menores a 0.01\n",
    "\n",
    "df = df[df['UnitPrice'] >= 0.01]"
   ]
  },
  {
   "cell_type": "code",
   "execution_count": 78,
   "metadata": {},
   "outputs": [
    {
     "data": {
      "text/plain": [
       "401560"
      ]
     },
     "execution_count": 78,
     "metadata": {},
     "output_type": "execute_result"
    }
   ],
   "source": [
    "# Vemos cuantas entradas han quedado\n",
    "df.shape[0]"
   ]
  },
  {
   "cell_type": "code",
   "execution_count": 79,
   "metadata": {},
   "outputs": [
    {
     "name": "stdout",
     "output_type": "stream",
     "text": [
      "Value counts of numeric character frequencies in unique stock codes:\n",
      "----------------------------------------------------------------------\n",
      "5    3676\n",
      "0       6\n",
      "1       1\n",
      "Name: count, dtype: int64\n",
      "Anomalous stock codes:\n",
      "----------------------\n",
      "POST\n",
      "D\n",
      "C2\n",
      "M\n",
      "BANK CHARGES\n",
      "DOT\n",
      "CRUK\n"
     ]
    }
   ],
   "source": [
    "\n",
    "# Encontrando el número de caracteres numéricos en cada código de stock único\n",
    "unique_stock_codes = df['StockCode'].unique()\n",
    "numeric_char_counts_in_unique_codes = pd.Series(unique_stock_codes).apply(lambda x: sum(c.isdigit() for c in str(x))).value_counts()\n",
    "\n",
    "\n",
    "# Impresión de los recuentos de valores para códigos de stock únicos\n",
    "print(\"Value counts of numeric character frequencies in unique stock codes:\")\n",
    "print(\"-\"*70)\n",
    "print(numeric_char_counts_in_unique_codes)\n",
    "\n",
    "\n",
    "# Encontrar e imprimir los códigos de stock con 0 y 1 caracteres numéricos\n",
    "anomalous_stock_codes = [code for code in unique_stock_codes if sum(c.isdigit() for c in str(code)) in (0, 1)]\n",
    "\n",
    "# Imprimir cada código de stock en una nueva línea\n",
    "print(\"Anomalous stock codes:\")\n",
    "print(\"-\"*22)\n",
    "for code in anomalous_stock_codes:\n",
    "    print(code)"
   ]
  },
  {
   "cell_type": "markdown",
   "metadata": {},
   "source": [
    "Volvemos a crear la columna tipo"
   ]
  },
  {
   "cell_type": "code",
   "execution_count": 80,
   "metadata": {},
   "outputs": [],
   "source": [
    "# Funcion de clasificacion\n",
    "\n",
    "def clasificar_stockcode(stockcode):\n",
    "    if stockcode == 'POST':\n",
    "        return 'POST'\n",
    "    elif stockcode == 'D':\n",
    "        return 'DISCOUNT'\n",
    "    elif stockcode == 'DOT':\n",
    "        return 'DOTCOM'\n",
    "    elif stockcode == 'C2':\n",
    "        return 'CARRIAGE'\n",
    "    elif stockcode == 'M':\n",
    "        return 'MANUAL'\n",
    "    elif stockcode == 'CRUK':\n",
    "        return 'CRUK'\n",
    "    elif stockcode == 'BANK CHARGES':\n",
    "        return 'BANK'\n",
    "    elif stockcode.isdigit() or (len(stockcode) > 1 and any(char.isdigit() for char in stockcode) and any(char.isalpha() for char in stockcode)):\n",
    "        return 'ORDER'\n",
    "    else:\n",
    "        return 'Other'\n",
    "\n",
    "# Aplicando la función a la columna StockCode para crear una nueva columna\n",
    "df['tipo'] = df['StockCode'].apply(clasificar_stockcode)"
   ]
  },
  {
   "cell_type": "code",
   "execution_count": 81,
   "metadata": {},
   "outputs": [],
   "source": [
    "# Vamos a marcar las cancelaciones y las ordenes normales\n",
    "\n",
    "df['Status'] = df['InvoiceNo'].apply(lambda x: 'CANCEL' if str(x).startswith('C') else 'COMPLETED')"
   ]
  },
  {
   "cell_type": "code",
   "execution_count": 82,
   "metadata": {},
   "outputs": [
    {
     "data": {
      "text/plain": [
       "InvoiceNo      8506\n",
       "StockCode      8506\n",
       "Description    8506\n",
       "Quantity       8506\n",
       "InvoiceDate    8506\n",
       "UnitPrice      8506\n",
       "CustomerID     8506\n",
       "Country        8506\n",
       "tipo           8506\n",
       "Status         8506\n",
       "dtype: int64"
      ]
     },
     "execution_count": 82,
     "metadata": {},
     "output_type": "execute_result"
    }
   ],
   "source": [
    "# Contando cuántas órdenes son canceladas y de tipo 'ORDER'\n",
    "df[(df['Status'] == 'CANCEL') & (df['tipo'] == 'ORDER')].count()"
   ]
  },
  {
   "cell_type": "code",
   "execution_count": 83,
   "metadata": {},
   "outputs": [
    {
     "data": {
      "text/plain": [
       "InvoiceNo      366\n",
       "StockCode      366\n",
       "Description    366\n",
       "Quantity       366\n",
       "InvoiceDate    366\n",
       "UnitPrice      366\n",
       "CustomerID     366\n",
       "Country        366\n",
       "tipo           366\n",
       "Status         366\n",
       "dtype: int64"
      ]
     },
     "execution_count": 83,
     "metadata": {},
     "output_type": "execute_result"
    }
   ],
   "source": [
    "# Contando cuántas órdenes son canceladas y no son de tipo 'ORDER'\n",
    "df[(df['Status'] == 'CANCEL') & (df['tipo'] != 'ORDER')].count()"
   ]
  },
  {
   "cell_type": "code",
   "execution_count": 84,
   "metadata": {},
   "outputs": [
    {
     "data": {
      "text/plain": [
       "InvoiceNo      391150\n",
       "StockCode      391150\n",
       "Description    391150\n",
       "Quantity       391150\n",
       "InvoiceDate    391150\n",
       "UnitPrice      391150\n",
       "CustomerID     391150\n",
       "Country        391150\n",
       "tipo           391150\n",
       "Status         391150\n",
       "dtype: int64"
      ]
     },
     "execution_count": 84,
     "metadata": {},
     "output_type": "execute_result"
    }
   ],
   "source": [
    "# Contando cuántas órdenes no son cancelaciones y son de tipo 'ORDER'\n",
    "df[(df['Status'] == 'COMPLETED') & (df['tipo'] == 'ORDER')].count()"
   ]
  },
  {
   "cell_type": "code",
   "execution_count": 85,
   "metadata": {},
   "outputs": [
    {
     "data": {
      "text/plain": [
       "InvoiceNo      399656\n",
       "StockCode      399656\n",
       "Description    399656\n",
       "Quantity       399656\n",
       "InvoiceDate    399656\n",
       "UnitPrice      399656\n",
       "CustomerID     399656\n",
       "Country        399656\n",
       "tipo           399656\n",
       "Status         399656\n",
       "dtype: int64"
      ]
     },
     "execution_count": 85,
     "metadata": {},
     "output_type": "execute_result"
    }
   ],
   "source": [
    "# Contando cuántas órdenes son 'ORDER'\n",
    "df[df['tipo'] == 'ORDER'].count()"
   ]
  },
  {
   "cell_type": "code",
   "execution_count": 86,
   "metadata": {},
   "outputs": [
    {
     "data": {
      "text/plain": [
       "InvoiceNo      1904\n",
       "StockCode      1904\n",
       "Description    1904\n",
       "Quantity       1904\n",
       "InvoiceDate    1904\n",
       "UnitPrice      1904\n",
       "CustomerID     1904\n",
       "Country        1904\n",
       "tipo           1904\n",
       "Status         1904\n",
       "dtype: int64"
      ]
     },
     "execution_count": 86,
     "metadata": {},
     "output_type": "execute_result"
    }
   ],
   "source": [
    "# Contando cuántas órdenes son canceladas y no son de tipo 'ORDER'\n",
    "df[df['tipo'] != 'ORDER'].count()"
   ]
  },
  {
   "cell_type": "markdown",
   "metadata": {},
   "source": [
    "Por tanto tenemos:\n",
    "\n",
    "* 399.656 Ordenes ORDER\n",
    "* 391.150 Ordenes ORDER y no son cancelaciones\n",
    "* 8.506 son Cancelaciones\n",
    "* 366 Cancelaciones que no son pedidos, son otras tipificaciones\n",
    "* 1.904 entradas que no son ORDER, es decir, tienen una referencia especial\n",
    "\n",
    "En el anterior EDA vimos que habian cancelaciones que correspondían a ordenes, por tanto:\n",
    "\n",
    "* De las 399.656 ORDERS, 8.506 son cancelaciones y 391.150 son pedidos realizados, pero no todos se han completado.\n",
    "* Es decir, 391.150 pedidos - 8.506 cancelaciones = 382.644 son pedidos que se han completado correctamente\n",
    "\n",
    "Vamos a añadir este dato a una variable para usarla en los calculos de columnas"
   ]
  },
  {
   "cell_type": "code",
   "execution_count": 87,
   "metadata": {},
   "outputs": [],
   "source": [
    "# Declaro variables para generar las columnas, mantengo la formula de conteo para que en caso de hacer cambios anteriormente, se siga calculando. Uso InvoiceID para que devuelva un numero\n",
    "\n",
    "Pedidos_completados = (df[(df['Status'] == 'COMPLETED') & (df['tipo'] == 'ORDER')]['CustomerID'].count()) - (df[(df['Status'] == 'CANCEL') & (df['tipo'] == 'ORDER')]['CustomerID'].count())\n"
   ]
  },
  {
   "cell_type": "code",
   "execution_count": 88,
   "metadata": {},
   "outputs": [
    {
     "data": {
      "text/plain": [
       "382644"
      ]
     },
     "execution_count": 88,
     "metadata": {},
     "output_type": "execute_result"
    }
   ],
   "source": [
    "Pedidos_completados"
   ]
  },
  {
   "cell_type": "code",
   "execution_count": 89,
   "metadata": {},
   "outputs": [
    {
     "data": {
      "text/html": [
       "<div>\n",
       "<style scoped>\n",
       "    .dataframe tbody tr th:only-of-type {\n",
       "        vertical-align: middle;\n",
       "    }\n",
       "\n",
       "    .dataframe tbody tr th {\n",
       "        vertical-align: top;\n",
       "    }\n",
       "\n",
       "    .dataframe thead th {\n",
       "        text-align: right;\n",
       "    }\n",
       "</style>\n",
       "<table border=\"1\" class=\"dataframe\">\n",
       "  <thead>\n",
       "    <tr style=\"text-align: right;\">\n",
       "      <th></th>\n",
       "      <th>InvoiceNo</th>\n",
       "      <th>StockCode</th>\n",
       "      <th>Description</th>\n",
       "      <th>Quantity</th>\n",
       "      <th>InvoiceDate</th>\n",
       "      <th>UnitPrice</th>\n",
       "      <th>CustomerID</th>\n",
       "      <th>Country</th>\n",
       "      <th>tipo</th>\n",
       "      <th>Status</th>\n",
       "    </tr>\n",
       "  </thead>\n",
       "  <tbody>\n",
       "    <tr>\n",
       "      <th>0</th>\n",
       "      <td>536365</td>\n",
       "      <td>85123A</td>\n",
       "      <td>WHITE HANGING HEART T-LIGHT HOLDER</td>\n",
       "      <td>6</td>\n",
       "      <td>12/1/2010 8:26</td>\n",
       "      <td>2.55</td>\n",
       "      <td>17850.0</td>\n",
       "      <td>United Kingdom</td>\n",
       "      <td>ORDER</td>\n",
       "      <td>COMPLETED</td>\n",
       "    </tr>\n",
       "    <tr>\n",
       "      <th>1</th>\n",
       "      <td>536365</td>\n",
       "      <td>71053</td>\n",
       "      <td>WHITE METAL LANTERN</td>\n",
       "      <td>6</td>\n",
       "      <td>12/1/2010 8:26</td>\n",
       "      <td>3.39</td>\n",
       "      <td>17850.0</td>\n",
       "      <td>United Kingdom</td>\n",
       "      <td>ORDER</td>\n",
       "      <td>COMPLETED</td>\n",
       "    </tr>\n",
       "    <tr>\n",
       "      <th>2</th>\n",
       "      <td>536365</td>\n",
       "      <td>84406B</td>\n",
       "      <td>CREAM CUPID HEARTS COAT HANGER</td>\n",
       "      <td>8</td>\n",
       "      <td>12/1/2010 8:26</td>\n",
       "      <td>2.75</td>\n",
       "      <td>17850.0</td>\n",
       "      <td>United Kingdom</td>\n",
       "      <td>ORDER</td>\n",
       "      <td>COMPLETED</td>\n",
       "    </tr>\n",
       "    <tr>\n",
       "      <th>3</th>\n",
       "      <td>536365</td>\n",
       "      <td>84029G</td>\n",
       "      <td>KNITTED UNION FLAG HOT WATER BOTTLE</td>\n",
       "      <td>6</td>\n",
       "      <td>12/1/2010 8:26</td>\n",
       "      <td>3.39</td>\n",
       "      <td>17850.0</td>\n",
       "      <td>United Kingdom</td>\n",
       "      <td>ORDER</td>\n",
       "      <td>COMPLETED</td>\n",
       "    </tr>\n",
       "    <tr>\n",
       "      <th>4</th>\n",
       "      <td>536365</td>\n",
       "      <td>84029E</td>\n",
       "      <td>RED WOOLLY HOTTIE WHITE HEART.</td>\n",
       "      <td>6</td>\n",
       "      <td>12/1/2010 8:26</td>\n",
       "      <td>3.39</td>\n",
       "      <td>17850.0</td>\n",
       "      <td>United Kingdom</td>\n",
       "      <td>ORDER</td>\n",
       "      <td>COMPLETED</td>\n",
       "    </tr>\n",
       "    <tr>\n",
       "      <th>...</th>\n",
       "      <td>...</td>\n",
       "      <td>...</td>\n",
       "      <td>...</td>\n",
       "      <td>...</td>\n",
       "      <td>...</td>\n",
       "      <td>...</td>\n",
       "      <td>...</td>\n",
       "      <td>...</td>\n",
       "      <td>...</td>\n",
       "      <td>...</td>\n",
       "    </tr>\n",
       "    <tr>\n",
       "      <th>541904</th>\n",
       "      <td>581587</td>\n",
       "      <td>22613</td>\n",
       "      <td>PACK OF 20 SPACEBOY NAPKINS</td>\n",
       "      <td>12</td>\n",
       "      <td>12/9/2011 12:50</td>\n",
       "      <td>0.85</td>\n",
       "      <td>12680.0</td>\n",
       "      <td>France</td>\n",
       "      <td>ORDER</td>\n",
       "      <td>COMPLETED</td>\n",
       "    </tr>\n",
       "    <tr>\n",
       "      <th>541905</th>\n",
       "      <td>581587</td>\n",
       "      <td>22899</td>\n",
       "      <td>CHILDREN'S APRON DOLLY GIRL</td>\n",
       "      <td>6</td>\n",
       "      <td>12/9/2011 12:50</td>\n",
       "      <td>2.10</td>\n",
       "      <td>12680.0</td>\n",
       "      <td>France</td>\n",
       "      <td>ORDER</td>\n",
       "      <td>COMPLETED</td>\n",
       "    </tr>\n",
       "    <tr>\n",
       "      <th>541906</th>\n",
       "      <td>581587</td>\n",
       "      <td>23254</td>\n",
       "      <td>CHILDRENS CUTLERY DOLLY GIRL</td>\n",
       "      <td>4</td>\n",
       "      <td>12/9/2011 12:50</td>\n",
       "      <td>4.15</td>\n",
       "      <td>12680.0</td>\n",
       "      <td>France</td>\n",
       "      <td>ORDER</td>\n",
       "      <td>COMPLETED</td>\n",
       "    </tr>\n",
       "    <tr>\n",
       "      <th>541907</th>\n",
       "      <td>581587</td>\n",
       "      <td>23255</td>\n",
       "      <td>CHILDRENS CUTLERY CIRCUS PARADE</td>\n",
       "      <td>4</td>\n",
       "      <td>12/9/2011 12:50</td>\n",
       "      <td>4.15</td>\n",
       "      <td>12680.0</td>\n",
       "      <td>France</td>\n",
       "      <td>ORDER</td>\n",
       "      <td>COMPLETED</td>\n",
       "    </tr>\n",
       "    <tr>\n",
       "      <th>541908</th>\n",
       "      <td>581587</td>\n",
       "      <td>22138</td>\n",
       "      <td>BAKING SET 9 PIECE RETROSPOT</td>\n",
       "      <td>3</td>\n",
       "      <td>12/9/2011 12:50</td>\n",
       "      <td>4.95</td>\n",
       "      <td>12680.0</td>\n",
       "      <td>France</td>\n",
       "      <td>ORDER</td>\n",
       "      <td>COMPLETED</td>\n",
       "    </tr>\n",
       "  </tbody>\n",
       "</table>\n",
       "<p>401560 rows × 10 columns</p>\n",
       "</div>"
      ],
      "text/plain": [
       "       InvoiceNo StockCode                          Description  Quantity  \\\n",
       "0         536365    85123A   WHITE HANGING HEART T-LIGHT HOLDER         6   \n",
       "1         536365     71053                  WHITE METAL LANTERN         6   \n",
       "2         536365    84406B       CREAM CUPID HEARTS COAT HANGER         8   \n",
       "3         536365    84029G  KNITTED UNION FLAG HOT WATER BOTTLE         6   \n",
       "4         536365    84029E       RED WOOLLY HOTTIE WHITE HEART.         6   \n",
       "...          ...       ...                                  ...       ...   \n",
       "541904    581587     22613          PACK OF 20 SPACEBOY NAPKINS        12   \n",
       "541905    581587     22899         CHILDREN'S APRON DOLLY GIRL          6   \n",
       "541906    581587     23254        CHILDRENS CUTLERY DOLLY GIRL          4   \n",
       "541907    581587     23255      CHILDRENS CUTLERY CIRCUS PARADE         4   \n",
       "541908    581587     22138        BAKING SET 9 PIECE RETROSPOT          3   \n",
       "\n",
       "            InvoiceDate  UnitPrice  CustomerID         Country   tipo  \\\n",
       "0        12/1/2010 8:26       2.55     17850.0  United Kingdom  ORDER   \n",
       "1        12/1/2010 8:26       3.39     17850.0  United Kingdom  ORDER   \n",
       "2        12/1/2010 8:26       2.75     17850.0  United Kingdom  ORDER   \n",
       "3        12/1/2010 8:26       3.39     17850.0  United Kingdom  ORDER   \n",
       "4        12/1/2010 8:26       3.39     17850.0  United Kingdom  ORDER   \n",
       "...                 ...        ...         ...             ...    ...   \n",
       "541904  12/9/2011 12:50       0.85     12680.0          France  ORDER   \n",
       "541905  12/9/2011 12:50       2.10     12680.0          France  ORDER   \n",
       "541906  12/9/2011 12:50       4.15     12680.0          France  ORDER   \n",
       "541907  12/9/2011 12:50       4.15     12680.0          France  ORDER   \n",
       "541908  12/9/2011 12:50       4.95     12680.0          France  ORDER   \n",
       "\n",
       "           Status  \n",
       "0       COMPLETED  \n",
       "1       COMPLETED  \n",
       "2       COMPLETED  \n",
       "3       COMPLETED  \n",
       "4       COMPLETED  \n",
       "...           ...  \n",
       "541904  COMPLETED  \n",
       "541905  COMPLETED  \n",
       "541906  COMPLETED  \n",
       "541907  COMPLETED  \n",
       "541908  COMPLETED  \n",
       "\n",
       "[401560 rows x 10 columns]"
      ]
     },
     "execution_count": 89,
     "metadata": {},
     "output_type": "execute_result"
    }
   ],
   "source": [
    "df"
   ]
  },
  {
   "cell_type": "markdown",
   "metadata": {},
   "source": [
    "Vamos a crear columnas:"
   ]
  },
  {
   "cell_type": "code",
   "execution_count": 90,
   "metadata": {},
   "outputs": [],
   "source": [
    "# 1. TotalLine\n",
    "df['TotalLine'] = df['Quantity'] * df['UnitPrice']\n",
    "\n",
    "# 2. ProductTotalSales\n",
    "# Crear un DataFrame temporal con la suma de TotalInvoice para ventas completadas\n",
    "sales_sum = df[(df['Status'] == 'COMPLETED') & (df['tipo'] == 'ORDER')].groupby('StockCode')['TotalLine'].sum()\n",
    "# Unir esta suma al DataFrame original, asignando 0 a los valores nulos\n",
    "df['ProductTotalSales'] = df['StockCode'].map(sales_sum).fillna(0)\n",
    "\n",
    "# 3. ProductTotalCancel\n",
    "# Crear un DataFrame temporal con la suma de TotalInvoice para cancelaciones\n",
    "cancel_sum = df[(df['Status'] == 'CANCEL') & (df['tipo'] == 'ORDER')].groupby('StockCode')['TotalLine'].sum()\n",
    "# Unir esta suma al DataFrame original, asignando 0 a los valores nulos\n",
    "df['ProductTotalCancel'] = df['StockCode'].map(cancel_sum).fillna(0)"
   ]
  },
  {
   "cell_type": "code",
   "execution_count": 91,
   "metadata": {},
   "outputs": [],
   "source": [
    "# 1. ProductTotalNet\n",
    "df['ProductTotalNet'] = df['ProductTotalSales'] + df['ProductTotalCancel']\n",
    "df['ProductTotalNet'].fillna(0, inplace=True)\n",
    "\n",
    "# 2. TotalInvoice\n",
    "df['TotalInvoice'] = df.groupby('InvoiceNo')['TotalLine'].transform('sum')\n",
    "\n",
    "# 3. ClientTotalSales\n",
    "mask_completed = (df['Status'] == 'COMPLETED') & (df['tipo'] == 'ORDER')\n",
    "df['ClientTotalSales'] = df[mask_completed].groupby('CustomerID')['TotalLine'].transform('sum')\n",
    "df['ClientTotalSales'].fillna(0, inplace=True)\n",
    "\n",
    "# 4. ClientTotalCancel\n",
    "mask_cancel = (df['Status'] == 'CANCEL') & (df['tipo'] == 'ORDER')\n",
    "df['ClientTotalCancel'] = df[mask_cancel].groupby('CustomerID')['TotalLine'].transform('sum')\n",
    "df['ClientTotalCancel'].fillna(0, inplace=True)"
   ]
  },
  {
   "cell_type": "markdown",
   "metadata": {},
   "source": [
    "Hemos creado las siguientes columnas:\n",
    "\n",
    "* TotalLine: Precio total de la linea (UnitPrice * Quantity)\n",
    "* ProductTotalSales: Ventas totales de ese producto en u.m\n",
    "* ProductTotalCancel: Cancelaciones totales de ese producto en u.m\n",
    "* ProductTotalNet: Ingresos netos de ese producto en u.m\n",
    "* TotalInvoice: Total de la factura correspondiente a esa entrada en u.m\n",
    "* ClientTotalSales: Ventas totales a ese cliente en u.m\n",
    "* ClientTotalCancel: Cancelaciones totales de ese cliente en u.m\n",
    "\n",
    "Recordemos que existian devoluciones que habían sido errores, vamos a analizarlas y separarlas del dataset\n",
    "\n"
   ]
  },
  {
   "cell_type": "code",
   "execution_count": 92,
   "metadata": {},
   "outputs": [
    {
     "data": {
      "text/html": [
       "<div>\n",
       "<style scoped>\n",
       "    .dataframe tbody tr th:only-of-type {\n",
       "        vertical-align: middle;\n",
       "    }\n",
       "\n",
       "    .dataframe tbody tr th {\n",
       "        vertical-align: top;\n",
       "    }\n",
       "\n",
       "    .dataframe thead th {\n",
       "        text-align: right;\n",
       "    }\n",
       "</style>\n",
       "<table border=\"1\" class=\"dataframe\">\n",
       "  <thead>\n",
       "    <tr style=\"text-align: right;\">\n",
       "      <th></th>\n",
       "      <th>InvoiceNo</th>\n",
       "      <th>StockCode</th>\n",
       "      <th>Description</th>\n",
       "      <th>Quantity</th>\n",
       "      <th>InvoiceDate</th>\n",
       "      <th>UnitPrice</th>\n",
       "      <th>CustomerID</th>\n",
       "      <th>Country</th>\n",
       "      <th>tipo</th>\n",
       "      <th>Status</th>\n",
       "      <th>TotalLine</th>\n",
       "      <th>ProductTotalSales</th>\n",
       "      <th>ProductTotalCancel</th>\n",
       "      <th>ProductTotalNet</th>\n",
       "      <th>TotalInvoice</th>\n",
       "      <th>ClientTotalSales</th>\n",
       "      <th>ClientTotalCancel</th>\n",
       "    </tr>\n",
       "  </thead>\n",
       "  <tbody>\n",
       "    <tr>\n",
       "      <th>540421</th>\n",
       "      <td>581483</td>\n",
       "      <td>23843</td>\n",
       "      <td>PAPER CRAFT , LITTLE BIRDIE</td>\n",
       "      <td>80995</td>\n",
       "      <td>12/9/2011 9:15</td>\n",
       "      <td>2.08</td>\n",
       "      <td>16446.0</td>\n",
       "      <td>United Kingdom</td>\n",
       "      <td>ORDER</td>\n",
       "      <td>COMPLETED</td>\n",
       "      <td>168469.6</td>\n",
       "      <td>168469.6</td>\n",
       "      <td>-168469.6</td>\n",
       "      <td>0.0</td>\n",
       "      <td>168469.6</td>\n",
       "      <td>168472.5</td>\n",
       "      <td>0.0</td>\n",
       "    </tr>\n",
       "    <tr>\n",
       "      <th>540422</th>\n",
       "      <td>C581484</td>\n",
       "      <td>23843</td>\n",
       "      <td>PAPER CRAFT , LITTLE BIRDIE</td>\n",
       "      <td>-80995</td>\n",
       "      <td>12/9/2011 9:27</td>\n",
       "      <td>2.08</td>\n",
       "      <td>16446.0</td>\n",
       "      <td>United Kingdom</td>\n",
       "      <td>ORDER</td>\n",
       "      <td>CANCEL</td>\n",
       "      <td>-168469.6</td>\n",
       "      <td>168469.6</td>\n",
       "      <td>-168469.6</td>\n",
       "      <td>0.0</td>\n",
       "      <td>-168469.6</td>\n",
       "      <td>0.0</td>\n",
       "      <td>-168469.6</td>\n",
       "    </tr>\n",
       "  </tbody>\n",
       "</table>\n",
       "</div>"
      ],
      "text/plain": [
       "       InvoiceNo StockCode                  Description  Quantity  \\\n",
       "540421    581483     23843  PAPER CRAFT , LITTLE BIRDIE     80995   \n",
       "540422   C581484     23843  PAPER CRAFT , LITTLE BIRDIE    -80995   \n",
       "\n",
       "           InvoiceDate  UnitPrice  CustomerID         Country   tipo  \\\n",
       "540421  12/9/2011 9:15       2.08     16446.0  United Kingdom  ORDER   \n",
       "540422  12/9/2011 9:27       2.08     16446.0  United Kingdom  ORDER   \n",
       "\n",
       "           Status  TotalLine  ProductTotalSales  ProductTotalCancel  \\\n",
       "540421  COMPLETED   168469.6           168469.6           -168469.6   \n",
       "540422     CANCEL  -168469.6           168469.6           -168469.6   \n",
       "\n",
       "        ProductTotalNet  TotalInvoice  ClientTotalSales  ClientTotalCancel  \n",
       "540421              0.0      168469.6          168472.5                0.0  \n",
       "540422              0.0     -168469.6               0.0          -168469.6  "
      ]
     },
     "execution_count": 92,
     "metadata": {},
     "output_type": "execute_result"
    }
   ],
   "source": [
    "# Mostrar los 5 primeras entradas con un TotalInvoice absoluto mayor a 10000\n",
    "\n",
    "df[df['TotalInvoice'].abs() > 100000].head()"
   ]
  },
  {
   "cell_type": "markdown",
   "metadata": {},
   "source": [
    "Esta fue la entrada que vimos al final del EDA 1. Se solucionó 12 minutos más tarde, el mismo día. Directamente vamos a eliminarla, pero antes vamos a ver su contenido.\n",
    "\n",
    "El InvoiceNo es 581483 y C581484"
   ]
  },
  {
   "cell_type": "code",
   "execution_count": 93,
   "metadata": {},
   "outputs": [
    {
     "data": {
      "text/html": [
       "<div>\n",
       "<style scoped>\n",
       "    .dataframe tbody tr th:only-of-type {\n",
       "        vertical-align: middle;\n",
       "    }\n",
       "\n",
       "    .dataframe tbody tr th {\n",
       "        vertical-align: top;\n",
       "    }\n",
       "\n",
       "    .dataframe thead th {\n",
       "        text-align: right;\n",
       "    }\n",
       "</style>\n",
       "<table border=\"1\" class=\"dataframe\">\n",
       "  <thead>\n",
       "    <tr style=\"text-align: right;\">\n",
       "      <th></th>\n",
       "      <th>InvoiceNo</th>\n",
       "      <th>StockCode</th>\n",
       "      <th>Description</th>\n",
       "      <th>Quantity</th>\n",
       "      <th>InvoiceDate</th>\n",
       "      <th>UnitPrice</th>\n",
       "      <th>CustomerID</th>\n",
       "      <th>Country</th>\n",
       "      <th>tipo</th>\n",
       "      <th>Status</th>\n",
       "      <th>TotalLine</th>\n",
       "      <th>ProductTotalSales</th>\n",
       "      <th>ProductTotalCancel</th>\n",
       "      <th>ProductTotalNet</th>\n",
       "      <th>TotalInvoice</th>\n",
       "      <th>ClientTotalSales</th>\n",
       "      <th>ClientTotalCancel</th>\n",
       "    </tr>\n",
       "  </thead>\n",
       "  <tbody>\n",
       "    <tr>\n",
       "      <th>540421</th>\n",
       "      <td>581483</td>\n",
       "      <td>23843</td>\n",
       "      <td>PAPER CRAFT , LITTLE BIRDIE</td>\n",
       "      <td>80995</td>\n",
       "      <td>12/9/2011 9:15</td>\n",
       "      <td>2.08</td>\n",
       "      <td>16446.0</td>\n",
       "      <td>United Kingdom</td>\n",
       "      <td>ORDER</td>\n",
       "      <td>COMPLETED</td>\n",
       "      <td>168469.6</td>\n",
       "      <td>168469.6</td>\n",
       "      <td>-168469.6</td>\n",
       "      <td>0.0</td>\n",
       "      <td>168469.6</td>\n",
       "      <td>168472.5</td>\n",
       "      <td>0.0</td>\n",
       "    </tr>\n",
       "    <tr>\n",
       "      <th>540422</th>\n",
       "      <td>C581484</td>\n",
       "      <td>23843</td>\n",
       "      <td>PAPER CRAFT , LITTLE BIRDIE</td>\n",
       "      <td>-80995</td>\n",
       "      <td>12/9/2011 9:27</td>\n",
       "      <td>2.08</td>\n",
       "      <td>16446.0</td>\n",
       "      <td>United Kingdom</td>\n",
       "      <td>ORDER</td>\n",
       "      <td>CANCEL</td>\n",
       "      <td>-168469.6</td>\n",
       "      <td>168469.6</td>\n",
       "      <td>-168469.6</td>\n",
       "      <td>0.0</td>\n",
       "      <td>-168469.6</td>\n",
       "      <td>0.0</td>\n",
       "      <td>-168469.6</td>\n",
       "    </tr>\n",
       "  </tbody>\n",
       "</table>\n",
       "</div>"
      ],
      "text/plain": [
       "       InvoiceNo StockCode                  Description  Quantity  \\\n",
       "540421    581483     23843  PAPER CRAFT , LITTLE BIRDIE     80995   \n",
       "540422   C581484     23843  PAPER CRAFT , LITTLE BIRDIE    -80995   \n",
       "\n",
       "           InvoiceDate  UnitPrice  CustomerID         Country   tipo  \\\n",
       "540421  12/9/2011 9:15       2.08     16446.0  United Kingdom  ORDER   \n",
       "540422  12/9/2011 9:27       2.08     16446.0  United Kingdom  ORDER   \n",
       "\n",
       "           Status  TotalLine  ProductTotalSales  ProductTotalCancel  \\\n",
       "540421  COMPLETED   168469.6           168469.6           -168469.6   \n",
       "540422     CANCEL  -168469.6           168469.6           -168469.6   \n",
       "\n",
       "        ProductTotalNet  TotalInvoice  ClientTotalSales  ClientTotalCancel  \n",
       "540421              0.0      168469.6          168472.5                0.0  \n",
       "540422              0.0     -168469.6               0.0          -168469.6  "
      ]
     },
     "execution_count": 93,
     "metadata": {},
     "output_type": "execute_result"
    }
   ],
   "source": [
    "# Mostrar las entradas con InvoiceNo == 581483 y C581484\n",
    "\n",
    "df[df['InvoiceNo'].isin(['581483', 'C581484'])]"
   ]
  },
  {
   "cell_type": "markdown",
   "metadata": {},
   "source": [
    "Solo tiene esa entrada, por lo que la eliminamos"
   ]
  },
  {
   "cell_type": "code",
   "execution_count": 94,
   "metadata": {},
   "outputs": [],
   "source": [
    "# Eliminar la entrada con InvoiceNo == 581483 y C581484\n",
    "\n",
    "df = df[~df['InvoiceNo'].isin(['581483', 'C581484'])]"
   ]
  },
  {
   "cell_type": "markdown",
   "metadata": {},
   "source": [
    "Seguimos buscando anomalías, para no alargar el codigo, simplemente voy haciendo la prueba con:\n",
    "\n",
    "df[df['TotalInvoice'].abs() > 10000].count()\n",
    "\n",
    "Para ver si contiene un numero de entradas muy alto y cuando encuentro anomalías hago el .head() para ver que son.\n",
    "Si veo que son anomalías, las elimino. Voy a dejar solo una comprobación mas para que se entienda, pero las siguientes las eliminaré todas en el mismo marco."
   ]
  },
  {
   "cell_type": "code",
   "execution_count": 95,
   "metadata": {},
   "outputs": [
    {
     "data": {
      "text/plain": [
       "InvoiceNo             2\n",
       "StockCode             2\n",
       "Description           2\n",
       "Quantity              2\n",
       "InvoiceDate           2\n",
       "UnitPrice             2\n",
       "CustomerID            2\n",
       "Country               2\n",
       "tipo                  2\n",
       "Status                2\n",
       "TotalLine             2\n",
       "ProductTotalSales     2\n",
       "ProductTotalCancel    2\n",
       "ProductTotalNet       2\n",
       "TotalInvoice          2\n",
       "ClientTotalSales      2\n",
       "ClientTotalCancel     2\n",
       "dtype: int64"
      ]
     },
     "execution_count": 95,
     "metadata": {},
     "output_type": "execute_result"
    }
   ],
   "source": [
    "df[df['TotalInvoice'].abs() > 39999].count()"
   ]
  },
  {
   "cell_type": "code",
   "execution_count": 96,
   "metadata": {},
   "outputs": [
    {
     "data": {
      "text/html": [
       "<div>\n",
       "<style scoped>\n",
       "    .dataframe tbody tr th:only-of-type {\n",
       "        vertical-align: middle;\n",
       "    }\n",
       "\n",
       "    .dataframe tbody tr th {\n",
       "        vertical-align: top;\n",
       "    }\n",
       "\n",
       "    .dataframe thead th {\n",
       "        text-align: right;\n",
       "    }\n",
       "</style>\n",
       "<table border=\"1\" class=\"dataframe\">\n",
       "  <thead>\n",
       "    <tr style=\"text-align: right;\">\n",
       "      <th></th>\n",
       "      <th>InvoiceNo</th>\n",
       "      <th>StockCode</th>\n",
       "      <th>Description</th>\n",
       "      <th>Quantity</th>\n",
       "      <th>InvoiceDate</th>\n",
       "      <th>UnitPrice</th>\n",
       "      <th>CustomerID</th>\n",
       "      <th>Country</th>\n",
       "      <th>tipo</th>\n",
       "      <th>Status</th>\n",
       "      <th>TotalLine</th>\n",
       "      <th>ProductTotalSales</th>\n",
       "      <th>ProductTotalCancel</th>\n",
       "      <th>ProductTotalNet</th>\n",
       "      <th>TotalInvoice</th>\n",
       "      <th>ClientTotalSales</th>\n",
       "      <th>ClientTotalCancel</th>\n",
       "    </tr>\n",
       "  </thead>\n",
       "  <tbody>\n",
       "    <tr>\n",
       "      <th>61619</th>\n",
       "      <td>541431</td>\n",
       "      <td>23166</td>\n",
       "      <td>MEDIUM CERAMIC TOP STORAGE JAR</td>\n",
       "      <td>74215</td>\n",
       "      <td>1/18/2011 10:01</td>\n",
       "      <td>1.04</td>\n",
       "      <td>12346.0</td>\n",
       "      <td>United Kingdom</td>\n",
       "      <td>ORDER</td>\n",
       "      <td>COMPLETED</td>\n",
       "      <td>77183.6</td>\n",
       "      <td>81416.73</td>\n",
       "      <td>-77479.64</td>\n",
       "      <td>3937.09</td>\n",
       "      <td>77183.6</td>\n",
       "      <td>77183.6</td>\n",
       "      <td>0.0</td>\n",
       "    </tr>\n",
       "    <tr>\n",
       "      <th>61624</th>\n",
       "      <td>C541433</td>\n",
       "      <td>23166</td>\n",
       "      <td>MEDIUM CERAMIC TOP STORAGE JAR</td>\n",
       "      <td>-74215</td>\n",
       "      <td>1/18/2011 10:17</td>\n",
       "      <td>1.04</td>\n",
       "      <td>12346.0</td>\n",
       "      <td>United Kingdom</td>\n",
       "      <td>ORDER</td>\n",
       "      <td>CANCEL</td>\n",
       "      <td>-77183.6</td>\n",
       "      <td>81416.73</td>\n",
       "      <td>-77479.64</td>\n",
       "      <td>3937.09</td>\n",
       "      <td>-77183.6</td>\n",
       "      <td>0.0</td>\n",
       "      <td>-77183.6</td>\n",
       "    </tr>\n",
       "  </tbody>\n",
       "</table>\n",
       "</div>"
      ],
      "text/plain": [
       "      InvoiceNo StockCode                     Description  Quantity  \\\n",
       "61619    541431     23166  MEDIUM CERAMIC TOP STORAGE JAR     74215   \n",
       "61624   C541433     23166  MEDIUM CERAMIC TOP STORAGE JAR    -74215   \n",
       "\n",
       "           InvoiceDate  UnitPrice  CustomerID         Country   tipo  \\\n",
       "61619  1/18/2011 10:01       1.04     12346.0  United Kingdom  ORDER   \n",
       "61624  1/18/2011 10:17       1.04     12346.0  United Kingdom  ORDER   \n",
       "\n",
       "          Status  TotalLine  ProductTotalSales  ProductTotalCancel  \\\n",
       "61619  COMPLETED    77183.6           81416.73           -77479.64   \n",
       "61624     CANCEL   -77183.6           81416.73           -77479.64   \n",
       "\n",
       "       ProductTotalNet  TotalInvoice  ClientTotalSales  ClientTotalCancel  \n",
       "61619          3937.09       77183.6           77183.6                0.0  \n",
       "61624          3937.09      -77183.6               0.0           -77183.6  "
      ]
     },
     "execution_count": 96,
     "metadata": {},
     "output_type": "execute_result"
    }
   ],
   "source": [
    "df[df['TotalInvoice'].abs() > 39999].head()"
   ]
  },
  {
   "cell_type": "markdown",
   "metadata": {},
   "source": [
    "Aquí vemos otra anomalía, un pedido realizado por 74215 unidades, el pedido se canceló 16 minutos más tarde, esta limpieza es bastante artesanal, podríamos buscar cancelaciones durante el mismo día, y de esa manera encontraremos más cancelaciones de errores. Solo buscamos eliminar aquellas entradas que consideremos que son errores. Una cancelación que se produce algunos días después si son importantes de tener en cuenta, ya que puede deberse a compras por impulso y posterior arrepentimiento."
   ]
  },
  {
   "cell_type": "code",
   "execution_count": 97,
   "metadata": {},
   "outputs": [],
   "source": [
    "# Eliminar la entrada con InvoiceNo == 541431 y C541433\n",
    "\n",
    "df = df[~df['InvoiceNo'].isin(['541431', 'C541433'])]"
   ]
  },
  {
   "cell_type": "markdown",
   "metadata": {},
   "source": [
    "Ahora vamos a eliminar las restantes. Importante resaltar que nos damos cuenta de que:\n",
    "\n",
    "* Existen cancelaciones manuales de articulos por importe de la TotalLine, por ejemplo, la Invoice 556444 ha sido cancelada manualmente por la Invoice C556445 que es de tipo MANUAL. El problema de esto es que no conocemos realmente que artículo se está cancelando. En este caso queda bastante claro ya que son las únicas dos entradas por el mismo importe y ambas se hicieron el mismo día. Para este caso también vamos a eliminar ambas.\n",
    "\n",
    "Esto podría ser importante ya que es un producto cancelado, pero al tener tan poca diferencia de tiempo y tener un valor alto en la factura, vamos a evitar que ensucie los datos y genere ruido."
   ]
  },
  {
   "cell_type": "code",
   "execution_count": 98,
   "metadata": {},
   "outputs": [],
   "source": [
    "# Eliminar la entrada con InvoiceNo == 556444 y C556445\n",
    "\n",
    "df = df[~df['InvoiceNo'].isin(['556444', 'C556445'])]\n",
    "df = df[~df['InvoiceNo'].isin(['C536757'])]"
   ]
  },
  {
   "cell_type": "markdown",
   "metadata": {},
   "source": [
    "Tras esta eliminación hemos quitado datos con cancelaciones atípicos, de manera que hemos podido eliminar tanto el pedido como su cancelación.\n",
    "Ahora vamos a hacer lo mismo, pero buscando Quantities atípicas"
   ]
  },
  {
   "cell_type": "code",
   "execution_count": 99,
   "metadata": {},
   "outputs": [
    {
     "data": {
      "text/html": [
       "<div>\n",
       "<style scoped>\n",
       "    .dataframe tbody tr th:only-of-type {\n",
       "        vertical-align: middle;\n",
       "    }\n",
       "\n",
       "    .dataframe tbody tr th {\n",
       "        vertical-align: top;\n",
       "    }\n",
       "\n",
       "    .dataframe thead th {\n",
       "        text-align: right;\n",
       "    }\n",
       "</style>\n",
       "<table border=\"1\" class=\"dataframe\">\n",
       "  <thead>\n",
       "    <tr style=\"text-align: right;\">\n",
       "      <th></th>\n",
       "      <th>InvoiceNo</th>\n",
       "      <th>StockCode</th>\n",
       "      <th>Description</th>\n",
       "      <th>Quantity</th>\n",
       "      <th>InvoiceDate</th>\n",
       "      <th>UnitPrice</th>\n",
       "      <th>CustomerID</th>\n",
       "      <th>Country</th>\n",
       "      <th>tipo</th>\n",
       "      <th>Status</th>\n",
       "      <th>TotalLine</th>\n",
       "      <th>ProductTotalSales</th>\n",
       "      <th>ProductTotalCancel</th>\n",
       "      <th>ProductTotalNet</th>\n",
       "      <th>TotalInvoice</th>\n",
       "      <th>ClientTotalSales</th>\n",
       "      <th>ClientTotalCancel</th>\n",
       "    </tr>\n",
       "  </thead>\n",
       "  <tbody>\n",
       "  </tbody>\n",
       "</table>\n",
       "</div>"
      ],
      "text/plain": [
       "Empty DataFrame\n",
       "Columns: [InvoiceNo, StockCode, Description, Quantity, InvoiceDate, UnitPrice, CustomerID, Country, tipo, Status, TotalLine, ProductTotalSales, ProductTotalCancel, ProductTotalNet, TotalInvoice, ClientTotalSales, ClientTotalCancel]\n",
       "Index: []"
      ]
     },
     "execution_count": 99,
     "metadata": {},
     "output_type": "execute_result"
    }
   ],
   "source": [
    "df[(df['tipo'] == \"ORDER\") & (df['Quantity'].abs() > 9359)].head()"
   ]
  },
  {
   "cell_type": "code",
   "execution_count": 100,
   "metadata": {},
   "outputs": [
    {
     "data": {
      "text/plain": [
       "InvoiceNo             0.112812\n",
       "StockCode             0.112812\n",
       "Description           0.112812\n",
       "Quantity              0.112812\n",
       "InvoiceDate           0.112812\n",
       "UnitPrice             0.112812\n",
       "CustomerID            0.112812\n",
       "Country               0.112812\n",
       "tipo                  0.112812\n",
       "Status                0.112812\n",
       "TotalLine             0.112812\n",
       "ProductTotalSales     0.112812\n",
       "ProductTotalCancel    0.112812\n",
       "ProductTotalNet       0.112812\n",
       "TotalInvoice          0.112812\n",
       "ClientTotalSales      0.112812\n",
       "ClientTotalCancel     0.112812\n",
       "dtype: float64"
      ]
     },
     "execution_count": 100,
     "metadata": {},
     "output_type": "execute_result"
    }
   ],
   "source": [
    "((df[df['tipo']=='MANUAL'].count()) / (df.count())) * 100"
   ]
  },
  {
   "cell_type": "code",
   "execution_count": 101,
   "metadata": {},
   "outputs": [
    {
     "data": {
      "text/plain": [
       "InvoiceNo             401553\n",
       "StockCode             401553\n",
       "Description           401553\n",
       "Quantity              401553\n",
       "InvoiceDate           401553\n",
       "UnitPrice             401553\n",
       "CustomerID            401553\n",
       "Country               401553\n",
       "tipo                  401553\n",
       "Status                401553\n",
       "TotalLine             401553\n",
       "ProductTotalSales     401553\n",
       "ProductTotalCancel    401553\n",
       "ProductTotalNet       401553\n",
       "TotalInvoice          401553\n",
       "ClientTotalSales      401553\n",
       "ClientTotalCancel     401553\n",
       "dtype: int64"
      ]
     },
     "execution_count": 101,
     "metadata": {},
     "output_type": "execute_result"
    }
   ],
   "source": [
    "df.count()"
   ]
  },
  {
   "cell_type": "code",
   "execution_count": 102,
   "metadata": {},
   "outputs": [
    {
     "data": {
      "text/html": [
       "<div>\n",
       "<style scoped>\n",
       "    .dataframe tbody tr th:only-of-type {\n",
       "        vertical-align: middle;\n",
       "    }\n",
       "\n",
       "    .dataframe tbody tr th {\n",
       "        vertical-align: top;\n",
       "    }\n",
       "\n",
       "    .dataframe thead th {\n",
       "        text-align: right;\n",
       "    }\n",
       "</style>\n",
       "<table border=\"1\" class=\"dataframe\">\n",
       "  <thead>\n",
       "    <tr style=\"text-align: right;\">\n",
       "      <th></th>\n",
       "      <th>InvoiceNo</th>\n",
       "      <th>StockCode</th>\n",
       "      <th>Description</th>\n",
       "      <th>Quantity</th>\n",
       "      <th>InvoiceDate</th>\n",
       "      <th>UnitPrice</th>\n",
       "      <th>CustomerID</th>\n",
       "      <th>Country</th>\n",
       "      <th>tipo</th>\n",
       "      <th>Status</th>\n",
       "      <th>TotalLine</th>\n",
       "      <th>ProductTotalSales</th>\n",
       "      <th>ProductTotalCancel</th>\n",
       "      <th>ProductTotalNet</th>\n",
       "      <th>TotalInvoice</th>\n",
       "      <th>ClientTotalSales</th>\n",
       "      <th>ClientTotalCancel</th>\n",
       "    </tr>\n",
       "  </thead>\n",
       "  <tbody>\n",
       "    <tr>\n",
       "      <th>96677</th>\n",
       "      <td>C544577</td>\n",
       "      <td>M</td>\n",
       "      <td>Manual</td>\n",
       "      <td>-1</td>\n",
       "      <td>2/21/2011 14:02</td>\n",
       "      <td>320.69</td>\n",
       "      <td>12365.0</td>\n",
       "      <td>Cyprus</td>\n",
       "      <td>MANUAL</td>\n",
       "      <td>CANCEL</td>\n",
       "      <td>-320.69</td>\n",
       "      <td>0.0</td>\n",
       "      <td>0.0</td>\n",
       "      <td>0.0</td>\n",
       "      <td>-320.69</td>\n",
       "      <td>0.0</td>\n",
       "      <td>0.0</td>\n",
       "    </tr>\n",
       "    <tr>\n",
       "      <th>96678</th>\n",
       "      <td>544578</td>\n",
       "      <td>M</td>\n",
       "      <td>Manual</td>\n",
       "      <td>1</td>\n",
       "      <td>2/21/2011 14:04</td>\n",
       "      <td>320.69</td>\n",
       "      <td>12365.0</td>\n",
       "      <td>Cyprus</td>\n",
       "      <td>MANUAL</td>\n",
       "      <td>COMPLETED</td>\n",
       "      <td>320.69</td>\n",
       "      <td>0.0</td>\n",
       "      <td>0.0</td>\n",
       "      <td>0.0</td>\n",
       "      <td>320.69</td>\n",
       "      <td>0.0</td>\n",
       "      <td>0.0</td>\n",
       "    </tr>\n",
       "  </tbody>\n",
       "</table>\n",
       "</div>"
      ],
      "text/plain": [
       "      InvoiceNo StockCode Description  Quantity      InvoiceDate  UnitPrice  \\\n",
       "96677   C544577         M      Manual        -1  2/21/2011 14:02     320.69   \n",
       "96678    544578         M      Manual         1  2/21/2011 14:04     320.69   \n",
       "\n",
       "       CustomerID Country    tipo     Status  TotalLine  ProductTotalSales  \\\n",
       "96677     12365.0  Cyprus  MANUAL     CANCEL    -320.69                0.0   \n",
       "96678     12365.0  Cyprus  MANUAL  COMPLETED     320.69                0.0   \n",
       "\n",
       "       ProductTotalCancel  ProductTotalNet  TotalInvoice  ClientTotalSales  \\\n",
       "96677                 0.0              0.0       -320.69               0.0   \n",
       "96678                 0.0              0.0        320.69               0.0   \n",
       "\n",
       "       ClientTotalCancel  \n",
       "96677                0.0  \n",
       "96678                0.0  "
      ]
     },
     "execution_count": 102,
     "metadata": {},
     "output_type": "execute_result"
    }
   ],
   "source": [
    "df[(df['CustomerID'] == 12365.0\t) & (df['tipo'] != 'ORDER')].head(10)"
   ]
  },
  {
   "cell_type": "markdown",
   "metadata": {},
   "source": [
    "Vemos que existen cargos manuales con cancelaciones manuales. \n",
    "Vamos a comprobar cuantas entradas manuales hay, cuantas cancelaciones en u.m y cuantas ordenes en u.m\n",
    "\n",
    "Como el objetivo es crear un algoritmo de recomendación, vamos a eliminar aquellas entradas relacionadas con POSTAGE y otras comisiones\n",
    "Además, como la cantidad de operaciones manuales es un 0.1% del dataset, vamos a eliminarlas tambien\n"
   ]
  },
  {
   "cell_type": "code",
   "execution_count": 103,
   "metadata": {},
   "outputs": [],
   "source": [
    "# Eliminar entradas que son tipo != ORDER\n",
    "\n",
    "df = df[df['tipo'] == 'ORDER']"
   ]
  },
  {
   "cell_type": "markdown",
   "metadata": {},
   "source": [
    "Como ahora todas las entradas son tipo == order, podemos eliminar la columna"
   ]
  },
  {
   "cell_type": "code",
   "execution_count": 104,
   "metadata": {},
   "outputs": [],
   "source": [
    "# Eliminamos la columna tipo\n",
    "\n",
    "df = df.drop(columns=['tipo'])"
   ]
  },
  {
   "cell_type": "code",
   "execution_count": 105,
   "metadata": {},
   "outputs": [
    {
     "name": "stdout",
     "output_type": "stream",
     "text": [
      "Las devoluciones totales son: -1773445.35\n"
     ]
    }
   ],
   "source": [
    "# Calcular la suma de cancelaciones totales con tipo == 'ORDER'\n",
    "\n",
    "Devoluciones_Totales = df[(df['Status'] == 'CANCEL')]['TotalInvoice'].sum()\n",
    "print (f'Las devoluciones totales son: {Devoluciones_Totales:.2f}')"
   ]
  },
  {
   "cell_type": "markdown",
   "metadata": {},
   "source": [
    "Aqui tenemos un Insight importante. Las devoluciones totales han sido de 1.773.445,35 sin tener en cuenta aquellas realizadas de forma manual"
   ]
  },
  {
   "cell_type": "code",
   "execution_count": 106,
   "metadata": {},
   "outputs": [
    {
     "data": {
      "text/html": [
       "<div>\n",
       "<style scoped>\n",
       "    .dataframe tbody tr th:only-of-type {\n",
       "        vertical-align: middle;\n",
       "    }\n",
       "\n",
       "    .dataframe tbody tr th {\n",
       "        vertical-align: top;\n",
       "    }\n",
       "\n",
       "    .dataframe thead th {\n",
       "        text-align: right;\n",
       "    }\n",
       "</style>\n",
       "<table border=\"1\" class=\"dataframe\">\n",
       "  <thead>\n",
       "    <tr style=\"text-align: right;\">\n",
       "      <th></th>\n",
       "      <th>InvoiceNo</th>\n",
       "      <th>StockCode</th>\n",
       "      <th>Description</th>\n",
       "      <th>Quantity</th>\n",
       "      <th>InvoiceDate</th>\n",
       "      <th>UnitPrice</th>\n",
       "      <th>CustomerID</th>\n",
       "      <th>Country</th>\n",
       "      <th>Status</th>\n",
       "      <th>TotalLine</th>\n",
       "      <th>ProductTotalSales</th>\n",
       "      <th>ProductTotalCancel</th>\n",
       "      <th>ProductTotalNet</th>\n",
       "      <th>TotalInvoice</th>\n",
       "      <th>ClientTotalSales</th>\n",
       "      <th>ClientTotalCancel</th>\n",
       "    </tr>\n",
       "  </thead>\n",
       "  <tbody>\n",
       "    <tr>\n",
       "      <th>0</th>\n",
       "      <td>536365</td>\n",
       "      <td>85123A</td>\n",
       "      <td>WHITE HANGING HEART T-LIGHT HOLDER</td>\n",
       "      <td>6</td>\n",
       "      <td>12/1/2010 8:26</td>\n",
       "      <td>2.55</td>\n",
       "      <td>17850.0</td>\n",
       "      <td>United Kingdom</td>\n",
       "      <td>COMPLETED</td>\n",
       "      <td>15.30</td>\n",
       "      <td>100547.45</td>\n",
       "      <td>-6624.30</td>\n",
       "      <td>93923.15</td>\n",
       "      <td>139.12</td>\n",
       "      <td>5391.21</td>\n",
       "      <td>0.0</td>\n",
       "    </tr>\n",
       "    <tr>\n",
       "      <th>1</th>\n",
       "      <td>536365</td>\n",
       "      <td>71053</td>\n",
       "      <td>WHITE METAL LANTERN</td>\n",
       "      <td>6</td>\n",
       "      <td>12/1/2010 8:26</td>\n",
       "      <td>3.39</td>\n",
       "      <td>17850.0</td>\n",
       "      <td>United Kingdom</td>\n",
       "      <td>COMPLETED</td>\n",
       "      <td>20.34</td>\n",
       "      <td>5893.45</td>\n",
       "      <td>-139.77</td>\n",
       "      <td>5753.68</td>\n",
       "      <td>139.12</td>\n",
       "      <td>5391.21</td>\n",
       "      <td>0.0</td>\n",
       "    </tr>\n",
       "    <tr>\n",
       "      <th>2</th>\n",
       "      <td>536365</td>\n",
       "      <td>84406B</td>\n",
       "      <td>CREAM CUPID HEARTS COAT HANGER</td>\n",
       "      <td>8</td>\n",
       "      <td>12/1/2010 8:26</td>\n",
       "      <td>2.75</td>\n",
       "      <td>17850.0</td>\n",
       "      <td>United Kingdom</td>\n",
       "      <td>COMPLETED</td>\n",
       "      <td>22.00</td>\n",
       "      <td>7121.23</td>\n",
       "      <td>-162.50</td>\n",
       "      <td>6958.73</td>\n",
       "      <td>139.12</td>\n",
       "      <td>5391.21</td>\n",
       "      <td>0.0</td>\n",
       "    </tr>\n",
       "    <tr>\n",
       "      <th>3</th>\n",
       "      <td>536365</td>\n",
       "      <td>84029G</td>\n",
       "      <td>KNITTED UNION FLAG HOT WATER BOTTLE</td>\n",
       "      <td>6</td>\n",
       "      <td>12/1/2010 8:26</td>\n",
       "      <td>3.39</td>\n",
       "      <td>17850.0</td>\n",
       "      <td>United Kingdom</td>\n",
       "      <td>COMPLETED</td>\n",
       "      <td>20.34</td>\n",
       "      <td>9313.17</td>\n",
       "      <td>-58.00</td>\n",
       "      <td>9255.17</td>\n",
       "      <td>139.12</td>\n",
       "      <td>5391.21</td>\n",
       "      <td>0.0</td>\n",
       "    </tr>\n",
       "    <tr>\n",
       "      <th>4</th>\n",
       "      <td>536365</td>\n",
       "      <td>84029E</td>\n",
       "      <td>RED WOOLLY HOTTIE WHITE HEART.</td>\n",
       "      <td>6</td>\n",
       "      <td>12/1/2010 8:26</td>\n",
       "      <td>3.39</td>\n",
       "      <td>17850.0</td>\n",
       "      <td>United Kingdom</td>\n",
       "      <td>COMPLETED</td>\n",
       "      <td>20.34</td>\n",
       "      <td>13311.26</td>\n",
       "      <td>-76.45</td>\n",
       "      <td>13234.81</td>\n",
       "      <td>139.12</td>\n",
       "      <td>5391.21</td>\n",
       "      <td>0.0</td>\n",
       "    </tr>\n",
       "  </tbody>\n",
       "</table>\n",
       "</div>"
      ],
      "text/plain": [
       "  InvoiceNo StockCode                          Description  Quantity  \\\n",
       "0    536365    85123A   WHITE HANGING HEART T-LIGHT HOLDER         6   \n",
       "1    536365     71053                  WHITE METAL LANTERN         6   \n",
       "2    536365    84406B       CREAM CUPID HEARTS COAT HANGER         8   \n",
       "3    536365    84029G  KNITTED UNION FLAG HOT WATER BOTTLE         6   \n",
       "4    536365    84029E       RED WOOLLY HOTTIE WHITE HEART.         6   \n",
       "\n",
       "      InvoiceDate  UnitPrice  CustomerID         Country     Status  \\\n",
       "0  12/1/2010 8:26       2.55     17850.0  United Kingdom  COMPLETED   \n",
       "1  12/1/2010 8:26       3.39     17850.0  United Kingdom  COMPLETED   \n",
       "2  12/1/2010 8:26       2.75     17850.0  United Kingdom  COMPLETED   \n",
       "3  12/1/2010 8:26       3.39     17850.0  United Kingdom  COMPLETED   \n",
       "4  12/1/2010 8:26       3.39     17850.0  United Kingdom  COMPLETED   \n",
       "\n",
       "   TotalLine  ProductTotalSales  ProductTotalCancel  ProductTotalNet  \\\n",
       "0      15.30          100547.45            -6624.30         93923.15   \n",
       "1      20.34            5893.45             -139.77          5753.68   \n",
       "2      22.00            7121.23             -162.50          6958.73   \n",
       "3      20.34            9313.17              -58.00          9255.17   \n",
       "4      20.34           13311.26              -76.45         13234.81   \n",
       "\n",
       "   TotalInvoice  ClientTotalSales  ClientTotalCancel  \n",
       "0        139.12           5391.21                0.0  \n",
       "1        139.12           5391.21                0.0  \n",
       "2        139.12           5391.21                0.0  \n",
       "3        139.12           5391.21                0.0  \n",
       "4        139.12           5391.21                0.0  "
      ]
     },
     "execution_count": 106,
     "metadata": {},
     "output_type": "execute_result"
    }
   ],
   "source": [
    "df.head()"
   ]
  },
  {
   "cell_type": "markdown",
   "metadata": {},
   "source": [
    "Antes de pasar con más profundidad a la ingenieria de características, vamos a limpiar el formato de las descripciones y homogeneizarlo"
   ]
  },
  {
   "cell_type": "code",
   "execution_count": 107,
   "metadata": {},
   "outputs": [
    {
     "data": {
      "image/png": "[encoded data removed]",
      "text/plain": [
       "<Figure size 1200x800 with 1 Axes>"
      ]
     },
     "metadata": {},
     "output_type": "display_data"
    }
   ],
   "source": [
    "# Calcula la ocurrencia de cada descripción única y ordenalas\n",
    "description_counts = df['Description'].value_counts()\n",
    "\n",
    "# Obtener las 30 descripciones más frecuentes\n",
    "top_30_descriptions = description_counts[:30]\n",
    "\n",
    "# Crear un gráfico de barras horizontales\n",
    "plt.figure(figsize=(12,8))\n",
    "plt.barh(top_30_descriptions.index[::-1], top_30_descriptions.values[::-1], color='#ff6200')\n",
    "\n",
    "# Añadir etiquetas y título\n",
    "plt.xlabel('Número de ocurrencias')\n",
    "plt.ylabel('Descripcion')\n",
    "plt.title('Top 30 Descripciones más frecuentes')\n",
    "\n",
    "# Mostar el gráfico\n",
    "plt.show()"
   ]
  },
  {
   "cell_type": "code",
   "execution_count": 108,
   "metadata": {},
   "outputs": [
    {
     "name": "stdout",
     "output_type": "stream",
     "text": [
      "The unique descriptions containing lowercase characters are:\n",
      "------------------------------------------------------------\n",
      "BAG 500g SWIRLY MARBLES\n",
      "POLYESTER FILLER PAD 45x45cm\n",
      "POLYESTER FILLER PAD 45x30cm\n",
      "POLYESTER FILLER PAD 40x40cm\n",
      "FRENCH BLUE METAL DOOR SIGN No\n",
      "BAG 250g SWIRLY MARBLES\n",
      "BAG 125g SWIRLY MARBLES\n",
      "3 TRADITIONAl BISCUIT CUTTERS  SET\n",
      "NUMBER TILE COTTAGE GARDEN No\n",
      "FOLK ART GREETING CARD,pack/12\n",
      "ESSENTIAL BALM 3.5g TIN IN ENVELOPE\n",
      "POLYESTER FILLER PAD 65CMx65CM\n",
      "NUMBER TILE VINTAGE FONT No \n",
      "POLYESTER FILLER PAD 30CMx30CM\n",
      "POLYESTER FILLER PAD 60x40cm\n",
      "FLOWERS HANDBAG blue and orange\n",
      "Next Day Carriage\n",
      "THE KING GIFT BAG 25x24x12cm\n",
      "High Resolution Image\n"
     ]
    }
   ],
   "source": [
    "# Encuentra descripciones únicas que contienen caracteres en minúscula\n",
    "lowercase_descriptions = df['Description'].unique()\n",
    "lowercase_descriptions = [desc for desc in lowercase_descriptions if any(char.islower() for char in desc)]\n",
    "\n",
    "# Imprimir las descripciones únicas que contienen caracteres en minúscula\n",
    "print(\"The unique descriptions containing lowercase characters are:\")\n",
    "print(\"-\"*60)\n",
    "for desc in lowercase_descriptions:\n",
    "    print(desc)"
   ]
  },
  {
   "cell_type": "markdown",
   "metadata": {},
   "source": [
    "Vemos que hay un par de artículos con descripciones extrañas, veamos que son:"
   ]
  },
  {
   "cell_type": "code",
   "execution_count": 109,
   "metadata": {},
   "outputs": [
    {
     "data": {
      "text/plain": [
       "InvoiceNo             80\n",
       "StockCode             80\n",
       "Description           80\n",
       "Quantity              80\n",
       "InvoiceDate           80\n",
       "UnitPrice             80\n",
       "CustomerID            80\n",
       "Country               80\n",
       "Status                80\n",
       "TotalLine             80\n",
       "ProductTotalSales     80\n",
       "ProductTotalCancel    80\n",
       "ProductTotalNet       80\n",
       "TotalInvoice          80\n",
       "ClientTotalSales      80\n",
       "ClientTotalCancel     80\n",
       "dtype: int64"
      ]
     },
     "execution_count": 109,
     "metadata": {},
     "output_type": "execute_result"
    }
   ],
   "source": [
    "df[df['Description'] == 'Next Day Carriage'].count()"
   ]
  },
  {
   "cell_type": "markdown",
   "metadata": {},
   "source": [
    "Tanto High Resolution Image como Next day Carriage son servicios, como buscamos hacer un recomendador de productos, no queremos que recomiende servicios. En el caso de next day carriage, quizas haya relaciones entre los clientes y ese servicio, en el caso de High Resolution Image solo hay 3 pedidos y en el caso de Next day Carriage hay 80 pedidos. AL ser un tamaño bastante pequeño en relación con el Dataset, vamos a eliminarlos también."
   ]
  },
  {
   "cell_type": "code",
   "execution_count": 110,
   "metadata": {},
   "outputs": [],
   "source": [
    "# Eliminar entradas con descripcion == Next day Carriage o High Resolution Image\n",
    "\n",
    "df = df[~df['Description'].isin(['Next Day Carriage', 'High Resolution Image'])]"
   ]
  },
  {
   "cell_type": "code",
   "execution_count": 111,
   "metadata": {},
   "outputs": [
    {
     "name": "stdout",
     "output_type": "stream",
     "text": [
      "The unique descriptions containing lowercase characters are:\n",
      "------------------------------------------------------------\n",
      "BAG 500g SWIRLY MARBLES\n",
      "POLYESTER FILLER PAD 45x45cm\n",
      "POLYESTER FILLER PAD 45x30cm\n",
      "POLYESTER FILLER PAD 40x40cm\n",
      "FRENCH BLUE METAL DOOR SIGN No\n",
      "BAG 250g SWIRLY MARBLES\n",
      "BAG 125g SWIRLY MARBLES\n",
      "3 TRADITIONAl BISCUIT CUTTERS  SET\n",
      "NUMBER TILE COTTAGE GARDEN No\n",
      "FOLK ART GREETING CARD,pack/12\n",
      "ESSENTIAL BALM 3.5g TIN IN ENVELOPE\n",
      "POLYESTER FILLER PAD 65CMx65CM\n",
      "NUMBER TILE VINTAGE FONT No \n",
      "POLYESTER FILLER PAD 30CMx30CM\n",
      "POLYESTER FILLER PAD 60x40cm\n",
      "FLOWERS HANDBAG blue and orange\n",
      "THE KING GIFT BAG 25x24x12cm\n"
     ]
    }
   ],
   "source": [
    "# Encuentra descripciones únicas que contienen caracteres en minúscula\n",
    "lowercase_descriptions = df['Description'].unique()\n",
    "lowercase_descriptions = [desc for desc in lowercase_descriptions if any(char.islower() for char in desc)]\n",
    "\n",
    "# Imprimir las descripciones únicas que contienen caracteres en minúscula\n",
    "print(\"The unique descriptions containing lowercase characters are:\")\n",
    "print(\"-\"*60)\n",
    "for desc in lowercase_descriptions:\n",
    "    print(desc)"
   ]
  },
  {
   "cell_type": "markdown",
   "metadata": {},
   "source": [
    "Bien, ahora vamos a estandarizar los textos poniendo todo en minusculas\n"
   ]
  },
  {
   "cell_type": "code",
   "execution_count": 112,
   "metadata": {},
   "outputs": [],
   "source": [
    "# Poner las descripciones en minusculas\n",
    "\n",
    "df['Description'] = df['Description'].str.lower()"
   ]
  },
  {
   "cell_type": "code",
   "execution_count": 113,
   "metadata": {},
   "outputs": [
    {
     "data": {
      "text/plain": [
       "0     white hanging heart t-light holder\n",
       "1                    white metal lantern\n",
       "2         cream cupid hearts coat hanger\n",
       "3    knitted union flag hot water bottle\n",
       "4         red woolly hottie white heart.\n",
       "Name: Description, dtype: object"
      ]
     },
     "execution_count": 113,
     "metadata": {},
     "output_type": "execute_result"
    }
   ],
   "source": [
    "df['Description'].head()"
   ]
  },
  {
   "cell_type": "code",
   "execution_count": 114,
   "metadata": {},
   "outputs": [
    {
     "data": {
      "text/plain": [
       "399567"
      ]
     },
     "execution_count": 114,
     "metadata": {},
     "output_type": "execute_result"
    }
   ],
   "source": [
    "df.shape[0]"
   ]
  },
  {
   "cell_type": "markdown",
   "metadata": {},
   "source": [
    "Quedan 399.657 registros"
   ]
  },
  {
   "cell_type": "markdown",
   "metadata": {},
   "source": [
    "Vamos a guardar el dataframe en un archivo tal y como lo tenemos ahora mismo, antes de comenzar con una ingenieria de características más profunda"
   ]
  },
  {
   "cell_type": "code",
   "execution_count": 115,
   "metadata": {},
   "outputs": [],
   "source": [
    "# Guardar dataset en archivo csv\n",
    "df.to_csv('data_cleaned.csv', index=False)"
   ]
  }
 ],
 "metadata": {
  "kernelspec": {
   "display_name": "Python 3",
   "language": "python",
   "name": "python3"
  },
  "language_info": {
   "codemirror_mode": {
    "name": "ipython",
    "version": 3
   },
   "file_extension": ".py",
   "mimetype": "text/x-python",
   "name": "python",
   "nbconvert_exporter": "python",
   "pygments_lexer": "ipython3",
   "version": "3.10.13"
  }
 },
 "nbformat": 4,
 "nbformat_minor": 2
}

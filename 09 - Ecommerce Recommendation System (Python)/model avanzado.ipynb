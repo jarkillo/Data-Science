{
 "cells": [
  {
   "cell_type": "code",
   "execution_count": 1,
   "metadata": {},
   "outputs": [],
   "source": [
    "import warnings\n",
    "warnings.filterwarnings('ignore')"
   ]
  },
  {
   "cell_type": "code",
   "execution_count": 2,
   "metadata": {},
   "outputs": [],
   "source": [
    "\n",
    "import pandas as pd"
   ]
  },
  {
   "cell_type": "code",
   "execution_count": 3,
   "metadata": {},
   "outputs": [],
   "source": [
    "data = pd.read_csv('data_cleaned.csv',encoding='latin1')"
   ]
  },
  {
   "cell_type": "markdown",
   "metadata": {},
   "source": [
    "# Paso 1: KNN para Productos Similares\n",
    "\n",
    "Primero, vamos a implementar el KNN para encontrar productos similares basándonos en las descripciones de los productos."
   ]
  },
  {
   "cell_type": "code",
   "execution_count": 5,
   "metadata": {},
   "outputs": [],
   "source": [
    "from sklearn.feature_extraction.text import TfidfVectorizer\n",
    "from sklearn.neighbors import NearestNeighbors\n",
    "\n",
    "\n",
    "\n",
    "# Preparando los datos únicos de productos\n",
    "unique_products = data[['StockCode', 'Description']].drop_duplicates().reset_index(drop=True)\n",
    "\n",
    "# TF-IDF Vectorizer\n",
    "tfidf_vectorizer = TfidfVectorizer(stop_words='english')\n",
    "product_tfidf = tfidf_vectorizer.fit_transform(unique_products['Description'])\n",
    "\n",
    "# Modelo KNN para productos\n",
    "knn_model_products = NearestNeighbors(n_neighbors=5, algorithm='auto').fit(product_tfidf)"
   ]
  },
  {
   "cell_type": "markdown",
   "metadata": {},
   "source": [
    "# Paso 2: KNN para Usuarios Similares\n",
    "\n",
    "A continuación, aplicaremos KNN para identificar usuarios similares basándonos en características como las ventas totales y cancelaciones."
   ]
  },
  {
   "cell_type": "code",
   "execution_count": 6,
   "metadata": {},
   "outputs": [],
   "source": [
    "from sklearn.preprocessing import StandardScaler\n",
    "\n",
    "# Seleccionando características de los usuarios\n",
    "user_features = data[['CustomerID', 'ClientTotalSales', 'ClientTotalCancel']].drop_duplicates().reset_index(drop=True)\n",
    "\n",
    "# Estandarización de las características\n",
    "scaler = StandardScaler()\n",
    "user_features_scaled = scaler.fit_transform(user_features[['ClientTotalSales', 'ClientTotalCancel']])\n",
    "\n",
    "# Modelo KNN para usuarios\n",
    "knn_model_users = NearestNeighbors(n_neighbors=5, algorithm='auto').fit(user_features_scaled)"
   ]
  },
  {
   "cell_type": "markdown",
   "metadata": {},
   "source": [
    "# Paso 3: Construcción del Modelo (Basico) de Recomendación con KNN\n",
    "\n",
    "Utilizamos otro modelo KNN en la matriz de interacción transpuesta para encontrar productos similares, basándonos en las interacciones de los usuarios"
   ]
  },
  {
   "cell_type": "code",
   "execution_count": 7,
   "metadata": {},
   "outputs": [],
   "source": [
    "# Configuramos KNN para productos\n",
    "knn_items = NearestNeighbors(metric='cosine', algorithm='brute')\n",
    "knn_items.fit(user_product_matrix.T)\n",
    "\n",
    "# Encuentra los productos más similares para cada producto\n",
    "similar_items = knn_items.kneighbors(user_product_matrix.T, n_neighbors=5, return_distance=False)\n",
    "\n"
   ]
  },
  {
   "cell_type": "markdown",
   "metadata": {},
   "source": [
    "# Paso 3: Generación de Recomendaciones y Explicaciones\n",
    "\n",
    "Para cada cliente, identificaremos productos que no ha comprado y encontraremos los más similares a los que sí ha comprado. Proporcionaremos una explicación basada en estos productos similares."
   ]
  },
  {
   "cell_type": "code",
   "execution_count": 21,
   "metadata": {},
   "outputs": [],
   "source": [
    "def get_recommendations(customer_id, n_recommendations=5):\n",
    "    # Obtenemos los productos ya comprados por el cliente.\n",
    "    purchased_indices = user_product_interaction.loc[customer_id].nonzero()[0]\n",
    "    purchased_stockcodes = user_product_interaction.columns[purchased_indices]\n",
    "    \n",
    "    recommendations = []\n",
    "    for stockcode in purchased_stockcodes:\n",
    "        # Para cada producto comprado, encontramos productos similares.\n",
    "        stockcode_idx = list(user_product_interaction.columns).index(stockcode)\n",
    "        distances, indices = model_knn.kneighbors(user_product_interaction.iloc[:, stockcode_idx].values.reshape(1, -1), n_neighbors=n_recommendations+1)\n",
    "        \n",
    "        # Recorremos los productos similares encontrados.\n",
    "        for i, (distance, index) in enumerate(zip(distances.flatten()[1:], indices.flatten()[1:]), start=1):\n",
    "            similar_stockcode = user_product_interaction.columns[index]\n",
    "            # Aseguramos que no recomendamos productos ya comprados.\n",
    "            if similar_stockcode not in purchased_stockcodes:\n",
    "                product_name = df[df['StockCode'] == similar_stockcode]['Description'].iloc[0]\n",
    "                explanation = f\"Porque compraste {df[df['StockCode'] == stockcode]['Description'].iloc[0]} (StockCode {stockcode}), que es similar.\"\n",
    "                recommendations.append((similar_stockcode, product_name, explanation))\n",
    "                if len(recommendations) == n_recommendations:\n",
    "                    return recommendations\n",
    "    return recommendations"
   ]
  },
  {
   "cell_type": "markdown",
   "metadata": {},
   "source": [
    "# Paso 4: Aplicación del Proceso a Todos los Clientes y Exportación a Excel\n",
    "\n",
    "Aplicaremos el proceso a una muestra de clientes y luego exportaremos los resultados a un archivo Excel."
   ]
  },
  {
   "cell_type": "code",
   "execution_count": 23,
   "metadata": {},
   "outputs": [
    {
     "data": {
      "text/plain": [
       "'customer_recommendations_with_details.xlsx'"
      ]
     },
     "execution_count": 23,
     "metadata": {},
     "output_type": "execute_result"
    }
   ],
   "source": [
    "\n",
    "n_recommendations = 5  # Ajusta este valor según el número deseado de recomendaciones por cliente\n",
    "\n",
    "# Elegir una muestra de clientes para demostración\n",
    "sample_customers = user_product_interaction.index[:100]  # Ajusta esto según tu capacidad de procesamiento\n",
    "\n",
    "# Preparar contenedor para las recomendaciones de todos los clientes.\n",
    "all_recommendations = []\n",
    "\n",
    "# Iterar sobre un conjunto de clientes de ejemplo. Ajustar para iterar sobre todos los clientes según necesidades.\n",
    "for customer_id in user_product_interaction.index[:100]:  # Ejemplo: los primeros 100 clientes.\n",
    "    recs = get_recommendations(customer_id)\n",
    "    for rec in recs:\n",
    "        # Agregamos el ID del cliente y las recomendaciones (StockCode, Nombre, Explicación) a nuestra lista.\n",
    "        all_recommendations.append([customer_id] + list(rec))\n",
    "\n",
    "# Convertimos la lista de recomendaciones en un DataFrame.\n",
    "recommendations_df = pd.DataFrame(all_recommendations, columns=['CustomerID', 'StockCode', 'ProductName', 'Explanation'])\n",
    "\n",
    "# Exportamos el DataFrame a un archivo Excel.\n",
    "recommendations_df.to_excel('customer_recommendations_with_explanations.xlsx', index=False)\n",
    "\n"
   ]
  },
  {
   "cell_type": "markdown",
   "metadata": {},
   "source": [
    "El sistema de recomendación que describí utiliza el algoritmo Nearest Neighbors basado en la similitud de coseno para identificar productos similares basándose en las interacciones de compra de los clientes. Aquí te explico cómo funciona y cómo se basa para recomendar"
   ]
  },
  {
   "cell_type": "markdown",
   "metadata": {},
   "source": [
    "# Preparación de los datos: \n",
    "\n",
    "Primero, creamos una matriz de interacción usuario-producto, donde las filas representan a los clientes (CustomerID) y las columnas representan los productos (StockCode). Los valores de esta matriz indican la cantidad de cada producto comprada por cada cliente."
   ]
  },
  {
   "cell_type": "markdown",
   "metadata": {},
   "source": [
    "# Modelo de similitud de productos: \n",
    "\n",
    "Utilizamos el modelo Nearest Neighbors con la métrica de similitud de coseno para calcular qué tan similares son los productos entre sí, basándonos en todas las compras de los clientes. La similitud de coseno mide el ángulo entre dos vectores en el espacio multidimensional de la matriz de interacción, lo cual indica cuán similares son los patrones de compra de dos productos. Productos con patrones de compra similares tendrán una similitud de coseno más alta (más cercana a 1)."
   ]
  },
  {
   "cell_type": "markdown",
   "metadata": {},
   "source": [
    "# Generación de recomendaciones: \n",
    "\n",
    "Para un cliente dado, el sistema identifica los productos que ya ha comprado y busca otros productos que sean similares a estos, basándose en la similitud de coseno calculada. Los productos recomendados son aquellos que son similares a los productos comprados por el cliente pero que el cliente aún no ha comprado."
   ]
  },
  {
   "cell_type": "markdown",
   "metadata": {},
   "source": [
    "Este proceso se basa en la suposición de que si un cliente compra un producto, es probable que esté interesado en otros productos similares en términos de cómo otros clientes interactúan con ellos. Por ejemplo, si muchos clientes compran los productos A y B juntos y un cliente específico solo ha comprado el producto A, el sistema puede recomendar el producto B a ese cliente, sugiriendo que productos comprados de manera similar por otros clientes también podrían ser de su interés."
   ]
  }
 ],
 "metadata": {
  "kernelspec": {
   "display_name": "Python 3",
   "language": "python",
   "name": "python3"
  },
  "language_info": {
   "codemirror_mode": {
    "name": "ipython",
    "version": 3
   },
   "file_extension": ".py",
   "mimetype": "text/x-python",
   "name": "python",
   "nbconvert_exporter": "python",
   "pygments_lexer": "ipython3",
   "version": "3.10.13"
  }
 },
 "nbformat": 4,
 "nbformat_minor": 2
}

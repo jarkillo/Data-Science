{
 "cells": [
  {
   "cell_type": "markdown",
   "metadata": {},
   "source": [
    "Este proyecto es un sistema de recomendación de productos en desarrollo, destinado a mejorar la experiencia de compra en el e-commerce. Utiliza datos reales de transacciones de 2010 y 2011 del dataset \"Online Retail\" disponible en el UCI Machine Learning Repository.\n",
    "\n",
    "Se busca crear un sistema de recomendación hibrido, que tenga en cuenta la descripción y productos que compraron usuarios similares"
   ]
  },
  {
   "cell_type": "markdown",
   "metadata": {},
   "source": [
    "# Elimino los warnings"
   ]
  },
  {
   "cell_type": "code",
   "execution_count": 1,
   "metadata": {},
   "outputs": [],
   "source": [
    "import warnings\n",
    "warnings.filterwarnings('ignore')"
   ]
  },
  {
   "cell_type": "markdown",
   "metadata": {},
   "source": [
    "# Importamos Librerias"
   ]
  },
  {
   "cell_type": "code",
   "execution_count": 2,
   "metadata": {},
   "outputs": [],
   "source": [
    "import pandas as pd\n",
    "import matplotlib.pyplot as plt\n",
    "import seaborn as sns"
   ]
  },
  {
   "cell_type": "markdown",
   "metadata": {},
   "source": [
    "# Carga del archivo csv"
   ]
  },
  {
   "cell_type": "code",
   "execution_count": 3,
   "metadata": {},
   "outputs": [],
   "source": [
    "# Cargar datos con encoding latin1\n",
    "df = pd.read_csv('data.csv',encoding='latin1')"
   ]
  },
  {
   "cell_type": "markdown",
   "metadata": {},
   "source": [
    "# Revisamos el Dataframe"
   ]
  },
  {
   "cell_type": "markdown",
   "metadata": {},
   "source": [
    "En un principio observamos una tabla con 8 columnas:\n",
    "\n",
    "InvoiceNo = El número de la factura\n",
    "StockCode = El codigo del producto\n",
    "Description = La descripción del producto\n",
    "Quantity = La cantidad de este producto en el pedido\n",
    "InvoiceDate = La fecha y hora del pedido\n",
    "UnitPrice = El precio por unidad\n",
    "CustomerID = El codigo de cliente\n",
    "Country = El país de compra"
   ]
  },
  {
   "cell_type": "code",
   "execution_count": 4,
   "metadata": {},
   "outputs": [
    {
     "data": {
      "text/html": [
       "<div>\n",
       "<style scoped>\n",
       "    .dataframe tbody tr th:only-of-type {\n",
       "        vertical-align: middle;\n",
       "    }\n",
       "\n",
       "    .dataframe tbody tr th {\n",
       "        vertical-align: top;\n",
       "    }\n",
       "\n",
       "    .dataframe thead th {\n",
       "        text-align: right;\n",
       "    }\n",
       "</style>\n",
       "<table border=\"1\" class=\"dataframe\">\n",
       "  <thead>\n",
       "    <tr style=\"text-align: right;\">\n",
       "      <th></th>\n",
       "      <th>InvoiceNo</th>\n",
       "      <th>StockCode</th>\n",
       "      <th>Description</th>\n",
       "      <th>Quantity</th>\n",
       "      <th>InvoiceDate</th>\n",
       "      <th>UnitPrice</th>\n",
       "      <th>CustomerID</th>\n",
       "      <th>Country</th>\n",
       "    </tr>\n",
       "  </thead>\n",
       "  <tbody>\n",
       "    <tr>\n",
       "      <th>0</th>\n",
       "      <td>536365</td>\n",
       "      <td>85123A</td>\n",
       "      <td>WHITE HANGING HEART T-LIGHT HOLDER</td>\n",
       "      <td>6</td>\n",
       "      <td>12/1/2010 8:26</td>\n",
       "      <td>2.55</td>\n",
       "      <td>17850.0</td>\n",
       "      <td>United Kingdom</td>\n",
       "    </tr>\n",
       "    <tr>\n",
       "      <th>1</th>\n",
       "      <td>536365</td>\n",
       "      <td>71053</td>\n",
       "      <td>WHITE METAL LANTERN</td>\n",
       "      <td>6</td>\n",
       "      <td>12/1/2010 8:26</td>\n",
       "      <td>3.39</td>\n",
       "      <td>17850.0</td>\n",
       "      <td>United Kingdom</td>\n",
       "    </tr>\n",
       "    <tr>\n",
       "      <th>2</th>\n",
       "      <td>536365</td>\n",
       "      <td>84406B</td>\n",
       "      <td>CREAM CUPID HEARTS COAT HANGER</td>\n",
       "      <td>8</td>\n",
       "      <td>12/1/2010 8:26</td>\n",
       "      <td>2.75</td>\n",
       "      <td>17850.0</td>\n",
       "      <td>United Kingdom</td>\n",
       "    </tr>\n",
       "    <tr>\n",
       "      <th>3</th>\n",
       "      <td>536365</td>\n",
       "      <td>84029G</td>\n",
       "      <td>KNITTED UNION FLAG HOT WATER BOTTLE</td>\n",
       "      <td>6</td>\n",
       "      <td>12/1/2010 8:26</td>\n",
       "      <td>3.39</td>\n",
       "      <td>17850.0</td>\n",
       "      <td>United Kingdom</td>\n",
       "    </tr>\n",
       "    <tr>\n",
       "      <th>4</th>\n",
       "      <td>536365</td>\n",
       "      <td>84029E</td>\n",
       "      <td>RED WOOLLY HOTTIE WHITE HEART.</td>\n",
       "      <td>6</td>\n",
       "      <td>12/1/2010 8:26</td>\n",
       "      <td>3.39</td>\n",
       "      <td>17850.0</td>\n",
       "      <td>United Kingdom</td>\n",
       "    </tr>\n",
       "    <tr>\n",
       "      <th>...</th>\n",
       "      <td>...</td>\n",
       "      <td>...</td>\n",
       "      <td>...</td>\n",
       "      <td>...</td>\n",
       "      <td>...</td>\n",
       "      <td>...</td>\n",
       "      <td>...</td>\n",
       "      <td>...</td>\n",
       "    </tr>\n",
       "    <tr>\n",
       "      <th>541904</th>\n",
       "      <td>581587</td>\n",
       "      <td>22613</td>\n",
       "      <td>PACK OF 20 SPACEBOY NAPKINS</td>\n",
       "      <td>12</td>\n",
       "      <td>12/9/2011 12:50</td>\n",
       "      <td>0.85</td>\n",
       "      <td>12680.0</td>\n",
       "      <td>France</td>\n",
       "    </tr>\n",
       "    <tr>\n",
       "      <th>541905</th>\n",
       "      <td>581587</td>\n",
       "      <td>22899</td>\n",
       "      <td>CHILDREN'S APRON DOLLY GIRL</td>\n",
       "      <td>6</td>\n",
       "      <td>12/9/2011 12:50</td>\n",
       "      <td>2.10</td>\n",
       "      <td>12680.0</td>\n",
       "      <td>France</td>\n",
       "    </tr>\n",
       "    <tr>\n",
       "      <th>541906</th>\n",
       "      <td>581587</td>\n",
       "      <td>23254</td>\n",
       "      <td>CHILDRENS CUTLERY DOLLY GIRL</td>\n",
       "      <td>4</td>\n",
       "      <td>12/9/2011 12:50</td>\n",
       "      <td>4.15</td>\n",
       "      <td>12680.0</td>\n",
       "      <td>France</td>\n",
       "    </tr>\n",
       "    <tr>\n",
       "      <th>541907</th>\n",
       "      <td>581587</td>\n",
       "      <td>23255</td>\n",
       "      <td>CHILDRENS CUTLERY CIRCUS PARADE</td>\n",
       "      <td>4</td>\n",
       "      <td>12/9/2011 12:50</td>\n",
       "      <td>4.15</td>\n",
       "      <td>12680.0</td>\n",
       "      <td>France</td>\n",
       "    </tr>\n",
       "    <tr>\n",
       "      <th>541908</th>\n",
       "      <td>581587</td>\n",
       "      <td>22138</td>\n",
       "      <td>BAKING SET 9 PIECE RETROSPOT</td>\n",
       "      <td>3</td>\n",
       "      <td>12/9/2011 12:50</td>\n",
       "      <td>4.95</td>\n",
       "      <td>12680.0</td>\n",
       "      <td>France</td>\n",
       "    </tr>\n",
       "  </tbody>\n",
       "</table>\n",
       "<p>541909 rows × 8 columns</p>\n",
       "</div>"
      ],
      "text/plain": [
       "       InvoiceNo StockCode                          Description  Quantity  \\\n",
       "0         536365    85123A   WHITE HANGING HEART T-LIGHT HOLDER         6   \n",
       "1         536365     71053                  WHITE METAL LANTERN         6   \n",
       "2         536365    84406B       CREAM CUPID HEARTS COAT HANGER         8   \n",
       "3         536365    84029G  KNITTED UNION FLAG HOT WATER BOTTLE         6   \n",
       "4         536365    84029E       RED WOOLLY HOTTIE WHITE HEART.         6   \n",
       "...          ...       ...                                  ...       ...   \n",
       "541904    581587     22613          PACK OF 20 SPACEBOY NAPKINS        12   \n",
       "541905    581587     22899         CHILDREN'S APRON DOLLY GIRL          6   \n",
       "541906    581587     23254        CHILDRENS CUTLERY DOLLY GIRL          4   \n",
       "541907    581587     23255      CHILDRENS CUTLERY CIRCUS PARADE         4   \n",
       "541908    581587     22138        BAKING SET 9 PIECE RETROSPOT          3   \n",
       "\n",
       "            InvoiceDate  UnitPrice  CustomerID         Country  \n",
       "0        12/1/2010 8:26       2.55     17850.0  United Kingdom  \n",
       "1        12/1/2010 8:26       3.39     17850.0  United Kingdom  \n",
       "2        12/1/2010 8:26       2.75     17850.0  United Kingdom  \n",
       "3        12/1/2010 8:26       3.39     17850.0  United Kingdom  \n",
       "4        12/1/2010 8:26       3.39     17850.0  United Kingdom  \n",
       "...                 ...        ...         ...             ...  \n",
       "541904  12/9/2011 12:50       0.85     12680.0          France  \n",
       "541905  12/9/2011 12:50       2.10     12680.0          France  \n",
       "541906  12/9/2011 12:50       4.15     12680.0          France  \n",
       "541907  12/9/2011 12:50       4.15     12680.0          France  \n",
       "541908  12/9/2011 12:50       4.95     12680.0          France  \n",
       "\n",
       "[541909 rows x 8 columns]"
      ]
     },
     "execution_count": 4,
     "metadata": {},
     "output_type": "execute_result"
    }
   ],
   "source": [
    "df"
   ]
  },
  {
   "cell_type": "markdown",
   "metadata": {},
   "source": [
    "Al observar la información del dataset, vemos que existen datos faltantes en CustomerID y Description, veamos cuantos"
   ]
  },
  {
   "cell_type": "markdown",
   "metadata": {},
   "source": [
    "# Revision de datos faltantes"
   ]
  },
  {
   "cell_type": "code",
   "execution_count": 5,
   "metadata": {},
   "outputs": [
    {
     "name": "stdout",
     "output_type": "stream",
     "text": [
      "<class 'pandas.core.frame.DataFrame'>\n",
      "RangeIndex: 541909 entries, 0 to 541908\n",
      "Data columns (total 8 columns):\n",
      " #   Column       Non-Null Count   Dtype  \n",
      "---  ------       --------------   -----  \n",
      " 0   InvoiceNo    541909 non-null  object \n",
      " 1   StockCode    541909 non-null  object \n",
      " 2   Description  540455 non-null  object \n",
      " 3   Quantity     541909 non-null  int64  \n",
      " 4   InvoiceDate  541909 non-null  object \n",
      " 5   UnitPrice    541909 non-null  float64\n",
      " 6   CustomerID   406829 non-null  float64\n",
      " 7   Country      541909 non-null  object \n",
      "dtypes: float64(2), int64(1), object(5)\n",
      "memory usage: 33.1+ MB\n"
     ]
    }
   ],
   "source": [
    "df.info()"
   ]
  },
  {
   "cell_type": "code",
   "execution_count": 6,
   "metadata": {},
   "outputs": [
    {
     "data": {
      "text/plain": [
       "InvoiceNo           0\n",
       "StockCode           0\n",
       "Description      1454\n",
       "Quantity            0\n",
       "InvoiceDate         0\n",
       "UnitPrice           0\n",
       "CustomerID     135080\n",
       "Country             0\n",
       "dtype: int64"
      ]
     },
     "execution_count": 6,
     "metadata": {},
     "output_type": "execute_result"
    }
   ],
   "source": [
    "# Comprobar valores nulos\n",
    "df.isna().sum()"
   ]
  },
  {
   "cell_type": "code",
   "execution_count": 7,
   "metadata": {},
   "outputs": [
    {
     "data": {
      "text/plain": [
       "InvoiceNo       0.000000\n",
       "StockCode       0.000000\n",
       "Description     0.268311\n",
       "Quantity        0.000000\n",
       "InvoiceDate     0.000000\n",
       "UnitPrice       0.000000\n",
       "CustomerID     24.926694\n",
       "Country         0.000000\n",
       "dtype: float64"
      ]
     },
     "execution_count": 7,
     "metadata": {},
     "output_type": "execute_result"
    }
   ],
   "source": [
    "# Calculamos el porcentaje de valores nulos\n",
    "df.isna().sum()/len(df)*100"
   ]
  },
  {
   "cell_type": "markdown",
   "metadata": {},
   "source": [
    "Tenemos un 25% de valores nulos en CustomerID, exactamente 135080 pedidos. Tenemos varias opciones:\n",
    "\n",
    "* Imputarles un valor unico: Esto es un problema, ya que consideraríamos que hay un cliente que ha comprado todos esos productos, por lo que el sistema puede pensar que es un cliente similar a muchos otros clientes o resultar como un cliente atipico.\n",
    "\n",
    "* Imputarles un valor unico a cada pedido: Esto provocaria un aumento de clientes que solo han pedido una vez, y podrian crear un cluster propio.\n",
    "\n",
    "* Eliminarlos: Perderíamos el 25% del dataset\n",
    "\n",
    "De momento sigamos analizando el dataset, luego veremos como solucionar esto.\n",
    "\n",
    "En el dataset existe una linea por cada producto, por tanto un mismo pedido tendra varias lineas, con mismo numero de pedido y mismo numero de cliente, así que puede ser importante comparar si existen valores nulos en pedidos que tengamos valores no nulos, de esta forma sabriamos el customerID que corresponde. Al igual podemos hacerlo con la description. En caso de que un StockCode de un valor nulo exista en un StockCode de valor nulo, y de esta forma conoceriamos la descripción.\n"
   ]
  },
  {
   "cell_type": "code",
   "execution_count": 8,
   "metadata": {},
   "outputs": [
    {
     "name": "stdout",
     "output_type": "stream",
     "text": [
      "Empty DataFrame\n",
      "Columns: [InvoiceNo, StockCode, Description, Quantity, InvoiceDate, UnitPrice, CustomerID, Country]\n",
      "Index: []\n"
     ]
    }
   ],
   "source": [
    "# Buscamos valores de description que no sean nulos para el mismo stockcode de un valor nulo de description\n",
    "def check_null_and_not_null(group):\n",
    "    return group.isnull().any() and group.notnull().any()\n",
    "\n",
    "# Filtrar los StockCode que cumplen con la condición\n",
    "filtered_stockcodes = df.groupby('StockCode')['Description'].filter(check_null_and_not_null)\n",
    "\n",
    "# Obtener las filas del DataFrame original donde los StockCode cumplen con la condición\n",
    "result = df[df['StockCode'].isin(filtered_stockcodes.unique())]\n",
    "\n",
    "print(result)"
   ]
  },
  {
   "cell_type": "markdown",
   "metadata": {},
   "source": [
    "** NOTA **: En el segundo EDA vemos que esto está mal"
   ]
  },
  {
   "cell_type": "markdown",
   "metadata": {},
   "source": [
    "Acabamos de comprobar que no existen registros, por tanto, los productos sin descripcion son los mismos, veamos cuantas veces se repite cada StockCode sin valor en description"
   ]
  },
  {
   "cell_type": "code",
   "execution_count": 9,
   "metadata": {},
   "outputs": [
    {
     "name": "stdout",
     "output_type": "stream",
     "text": [
      "StockCode\n",
      "35965     10\n",
      "23084     10\n",
      "22084      9\n",
      "22451      6\n",
      "22501      5\n",
      "          ..\n",
      "16169P     1\n",
      "84846A     1\n",
      "82545A     1\n",
      "84251F     1\n",
      "85175      1\n",
      "Name: count, Length: 960, dtype: int64\n"
     ]
    }
   ],
   "source": [
    "# veamos cuantas veces se repite cada StockCode con description nula\n",
    "# Filtrar para obtener solo las filas donde 'description' es nulo\n",
    "df_null_descriptions = df[df['Description'].isnull()]\n",
    "\n",
    "# Contar cuántas veces se repite cada StockCode\n",
    "stockcode_counts = df_null_descriptions['StockCode'].value_counts()\n",
    "\n",
    "print(stockcode_counts)"
   ]
  },
  {
   "cell_type": "markdown",
   "metadata": {},
   "source": [
    "Tenemos 960 productos sin descripción. Aunque podriamos usar su StockCode para encontrar clientes que han comprado ese producto, no podemos usar su descripcion para saber que tipo de producto es.\n",
    "\n",
    "Finalmente decido eliminar las lineas con datos faltantes de CustomerID y Descriptions nulas, aunque es una perdida considerable, el tamaño del dataset continua siendo considerablemente grande."
   ]
  },
  {
   "cell_type": "code",
   "execution_count": 10,
   "metadata": {},
   "outputs": [],
   "source": [
    "# Eliminamos los valores nulos\n",
    "\n",
    "# Eliminar las filas con valores nulos\n",
    "df = df.dropna()"
   ]
  },
  {
   "cell_type": "code",
   "execution_count": 11,
   "metadata": {},
   "outputs": [
    {
     "data": {
      "text/plain": [
       "InvoiceNo      0\n",
       "StockCode      0\n",
       "Description    0\n",
       "Quantity       0\n",
       "InvoiceDate    0\n",
       "UnitPrice      0\n",
       "CustomerID     0\n",
       "Country        0\n",
       "dtype: int64"
      ]
     },
     "execution_count": 11,
     "metadata": {},
     "output_type": "execute_result"
    }
   ],
   "source": [
    "# Comprobamos que se han eliminado correctamente\n",
    "\n",
    "df.isna().sum()"
   ]
  },
  {
   "cell_type": "code",
   "execution_count": 12,
   "metadata": {},
   "outputs": [
    {
     "name": "stdout",
     "output_type": "stream",
     "text": [
      "<class 'pandas.core.frame.DataFrame'>\n",
      "Index: 406829 entries, 0 to 541908\n",
      "Data columns (total 8 columns):\n",
      " #   Column       Non-Null Count   Dtype  \n",
      "---  ------       --------------   -----  \n",
      " 0   InvoiceNo    406829 non-null  object \n",
      " 1   StockCode    406829 non-null  object \n",
      " 2   Description  406829 non-null  object \n",
      " 3   Quantity     406829 non-null  int64  \n",
      " 4   InvoiceDate  406829 non-null  object \n",
      " 5   UnitPrice    406829 non-null  float64\n",
      " 6   CustomerID   406829 non-null  float64\n",
      " 7   Country      406829 non-null  object \n",
      "dtypes: float64(2), int64(1), object(5)\n",
      "memory usage: 27.9+ MB\n"
     ]
    }
   ],
   "source": [
    "df.info()"
   ]
  },
  {
   "cell_type": "markdown",
   "metadata": {},
   "source": [
    "Han quedado 406829 Entradas"
   ]
  },
  {
   "cell_type": "markdown",
   "metadata": {},
   "source": [
    "Ahora vamos a ver las estadisticas descriptivas del Dataset"
   ]
  },
  {
   "cell_type": "code",
   "execution_count": 13,
   "metadata": {},
   "outputs": [],
   "source": [
    "# Eliminar notación cientifica\n",
    "pd.options.display.float_format = '{:.6f}'.format"
   ]
  },
  {
   "cell_type": "code",
   "execution_count": 14,
   "metadata": {},
   "outputs": [
    {
     "data": {
      "text/html": [
       "<div>\n",
       "<style scoped>\n",
       "    .dataframe tbody tr th:only-of-type {\n",
       "        vertical-align: middle;\n",
       "    }\n",
       "\n",
       "    .dataframe tbody tr th {\n",
       "        vertical-align: top;\n",
       "    }\n",
       "\n",
       "    .dataframe thead th {\n",
       "        text-align: right;\n",
       "    }\n",
       "</style>\n",
       "<table border=\"1\" class=\"dataframe\">\n",
       "  <thead>\n",
       "    <tr style=\"text-align: right;\">\n",
       "      <th></th>\n",
       "      <th>count</th>\n",
       "      <th>mean</th>\n",
       "      <th>std</th>\n",
       "      <th>min</th>\n",
       "      <th>25%</th>\n",
       "      <th>50%</th>\n",
       "      <th>75%</th>\n",
       "      <th>max</th>\n",
       "    </tr>\n",
       "  </thead>\n",
       "  <tbody>\n",
       "    <tr>\n",
       "      <th>Quantity</th>\n",
       "      <td>406829.000000</td>\n",
       "      <td>12.061303</td>\n",
       "      <td>248.693370</td>\n",
       "      <td>-80995.000000</td>\n",
       "      <td>2.000000</td>\n",
       "      <td>5.000000</td>\n",
       "      <td>12.000000</td>\n",
       "      <td>80995.000000</td>\n",
       "    </tr>\n",
       "    <tr>\n",
       "      <th>UnitPrice</th>\n",
       "      <td>406829.000000</td>\n",
       "      <td>3.460471</td>\n",
       "      <td>69.315162</td>\n",
       "      <td>0.000000</td>\n",
       "      <td>1.250000</td>\n",
       "      <td>1.950000</td>\n",
       "      <td>3.750000</td>\n",
       "      <td>38970.000000</td>\n",
       "    </tr>\n",
       "    <tr>\n",
       "      <th>CustomerID</th>\n",
       "      <td>406829.000000</td>\n",
       "      <td>15287.690570</td>\n",
       "      <td>1713.600303</td>\n",
       "      <td>12346.000000</td>\n",
       "      <td>13953.000000</td>\n",
       "      <td>15152.000000</td>\n",
       "      <td>16791.000000</td>\n",
       "      <td>18287.000000</td>\n",
       "    </tr>\n",
       "  </tbody>\n",
       "</table>\n",
       "</div>"
      ],
      "text/plain": [
       "                   count         mean         std           min          25%  \\\n",
       "Quantity   406829.000000    12.061303  248.693370 -80995.000000     2.000000   \n",
       "UnitPrice  406829.000000     3.460471   69.315162      0.000000     1.250000   \n",
       "CustomerID 406829.000000 15287.690570 1713.600303  12346.000000 13953.000000   \n",
       "\n",
       "                    50%          75%          max  \n",
       "Quantity       5.000000    12.000000 80995.000000  \n",
       "UnitPrice      1.950000     3.750000 38970.000000  \n",
       "CustomerID 15152.000000 16791.000000 18287.000000  "
      ]
     },
     "execution_count": 14,
     "metadata": {},
     "output_type": "execute_result"
    }
   ],
   "source": [
    "# Una primera aproximacion a las estadisticas descriptivas transponiendo la tabla\n",
    "\n",
    "df.describe().T"
   ]
  },
  {
   "cell_type": "code",
   "execution_count": 15,
   "metadata": {},
   "outputs": [
    {
     "data": {
      "text/html": [
       "<div>\n",
       "<style scoped>\n",
       "    .dataframe tbody tr th:only-of-type {\n",
       "        vertical-align: middle;\n",
       "    }\n",
       "\n",
       "    .dataframe tbody tr th {\n",
       "        vertical-align: top;\n",
       "    }\n",
       "\n",
       "    .dataframe thead th {\n",
       "        text-align: right;\n",
       "    }\n",
       "</style>\n",
       "<table border=\"1\" class=\"dataframe\">\n",
       "  <thead>\n",
       "    <tr style=\"text-align: right;\">\n",
       "      <th></th>\n",
       "      <th>count</th>\n",
       "      <th>unique</th>\n",
       "      <th>top</th>\n",
       "      <th>freq</th>\n",
       "    </tr>\n",
       "  </thead>\n",
       "  <tbody>\n",
       "    <tr>\n",
       "      <th>InvoiceNo</th>\n",
       "      <td>406829</td>\n",
       "      <td>22190</td>\n",
       "      <td>576339</td>\n",
       "      <td>542</td>\n",
       "    </tr>\n",
       "    <tr>\n",
       "      <th>StockCode</th>\n",
       "      <td>406829</td>\n",
       "      <td>3684</td>\n",
       "      <td>85123A</td>\n",
       "      <td>2077</td>\n",
       "    </tr>\n",
       "    <tr>\n",
       "      <th>Description</th>\n",
       "      <td>406829</td>\n",
       "      <td>3896</td>\n",
       "      <td>WHITE HANGING HEART T-LIGHT HOLDER</td>\n",
       "      <td>2070</td>\n",
       "    </tr>\n",
       "    <tr>\n",
       "      <th>InvoiceDate</th>\n",
       "      <td>406829</td>\n",
       "      <td>20460</td>\n",
       "      <td>11/14/2011 15:27</td>\n",
       "      <td>543</td>\n",
       "    </tr>\n",
       "    <tr>\n",
       "      <th>Country</th>\n",
       "      <td>406829</td>\n",
       "      <td>37</td>\n",
       "      <td>United Kingdom</td>\n",
       "      <td>361878</td>\n",
       "    </tr>\n",
       "  </tbody>\n",
       "</table>\n",
       "</div>"
      ],
      "text/plain": [
       "              count unique                                 top    freq\n",
       "InvoiceNo    406829  22190                              576339     542\n",
       "StockCode    406829   3684                              85123A    2077\n",
       "Description  406829   3896  WHITE HANGING HEART T-LIGHT HOLDER    2070\n",
       "InvoiceDate  406829  20460                    11/14/2011 15:27     543\n",
       "Country      406829     37                      United Kingdom  361878"
      ]
     },
     "execution_count": 15,
     "metadata": {},
     "output_type": "execute_result"
    }
   ],
   "source": [
    "# Veamos una estadistica descriptiva de las variables categoricas\n",
    "\n",
    "df.describe(include='object').T"
   ]
  },
  {
   "cell_type": "markdown",
   "metadata": {},
   "source": [
    "Conclusiones:\n",
    "\n",
    "* Cantidad: La media de productos en cada transaccion es de 9.55, va de un minimo de -80995 a un maximo de 80995, Los valores negativos indican pedidos cancelados o devueltos, esto es algo que hay que tratar adecuadamente.Existen valores atípicos ya que hay mucha diferencia entre el maximo y el valor del percentil 75, además la desviación típica es de 248, lo que indica bastante dispersion en los datos. \n",
    "\n",
    "* Precio por unidad: La media de precios por unidad es de 4.61, va de un valor mínimo de 0 a un máximo de 38970, lo cual es un rango bastante amplio, o bien existen datos erroneos, o se venden productos de un gran abanico de precios. También existe mucha diferencia entre el máximo y el percentil 75, por lo que existen valores atípicos. La desviación típica es de 69.31.\n",
    "\n",
    "* Numero de factura: Hay 22190 facturas unicas, lo que quiere decir que la muestra contiene 22190 transacciones. La factura con más productos diferentes es la 576339 que aparece 542 veces.\n",
    "\n",
    "* StockCode: Hay 3684 StockCodes unicos, por lo que en la muestra tenemos 3684 productos. El producto que aparece en más facturas es el 85123A, lo que no indica que sea el producto más vendido, sino un producto que se pide en la mayoría de pedidos.\n",
    "\n",
    "* Descripción: Hay 3896 descripciones para 3684 productos, esto indica que existen descripciones diferentes para un mismo producto. Esto puede deberse a algun cambio en la descripcion durante el periodo cubierto por el dataset. \n",
    "\n",
    "* InvoiceDate: Hay 20460 fechas diferentes, habria que comprobar cuantos dias existen en el dataset. La fecha con más productos diferentes pedidos es el 14/11/2011 a las 15:27, BlackFriday fue el 25 de noviembre, habría que comprobar si esta tienda realizó black week, o si hubo algun evento especial en esta fecha.\n",
    "\n",
    "* Country: Hay 37 paises diferentes en el dataset, el más repetido es United Kingdom con 361878 pedidos desde alli (Aproximadamente el 89% de los pedidos)\n"
   ]
  },
  {
   "cell_type": "markdown",
   "metadata": {},
   "source": [
    "# Busqueda de duplicados"
   ]
  },
  {
   "cell_type": "markdown",
   "metadata": {},
   "source": [
    "Ahora vamos a buscar si hay valores duplicados en el dataset"
   ]
  },
  {
   "cell_type": "code",
   "execution_count": 16,
   "metadata": {},
   "outputs": [
    {
     "data": {
      "text/html": [
       "<div>\n",
       "<style scoped>\n",
       "    .dataframe tbody tr th:only-of-type {\n",
       "        vertical-align: middle;\n",
       "    }\n",
       "\n",
       "    .dataframe tbody tr th {\n",
       "        vertical-align: top;\n",
       "    }\n",
       "\n",
       "    .dataframe thead th {\n",
       "        text-align: right;\n",
       "    }\n",
       "</style>\n",
       "<table border=\"1\" class=\"dataframe\">\n",
       "  <thead>\n",
       "    <tr style=\"text-align: right;\">\n",
       "      <th></th>\n",
       "      <th>InvoiceNo</th>\n",
       "      <th>StockCode</th>\n",
       "      <th>Description</th>\n",
       "      <th>Quantity</th>\n",
       "      <th>InvoiceDate</th>\n",
       "      <th>UnitPrice</th>\n",
       "      <th>CustomerID</th>\n",
       "      <th>Country</th>\n",
       "    </tr>\n",
       "  </thead>\n",
       "  <tbody>\n",
       "    <tr>\n",
       "      <th>494</th>\n",
       "      <td>536409</td>\n",
       "      <td>21866</td>\n",
       "      <td>UNION JACK FLAG LUGGAGE TAG</td>\n",
       "      <td>1</td>\n",
       "      <td>12/1/2010 11:45</td>\n",
       "      <td>1.250000</td>\n",
       "      <td>17908.000000</td>\n",
       "      <td>United Kingdom</td>\n",
       "    </tr>\n",
       "    <tr>\n",
       "      <th>517</th>\n",
       "      <td>536409</td>\n",
       "      <td>21866</td>\n",
       "      <td>UNION JACK FLAG LUGGAGE TAG</td>\n",
       "      <td>1</td>\n",
       "      <td>12/1/2010 11:45</td>\n",
       "      <td>1.250000</td>\n",
       "      <td>17908.000000</td>\n",
       "      <td>United Kingdom</td>\n",
       "    </tr>\n",
       "    <tr>\n",
       "      <th>485</th>\n",
       "      <td>536409</td>\n",
       "      <td>22111</td>\n",
       "      <td>SCOTTIE DOG HOT WATER BOTTLE</td>\n",
       "      <td>1</td>\n",
       "      <td>12/1/2010 11:45</td>\n",
       "      <td>4.950000</td>\n",
       "      <td>17908.000000</td>\n",
       "      <td>United Kingdom</td>\n",
       "    </tr>\n",
       "    <tr>\n",
       "      <th>539</th>\n",
       "      <td>536409</td>\n",
       "      <td>22111</td>\n",
       "      <td>SCOTTIE DOG HOT WATER BOTTLE</td>\n",
       "      <td>1</td>\n",
       "      <td>12/1/2010 11:45</td>\n",
       "      <td>4.950000</td>\n",
       "      <td>17908.000000</td>\n",
       "      <td>United Kingdom</td>\n",
       "    </tr>\n",
       "    <tr>\n",
       "      <th>489</th>\n",
       "      <td>536409</td>\n",
       "      <td>22866</td>\n",
       "      <td>HAND WARMER SCOTTY DOG DESIGN</td>\n",
       "      <td>1</td>\n",
       "      <td>12/1/2010 11:45</td>\n",
       "      <td>2.100000</td>\n",
       "      <td>17908.000000</td>\n",
       "      <td>United Kingdom</td>\n",
       "    </tr>\n",
       "    <tr>\n",
       "      <th>527</th>\n",
       "      <td>536409</td>\n",
       "      <td>22866</td>\n",
       "      <td>HAND WARMER SCOTTY DOG DESIGN</td>\n",
       "      <td>1</td>\n",
       "      <td>12/1/2010 11:45</td>\n",
       "      <td>2.100000</td>\n",
       "      <td>17908.000000</td>\n",
       "      <td>United Kingdom</td>\n",
       "    </tr>\n",
       "    <tr>\n",
       "      <th>521</th>\n",
       "      <td>536409</td>\n",
       "      <td>22900</td>\n",
       "      <td>SET 2 TEA TOWELS I LOVE LONDON</td>\n",
       "      <td>1</td>\n",
       "      <td>12/1/2010 11:45</td>\n",
       "      <td>2.950000</td>\n",
       "      <td>17908.000000</td>\n",
       "      <td>United Kingdom</td>\n",
       "    </tr>\n",
       "    <tr>\n",
       "      <th>537</th>\n",
       "      <td>536409</td>\n",
       "      <td>22900</td>\n",
       "      <td>SET 2 TEA TOWELS I LOVE LONDON</td>\n",
       "      <td>1</td>\n",
       "      <td>12/1/2010 11:45</td>\n",
       "      <td>2.950000</td>\n",
       "      <td>17908.000000</td>\n",
       "      <td>United Kingdom</td>\n",
       "    </tr>\n",
       "    <tr>\n",
       "      <th>578</th>\n",
       "      <td>536412</td>\n",
       "      <td>21448</td>\n",
       "      <td>12 DAISY PEGS IN WOOD BOX</td>\n",
       "      <td>1</td>\n",
       "      <td>12/1/2010 11:49</td>\n",
       "      <td>1.650000</td>\n",
       "      <td>17920.000000</td>\n",
       "      <td>United Kingdom</td>\n",
       "    </tr>\n",
       "    <tr>\n",
       "      <th>598</th>\n",
       "      <td>536412</td>\n",
       "      <td>21448</td>\n",
       "      <td>12 DAISY PEGS IN WOOD BOX</td>\n",
       "      <td>1</td>\n",
       "      <td>12/1/2010 11:49</td>\n",
       "      <td>1.650000</td>\n",
       "      <td>17920.000000</td>\n",
       "      <td>United Kingdom</td>\n",
       "    </tr>\n",
       "  </tbody>\n",
       "</table>\n",
       "</div>"
      ],
      "text/plain": [
       "    InvoiceNo StockCode                       Description  Quantity  \\\n",
       "494    536409     21866       UNION JACK FLAG LUGGAGE TAG         1   \n",
       "517    536409     21866       UNION JACK FLAG LUGGAGE TAG         1   \n",
       "485    536409     22111      SCOTTIE DOG HOT WATER BOTTLE         1   \n",
       "539    536409     22111      SCOTTIE DOG HOT WATER BOTTLE         1   \n",
       "489    536409     22866     HAND WARMER SCOTTY DOG DESIGN         1   \n",
       "527    536409     22866     HAND WARMER SCOTTY DOG DESIGN         1   \n",
       "521    536409     22900   SET 2 TEA TOWELS I LOVE LONDON          1   \n",
       "537    536409     22900   SET 2 TEA TOWELS I LOVE LONDON          1   \n",
       "578    536412     21448         12 DAISY PEGS IN WOOD BOX         1   \n",
       "598    536412     21448         12 DAISY PEGS IN WOOD BOX         1   \n",
       "\n",
       "         InvoiceDate  UnitPrice   CustomerID         Country  \n",
       "494  12/1/2010 11:45   1.250000 17908.000000  United Kingdom  \n",
       "517  12/1/2010 11:45   1.250000 17908.000000  United Kingdom  \n",
       "485  12/1/2010 11:45   4.950000 17908.000000  United Kingdom  \n",
       "539  12/1/2010 11:45   4.950000 17908.000000  United Kingdom  \n",
       "489  12/1/2010 11:45   2.100000 17908.000000  United Kingdom  \n",
       "527  12/1/2010 11:45   2.100000 17908.000000  United Kingdom  \n",
       "521  12/1/2010 11:45   2.950000 17908.000000  United Kingdom  \n",
       "537  12/1/2010 11:45   2.950000 17908.000000  United Kingdom  \n",
       "578  12/1/2010 11:49   1.650000 17920.000000  United Kingdom  \n",
       "598  12/1/2010 11:49   1.650000 17920.000000  United Kingdom  "
      ]
     },
     "execution_count": 16,
     "metadata": {},
     "output_type": "execute_result"
    }
   ],
   "source": [
    "# Busqueda de duplicados marcando todas las instancias de duplicados\n",
    "filas_duplicadas = df[df.duplicated(keep=False)]\n",
    "\n",
    "# Ordenamos los datos para verlas mejor\n",
    "filas_duplicadas_ordenadas = filas_duplicadas.sort_values(by=['InvoiceNo', 'StockCode', 'Description', 'CustomerID', 'Quantity'])\n",
    "\n",
    "# Mostramos las 10 primeras filas\n",
    "filas_duplicadas_ordenadas.head(10)"
   ]
  },
  {
   "cell_type": "code",
   "execution_count": 17,
   "metadata": {},
   "outputs": [
    {
     "data": {
      "text/plain": [
       "58"
      ]
     },
     "execution_count": 17,
     "metadata": {},
     "output_type": "execute_result"
    }
   ],
   "source": [
    "count_items = df[df['InvoiceNo'] == '536409'].shape[0]\n",
    "count_items"
   ]
  },
  {
   "cell_type": "code",
   "execution_count": 18,
   "metadata": {},
   "outputs": [
    {
     "data": {
      "text/plain": [
       "(483, 540)"
      ]
     },
     "execution_count": 18,
     "metadata": {},
     "output_type": "execute_result"
    }
   ],
   "source": [
    "# Obtener los valores mínimo y máximo de los índices para el InvoiceNo 536409\n",
    "min_index = df[df['InvoiceNo'] == '536409'].index.min()\n",
    "max_index = df[df['InvoiceNo'] == '536409'].index.max()\n",
    "\n",
    "min_index, max_index\n"
   ]
  },
  {
   "cell_type": "code",
   "execution_count": 19,
   "metadata": {},
   "outputs": [
    {
     "data": {
      "text/plain": [
       "(541, 621, 81)"
      ]
     },
     "execution_count": 19,
     "metadata": {},
     "output_type": "execute_result"
    }
   ],
   "source": [
    "count_items = df[df['InvoiceNo'] == '536412'].shape[0]\n",
    "\n",
    "# Obtener los valores mínimo y máximo de los índices para el InvoiceNo 536412\n",
    "min_index = df[df['InvoiceNo'] == '536412'].index.min()\n",
    "max_index = df[df['InvoiceNo'] == '536412'].index.max()\n",
    "\n",
    "min_index, max_index, count_items"
   ]
  },
  {
   "cell_type": "markdown",
   "metadata": {},
   "source": [
    "No tenemos muchos casos de entradas duplicadas. Aqui tenemos que hacer suposiciones:\n",
    "\n",
    "* Opción 1: El cliente añadió al carrito el producto, a continuación añadió otros productos y luego volvió a añadir el primero. La hora del pedido es la misma para ambos productos, por lo que es normal que sea la misma.\n",
    "\n",
    "* Opcion 2: Es un error, del dataset y tendriamos que eliminar el duplicado.\n",
    "\n",
    "Como son pocos, podemos analizarlo tranquilamente. Si observamos, se producen varios duplicados en el mismo pedido. Es un pedido con 58 articulos, que van del indice 483 al 540, todos los productos del pedido se encuentran en ese rango, asi que pueden ser perfectamente productos que el usuario ha añadido de forma separada.\n",
    "\n",
    "El segundo pedido con 1 solo articulo duplicado tiene 81 articulos, que van del 541 al 621.\n",
    "\n",
    "Habria que comprobar si la plataforma al generar la factura, en caso de meter los productos por separados, no los acumula sino que los añade en lineas diferentes, auque resulta extraño que sea un caso que solo le suceda a dos clientes, 1 sola vez y con tanta cantidad de articulos en la factura, asi que he decidido eliminar los duplicados."
   ]
  },
  {
   "cell_type": "code",
   "execution_count": 20,
   "metadata": {},
   "outputs": [],
   "source": [
    "# Removing duplicate rows\n",
    "df.drop_duplicates(inplace=True)"
   ]
  },
  {
   "cell_type": "code",
   "execution_count": 21,
   "metadata": {},
   "outputs": [
    {
     "data": {
      "text/plain": [
       "401604"
      ]
     },
     "execution_count": 21,
     "metadata": {},
     "output_type": "execute_result"
    }
   ],
   "source": [
    "# Vemos cuantas entradas han quedado\n",
    "df.shape[0]"
   ]
  },
  {
   "cell_type": "markdown",
   "metadata": {},
   "source": [
    "Quedan 401604 entradas"
   ]
  },
  {
   "cell_type": "markdown",
   "metadata": {},
   "source": [
    "Vamos a buscar valores de precios extraños"
   ]
  },
  {
   "cell_type": "code",
   "execution_count": 22,
   "metadata": {},
   "outputs": [
    {
     "data": {
      "text/html": [
       "<div>\n",
       "<style scoped>\n",
       "    .dataframe tbody tr th:only-of-type {\n",
       "        vertical-align: middle;\n",
       "    }\n",
       "\n",
       "    .dataframe tbody tr th {\n",
       "        vertical-align: top;\n",
       "    }\n",
       "\n",
       "    .dataframe thead th {\n",
       "        text-align: right;\n",
       "    }\n",
       "</style>\n",
       "<table border=\"1\" class=\"dataframe\">\n",
       "  <thead>\n",
       "    <tr style=\"text-align: right;\">\n",
       "      <th></th>\n",
       "      <th>InvoiceNo</th>\n",
       "      <th>StockCode</th>\n",
       "      <th>Description</th>\n",
       "      <th>Quantity</th>\n",
       "      <th>InvoiceDate</th>\n",
       "      <th>UnitPrice</th>\n",
       "      <th>CustomerID</th>\n",
       "      <th>Country</th>\n",
       "    </tr>\n",
       "  </thead>\n",
       "  <tbody>\n",
       "    <tr>\n",
       "      <th>9302</th>\n",
       "      <td>537197</td>\n",
       "      <td>22841</td>\n",
       "      <td>ROUND CAKE TIN VINTAGE GREEN</td>\n",
       "      <td>1</td>\n",
       "      <td>12/5/2010 14:02</td>\n",
       "      <td>0.000000</td>\n",
       "      <td>12647.000000</td>\n",
       "      <td>Germany</td>\n",
       "    </tr>\n",
       "    <tr>\n",
       "      <th>33576</th>\n",
       "      <td>539263</td>\n",
       "      <td>22580</td>\n",
       "      <td>ADVENT CALENDAR GINGHAM SACK</td>\n",
       "      <td>4</td>\n",
       "      <td>12/16/2010 14:36</td>\n",
       "      <td>0.000000</td>\n",
       "      <td>16560.000000</td>\n",
       "      <td>United Kingdom</td>\n",
       "    </tr>\n",
       "    <tr>\n",
       "      <th>40089</th>\n",
       "      <td>539722</td>\n",
       "      <td>22423</td>\n",
       "      <td>REGENCY CAKESTAND 3 TIER</td>\n",
       "      <td>10</td>\n",
       "      <td>12/21/2010 13:45</td>\n",
       "      <td>0.000000</td>\n",
       "      <td>14911.000000</td>\n",
       "      <td>EIRE</td>\n",
       "    </tr>\n",
       "    <tr>\n",
       "      <th>47068</th>\n",
       "      <td>540372</td>\n",
       "      <td>22090</td>\n",
       "      <td>PAPER BUNTING RETROSPOT</td>\n",
       "      <td>24</td>\n",
       "      <td>1/6/2011 16:41</td>\n",
       "      <td>0.000000</td>\n",
       "      <td>13081.000000</td>\n",
       "      <td>United Kingdom</td>\n",
       "    </tr>\n",
       "    <tr>\n",
       "      <th>47070</th>\n",
       "      <td>540372</td>\n",
       "      <td>22553</td>\n",
       "      <td>PLASTERS IN TIN SKULLS</td>\n",
       "      <td>24</td>\n",
       "      <td>1/6/2011 16:41</td>\n",
       "      <td>0.000000</td>\n",
       "      <td>13081.000000</td>\n",
       "      <td>United Kingdom</td>\n",
       "    </tr>\n",
       "  </tbody>\n",
       "</table>\n",
       "</div>"
      ],
      "text/plain": [
       "      InvoiceNo StockCode                   Description  Quantity  \\\n",
       "9302     537197     22841  ROUND CAKE TIN VINTAGE GREEN         1   \n",
       "33576    539263     22580  ADVENT CALENDAR GINGHAM SACK         4   \n",
       "40089    539722     22423      REGENCY CAKESTAND 3 TIER        10   \n",
       "47068    540372     22090       PAPER BUNTING RETROSPOT        24   \n",
       "47070    540372     22553        PLASTERS IN TIN SKULLS        24   \n",
       "\n",
       "            InvoiceDate  UnitPrice   CustomerID         Country  \n",
       "9302    12/5/2010 14:02   0.000000 12647.000000         Germany  \n",
       "33576  12/16/2010 14:36   0.000000 16560.000000  United Kingdom  \n",
       "40089  12/21/2010 13:45   0.000000 14911.000000            EIRE  \n",
       "47068    1/6/2011 16:41   0.000000 13081.000000  United Kingdom  \n",
       "47070    1/6/2011 16:41   0.000000 13081.000000  United Kingdom  "
      ]
     },
     "execution_count": 22,
     "metadata": {},
     "output_type": "execute_result"
    }
   ],
   "source": [
    "# Ver UnitPrice menores a 1\n",
    "df[df['UnitPrice'] < 0.01].head()"
   ]
  },
  {
   "cell_type": "code",
   "execution_count": 23,
   "metadata": {},
   "outputs": [
    {
     "data": {
      "text/plain": [
       "InvoiceNo      44\n",
       "StockCode      44\n",
       "Description    44\n",
       "Quantity       44\n",
       "InvoiceDate    44\n",
       "UnitPrice      44\n",
       "CustomerID     44\n",
       "Country        44\n",
       "dtype: int64"
      ]
     },
     "execution_count": 23,
     "metadata": {},
     "output_type": "execute_result"
    }
   ],
   "source": [
    "df[df['UnitPrice'] < 0.01].count()"
   ]
  },
  {
   "cell_type": "markdown",
   "metadata": {},
   "source": [
    "Vemos que hay 44 productos con un precio menor a 0.01, lo que podríamos considerar como precio 0, así que vamos a eliminar estas entradas para mantener un dataset limpio"
   ]
  },
  {
   "cell_type": "code",
   "execution_count": 24,
   "metadata": {},
   "outputs": [],
   "source": [
    "# Borramos las entradas con UnitPrice menores a 0.01\n",
    "\n",
    "df = df[df['UnitPrice'] >= 0.01]"
   ]
  },
  {
   "cell_type": "markdown",
   "metadata": {},
   "source": [
    "Busquemos ahora productos con precios excesivamente altos, vamos a ver la descripción y a entender si tienen sentido o son un error"
   ]
  },
  {
   "cell_type": "code",
   "execution_count": 25,
   "metadata": {},
   "outputs": [
    {
     "data": {
      "text/html": [
       "<div>\n",
       "<style scoped>\n",
       "    .dataframe tbody tr th:only-of-type {\n",
       "        vertical-align: middle;\n",
       "    }\n",
       "\n",
       "    .dataframe tbody tr th {\n",
       "        vertical-align: top;\n",
       "    }\n",
       "\n",
       "    .dataframe thead th {\n",
       "        text-align: right;\n",
       "    }\n",
       "</style>\n",
       "<table border=\"1\" class=\"dataframe\">\n",
       "  <thead>\n",
       "    <tr style=\"text-align: right;\">\n",
       "      <th></th>\n",
       "      <th>InvoiceNo</th>\n",
       "      <th>StockCode</th>\n",
       "      <th>Description</th>\n",
       "      <th>Quantity</th>\n",
       "      <th>InvoiceDate</th>\n",
       "      <th>UnitPrice</th>\n",
       "      <th>CustomerID</th>\n",
       "      <th>Country</th>\n",
       "    </tr>\n",
       "  </thead>\n",
       "  <tbody>\n",
       "    <tr>\n",
       "      <th>246</th>\n",
       "      <td>536392</td>\n",
       "      <td>22827</td>\n",
       "      <td>RUSTIC  SEVENTEEN DRAWER SIDEBOARD</td>\n",
       "      <td>1</td>\n",
       "      <td>12/1/2010 10:29</td>\n",
       "      <td>165.000000</td>\n",
       "      <td>13705.000000</td>\n",
       "      <td>United Kingdom</td>\n",
       "    </tr>\n",
       "    <tr>\n",
       "      <th>4989</th>\n",
       "      <td>536835</td>\n",
       "      <td>22655</td>\n",
       "      <td>VINTAGE RED KITCHEN CABINET</td>\n",
       "      <td>1</td>\n",
       "      <td>12/2/2010 18:06</td>\n",
       "      <td>295.000000</td>\n",
       "      <td>13145.000000</td>\n",
       "      <td>United Kingdom</td>\n",
       "    </tr>\n",
       "    <tr>\n",
       "      <th>14498</th>\n",
       "      <td>C537597</td>\n",
       "      <td>D</td>\n",
       "      <td>Discount</td>\n",
       "      <td>-1</td>\n",
       "      <td>12/7/2010 12:34</td>\n",
       "      <td>281.000000</td>\n",
       "      <td>15498.000000</td>\n",
       "      <td>United Kingdom</td>\n",
       "    </tr>\n",
       "    <tr>\n",
       "      <th>19392</th>\n",
       "      <td>C537857</td>\n",
       "      <td>D</td>\n",
       "      <td>Discount</td>\n",
       "      <td>-1</td>\n",
       "      <td>12/8/2010 16:00</td>\n",
       "      <td>267.120000</td>\n",
       "      <td>17340.000000</td>\n",
       "      <td>United Kingdom</td>\n",
       "    </tr>\n",
       "    <tr>\n",
       "      <th>19428</th>\n",
       "      <td>537859</td>\n",
       "      <td>22828</td>\n",
       "      <td>REGENCY MIRROR WITH SHUTTERS</td>\n",
       "      <td>1</td>\n",
       "      <td>12/8/2010 16:11</td>\n",
       "      <td>165.000000</td>\n",
       "      <td>14030.000000</td>\n",
       "      <td>United Kingdom</td>\n",
       "    </tr>\n",
       "  </tbody>\n",
       "</table>\n",
       "</div>"
      ],
      "text/plain": [
       "      InvoiceNo StockCode                         Description  Quantity  \\\n",
       "246      536392     22827  RUSTIC  SEVENTEEN DRAWER SIDEBOARD         1   \n",
       "4989     536835     22655         VINTAGE RED KITCHEN CABINET         1   \n",
       "14498   C537597         D                            Discount        -1   \n",
       "19392   C537857         D                            Discount        -1   \n",
       "19428    537859     22828        REGENCY MIRROR WITH SHUTTERS         1   \n",
       "\n",
       "           InvoiceDate  UnitPrice   CustomerID         Country  \n",
       "246    12/1/2010 10:29 165.000000 13705.000000  United Kingdom  \n",
       "4989   12/2/2010 18:06 295.000000 13145.000000  United Kingdom  \n",
       "14498  12/7/2010 12:34 281.000000 15498.000000  United Kingdom  \n",
       "19392  12/8/2010 16:00 267.120000 17340.000000  United Kingdom  \n",
       "19428  12/8/2010 16:11 165.000000 14030.000000  United Kingdom  "
      ]
     },
     "execution_count": 25,
     "metadata": {},
     "output_type": "execute_result"
    }
   ],
   "source": [
    "df[df['UnitPrice'] > 100.00].head()"
   ]
  },
  {
   "cell_type": "markdown",
   "metadata": {},
   "source": [
    "Con esta comprobación, viendo los 5 primeros, no hemos encontrado el producto que tenia un precio excesivamente alto, pero descubrimos que existen productos con la descripcion Discount, StockCode D, y cantidad -1, es decir, una devolucion. Tenemos que ver como tratar esto."
   ]
  },
  {
   "cell_type": "code",
   "execution_count": 26,
   "metadata": {},
   "outputs": [
    {
     "data": {
      "text/html": [
       "<div>\n",
       "<style scoped>\n",
       "    .dataframe tbody tr th:only-of-type {\n",
       "        vertical-align: middle;\n",
       "    }\n",
       "\n",
       "    .dataframe tbody tr th {\n",
       "        vertical-align: top;\n",
       "    }\n",
       "\n",
       "    .dataframe thead th {\n",
       "        text-align: right;\n",
       "    }\n",
       "</style>\n",
       "<table border=\"1\" class=\"dataframe\">\n",
       "  <thead>\n",
       "    <tr style=\"text-align: right;\">\n",
       "      <th></th>\n",
       "      <th>InvoiceNo</th>\n",
       "      <th>StockCode</th>\n",
       "      <th>Description</th>\n",
       "      <th>Quantity</th>\n",
       "      <th>InvoiceDate</th>\n",
       "      <th>UnitPrice</th>\n",
       "      <th>CustomerID</th>\n",
       "      <th>Country</th>\n",
       "    </tr>\n",
       "  </thead>\n",
       "  <tbody>\n",
       "    <tr>\n",
       "      <th>45622</th>\n",
       "      <td>C540271</td>\n",
       "      <td>M</td>\n",
       "      <td>Manual</td>\n",
       "      <td>-1</td>\n",
       "      <td>1/6/2011 11:51</td>\n",
       "      <td>1126.000000</td>\n",
       "      <td>12503.000000</td>\n",
       "      <td>Spain</td>\n",
       "    </tr>\n",
       "    <tr>\n",
       "      <th>73446</th>\n",
       "      <td>C542348</td>\n",
       "      <td>M</td>\n",
       "      <td>Manual</td>\n",
       "      <td>-1</td>\n",
       "      <td>1/27/2011 12:09</td>\n",
       "      <td>1715.850000</td>\n",
       "      <td>12539.000000</td>\n",
       "      <td>Spain</td>\n",
       "    </tr>\n",
       "    <tr>\n",
       "      <th>117052</th>\n",
       "      <td>C546325</td>\n",
       "      <td>M</td>\n",
       "      <td>Manual</td>\n",
       "      <td>-1</td>\n",
       "      <td>3/11/2011 10:15</td>\n",
       "      <td>1687.170000</td>\n",
       "      <td>14911.000000</td>\n",
       "      <td>EIRE</td>\n",
       "    </tr>\n",
       "    <tr>\n",
       "      <th>117053</th>\n",
       "      <td>C546327</td>\n",
       "      <td>M</td>\n",
       "      <td>Manual</td>\n",
       "      <td>-1</td>\n",
       "      <td>3/11/2011 10:18</td>\n",
       "      <td>1687.170000</td>\n",
       "      <td>14911.000000</td>\n",
       "      <td>EIRE</td>\n",
       "    </tr>\n",
       "    <tr>\n",
       "      <th>117054</th>\n",
       "      <td>546328</td>\n",
       "      <td>M</td>\n",
       "      <td>Manual</td>\n",
       "      <td>1</td>\n",
       "      <td>3/11/2011 10:19</td>\n",
       "      <td>1687.170000</td>\n",
       "      <td>14911.000000</td>\n",
       "      <td>EIRE</td>\n",
       "    </tr>\n",
       "  </tbody>\n",
       "</table>\n",
       "</div>"
      ],
      "text/plain": [
       "       InvoiceNo StockCode Description  Quantity      InvoiceDate   UnitPrice  \\\n",
       "45622    C540271         M      Manual        -1   1/6/2011 11:51 1126.000000   \n",
       "73446    C542348         M      Manual        -1  1/27/2011 12:09 1715.850000   \n",
       "117052   C546325         M      Manual        -1  3/11/2011 10:15 1687.170000   \n",
       "117053   C546327         M      Manual        -1  3/11/2011 10:18 1687.170000   \n",
       "117054    546328         M      Manual         1  3/11/2011 10:19 1687.170000   \n",
       "\n",
       "         CustomerID Country  \n",
       "45622  12503.000000   Spain  \n",
       "73446  12539.000000   Spain  \n",
       "117052 14911.000000    EIRE  \n",
       "117053 14911.000000    EIRE  \n",
       "117054 14911.000000    EIRE  "
      ]
     },
     "execution_count": 26,
     "metadata": {},
     "output_type": "execute_result"
    }
   ],
   "source": [
    "df[df['UnitPrice'] > 1000.00].head()"
   ]
  },
  {
   "cell_type": "markdown",
   "metadata": {},
   "source": [
    "Al aumentar la busqueda a mayores de 1000€ encontramos una descripción \"Manual, con StockCode M, y precios mayores de 1000 u.m, muchas son cancelaciones, pero hay 1 que no lo es. Además, vemos que las cancelaciones tienen el InvoiceNo con una C. Sigamos aumentando el filtro"
   ]
  },
  {
   "cell_type": "code",
   "execution_count": 27,
   "metadata": {},
   "outputs": [
    {
     "data": {
      "text/html": [
       "<div>\n",
       "<style scoped>\n",
       "    .dataframe tbody tr th:only-of-type {\n",
       "        vertical-align: middle;\n",
       "    }\n",
       "\n",
       "    .dataframe tbody tr th {\n",
       "        vertical-align: top;\n",
       "    }\n",
       "\n",
       "    .dataframe thead th {\n",
       "        text-align: right;\n",
       "    }\n",
       "</style>\n",
       "<table border=\"1\" class=\"dataframe\">\n",
       "  <thead>\n",
       "    <tr style=\"text-align: right;\">\n",
       "      <th></th>\n",
       "      <th>InvoiceNo</th>\n",
       "      <th>StockCode</th>\n",
       "      <th>Description</th>\n",
       "      <th>Quantity</th>\n",
       "      <th>InvoiceDate</th>\n",
       "      <th>UnitPrice</th>\n",
       "      <th>CustomerID</th>\n",
       "      <th>Country</th>\n",
       "    </tr>\n",
       "  </thead>\n",
       "  <tbody>\n",
       "    <tr>\n",
       "      <th>144826</th>\n",
       "      <td>548813</td>\n",
       "      <td>M</td>\n",
       "      <td>Manual</td>\n",
       "      <td>1</td>\n",
       "      <td>4/4/2011 13:03</td>\n",
       "      <td>2382.920000</td>\n",
       "      <td>12744.000000</td>\n",
       "      <td>Singapore</td>\n",
       "    </tr>\n",
       "    <tr>\n",
       "      <th>144829</th>\n",
       "      <td>548820</td>\n",
       "      <td>M</td>\n",
       "      <td>Manual</td>\n",
       "      <td>1</td>\n",
       "      <td>4/4/2011 13:04</td>\n",
       "      <td>2053.070000</td>\n",
       "      <td>12744.000000</td>\n",
       "      <td>Singapore</td>\n",
       "    </tr>\n",
       "    <tr>\n",
       "      <th>144831</th>\n",
       "      <td>C548830</td>\n",
       "      <td>M</td>\n",
       "      <td>Manual</td>\n",
       "      <td>-1</td>\n",
       "      <td>4/4/2011 13:08</td>\n",
       "      <td>2382.920000</td>\n",
       "      <td>12744.000000</td>\n",
       "      <td>Singapore</td>\n",
       "    </tr>\n",
       "    <tr>\n",
       "      <th>144834</th>\n",
       "      <td>C548834</td>\n",
       "      <td>M</td>\n",
       "      <td>Manual</td>\n",
       "      <td>-1</td>\n",
       "      <td>4/4/2011 13:09</td>\n",
       "      <td>2053.070000</td>\n",
       "      <td>12744.000000</td>\n",
       "      <td>Singapore</td>\n",
       "    </tr>\n",
       "    <tr>\n",
       "      <th>173277</th>\n",
       "      <td>C551685</td>\n",
       "      <td>POST</td>\n",
       "      <td>POSTAGE</td>\n",
       "      <td>-1</td>\n",
       "      <td>5/3/2011 12:51</td>\n",
       "      <td>8142.750000</td>\n",
       "      <td>16029.000000</td>\n",
       "      <td>United Kingdom</td>\n",
       "    </tr>\n",
       "  </tbody>\n",
       "</table>\n",
       "</div>"
      ],
      "text/plain": [
       "       InvoiceNo StockCode Description  Quantity     InvoiceDate   UnitPrice  \\\n",
       "144826    548813         M      Manual         1  4/4/2011 13:03 2382.920000   \n",
       "144829    548820         M      Manual         1  4/4/2011 13:04 2053.070000   \n",
       "144831   C548830         M      Manual        -1  4/4/2011 13:08 2382.920000   \n",
       "144834   C548834         M      Manual        -1  4/4/2011 13:09 2053.070000   \n",
       "173277   C551685      POST     POSTAGE        -1  5/3/2011 12:51 8142.750000   \n",
       "\n",
       "         CustomerID         Country  \n",
       "144826 12744.000000       Singapore  \n",
       "144829 12744.000000       Singapore  \n",
       "144831 12744.000000       Singapore  \n",
       "144834 12744.000000       Singapore  \n",
       "173277 16029.000000  United Kingdom  "
      ]
     },
     "execution_count": 27,
     "metadata": {},
     "output_type": "execute_result"
    }
   ],
   "source": [
    "df[df['UnitPrice'] > 2000.00].head()"
   ]
  },
  {
   "cell_type": "markdown",
   "metadata": {},
   "source": [
    "Al aumentar a mas de 2000 seguimos viendo la descripcion Manual, pero aparece una nueva descripcion. Postage con StockCode Post. En este caso una cancelacion pero por un precio de 8142. Tenemos que ver más de cerca estas categorías."
   ]
  },
  {
   "cell_type": "code",
   "execution_count": 28,
   "metadata": {},
   "outputs": [
    {
     "data": {
      "text/html": [
       "<div>\n",
       "<style scoped>\n",
       "    .dataframe tbody tr th:only-of-type {\n",
       "        vertical-align: middle;\n",
       "    }\n",
       "\n",
       "    .dataframe tbody tr th {\n",
       "        vertical-align: top;\n",
       "    }\n",
       "\n",
       "    .dataframe thead th {\n",
       "        text-align: right;\n",
       "    }\n",
       "</style>\n",
       "<table border=\"1\" class=\"dataframe\">\n",
       "  <thead>\n",
       "    <tr style=\"text-align: right;\">\n",
       "      <th></th>\n",
       "      <th>InvoiceNo</th>\n",
       "      <th>StockCode</th>\n",
       "      <th>Description</th>\n",
       "      <th>Quantity</th>\n",
       "      <th>InvoiceDate</th>\n",
       "      <th>UnitPrice</th>\n",
       "      <th>CustomerID</th>\n",
       "      <th>Country</th>\n",
       "    </tr>\n",
       "  </thead>\n",
       "  <tbody>\n",
       "    <tr>\n",
       "      <th>173277</th>\n",
       "      <td>C551685</td>\n",
       "      <td>POST</td>\n",
       "      <td>POSTAGE</td>\n",
       "      <td>-1</td>\n",
       "      <td>5/3/2011 12:51</td>\n",
       "      <td>8142.750000</td>\n",
       "      <td>16029.000000</td>\n",
       "      <td>United Kingdom</td>\n",
       "    </tr>\n",
       "    <tr>\n",
       "      <th>173382</th>\n",
       "      <td>551697</td>\n",
       "      <td>POST</td>\n",
       "      <td>POSTAGE</td>\n",
       "      <td>1</td>\n",
       "      <td>5/3/2011 13:46</td>\n",
       "      <td>8142.750000</td>\n",
       "      <td>16029.000000</td>\n",
       "      <td>United Kingdom</td>\n",
       "    </tr>\n",
       "    <tr>\n",
       "      <th>173391</th>\n",
       "      <td>C551699</td>\n",
       "      <td>M</td>\n",
       "      <td>Manual</td>\n",
       "      <td>-1</td>\n",
       "      <td>5/3/2011 14:12</td>\n",
       "      <td>6930.000000</td>\n",
       "      <td>16029.000000</td>\n",
       "      <td>United Kingdom</td>\n",
       "    </tr>\n",
       "    <tr>\n",
       "      <th>222681</th>\n",
       "      <td>C556445</td>\n",
       "      <td>M</td>\n",
       "      <td>Manual</td>\n",
       "      <td>-1</td>\n",
       "      <td>6/10/2011 15:31</td>\n",
       "      <td>38970.000000</td>\n",
       "      <td>15098.000000</td>\n",
       "      <td>United Kingdom</td>\n",
       "    </tr>\n",
       "    <tr>\n",
       "      <th>268027</th>\n",
       "      <td>C560372</td>\n",
       "      <td>M</td>\n",
       "      <td>Manual</td>\n",
       "      <td>-1</td>\n",
       "      <td>7/18/2011 12:26</td>\n",
       "      <td>4287.630000</td>\n",
       "      <td>17448.000000</td>\n",
       "      <td>United Kingdom</td>\n",
       "    </tr>\n",
       "  </tbody>\n",
       "</table>\n",
       "</div>"
      ],
      "text/plain": [
       "       InvoiceNo StockCode Description  Quantity      InvoiceDate  \\\n",
       "173277   C551685      POST     POSTAGE        -1   5/3/2011 12:51   \n",
       "173382    551697      POST     POSTAGE         1   5/3/2011 13:46   \n",
       "173391   C551699         M      Manual        -1   5/3/2011 14:12   \n",
       "222681   C556445         M      Manual        -1  6/10/2011 15:31   \n",
       "268027   C560372         M      Manual        -1  7/18/2011 12:26   \n",
       "\n",
       "          UnitPrice   CustomerID         Country  \n",
       "173277  8142.750000 16029.000000  United Kingdom  \n",
       "173382  8142.750000 16029.000000  United Kingdom  \n",
       "173391  6930.000000 16029.000000  United Kingdom  \n",
       "222681 38970.000000 15098.000000  United Kingdom  \n",
       "268027  4287.630000 17448.000000  United Kingdom  "
      ]
     },
     "execution_count": 28,
     "metadata": {},
     "output_type": "execute_result"
    }
   ],
   "source": [
    "df[df['UnitPrice'] > 3000.00].head()"
   ]
  },
  {
   "cell_type": "markdown",
   "metadata": {},
   "source": [
    "Aquí observamos que ya aparece el \"producto\" de 38970, una cancelacion de \"M\" Manual. Esta M tendriamos que consultar que quiere decir, posiblemente sean referencias introducidas manualmente. Vamos a comprobar que StockCodes existen que no sean un valor numerico."
   ]
  },
  {
   "cell_type": "code",
   "execution_count": 29,
   "metadata": {},
   "outputs": [
    {
     "name": "stdout",
     "output_type": "stream",
     "text": [
      "StockCodes que empiezan con letra: ['POST' 'D' 'C2' 'M' 'BANK CHARGES' 'DOT' 'CRUK']\n",
      "StockCodes que contienen solo letras: ['POST' 'D' 'M' 'DOT' 'CRUK']\n",
      "StockCodes con menos de 5 dígitos: ['POST' 'D' 'C2' 'M' 'DOT' 'CRUK']\n"
     ]
    }
   ],
   "source": [
    "# 1. StockCodes que empiezan por letra y mostrar los valores únicos\n",
    "stockcodes_empiezan_con_letra = df[df['StockCode'].str.match(r'^[A-Za-z]')]['StockCode'].unique()\n",
    "\n",
    "# 2. StockCodes que contienen solo letras y mostrar los valores únicos\n",
    "stockcodes_solo_letras = df[df['StockCode'].str.isalpha()]['StockCode'].unique()\n",
    "\n",
    "# 3. StockCodes que tienen menos de 6 dígitos y mostrar los valores únicos\n",
    "stockcodes_menos_de_5_digitos = df[df['StockCode'].str.len() < 5]['StockCode'].unique()\n",
    "\n",
    "# Mostrar los resultados\n",
    "print(\"StockCodes que empiezan con letra:\", stockcodes_empiezan_con_letra)\n",
    "print(\"StockCodes que contienen solo letras:\", stockcodes_solo_letras)\n",
    "print(\"StockCodes con menos de 5 dígitos:\", stockcodes_menos_de_5_digitos)"
   ]
  },
  {
   "cell_type": "code",
   "execution_count": 30,
   "metadata": {},
   "outputs": [
    {
     "data": {
      "text/html": [
       "<div>\n",
       "<style scoped>\n",
       "    .dataframe tbody tr th:only-of-type {\n",
       "        vertical-align: middle;\n",
       "    }\n",
       "\n",
       "    .dataframe tbody tr th {\n",
       "        vertical-align: top;\n",
       "    }\n",
       "\n",
       "    .dataframe thead th {\n",
       "        text-align: right;\n",
       "    }\n",
       "</style>\n",
       "<table border=\"1\" class=\"dataframe\">\n",
       "  <thead>\n",
       "    <tr style=\"text-align: right;\">\n",
       "      <th></th>\n",
       "      <th>InvoiceNo</th>\n",
       "      <th>StockCode</th>\n",
       "      <th>Description</th>\n",
       "      <th>Quantity</th>\n",
       "      <th>InvoiceDate</th>\n",
       "      <th>UnitPrice</th>\n",
       "      <th>CustomerID</th>\n",
       "      <th>Country</th>\n",
       "    </tr>\n",
       "  </thead>\n",
       "  <tbody>\n",
       "    <tr>\n",
       "      <th>317508</th>\n",
       "      <td>C564763</td>\n",
       "      <td>CRUK</td>\n",
       "      <td>CRUK Commission</td>\n",
       "      <td>-1</td>\n",
       "      <td>8/30/2011 10:49</td>\n",
       "      <td>1.600000</td>\n",
       "      <td>14096.000000</td>\n",
       "      <td>United Kingdom</td>\n",
       "    </tr>\n",
       "    <tr>\n",
       "      <th>324023</th>\n",
       "      <td>C565382</td>\n",
       "      <td>CRUK</td>\n",
       "      <td>CRUK Commission</td>\n",
       "      <td>-1</td>\n",
       "      <td>9/2/2011 15:45</td>\n",
       "      <td>13.010000</td>\n",
       "      <td>14096.000000</td>\n",
       "      <td>United Kingdom</td>\n",
       "    </tr>\n",
       "    <tr>\n",
       "      <th>333779</th>\n",
       "      <td>C566216</td>\n",
       "      <td>CRUK</td>\n",
       "      <td>CRUK Commission</td>\n",
       "      <td>-1</td>\n",
       "      <td>9/9/2011 15:17</td>\n",
       "      <td>15.960000</td>\n",
       "      <td>14096.000000</td>\n",
       "      <td>United Kingdom</td>\n",
       "    </tr>\n",
       "    <tr>\n",
       "      <th>338848</th>\n",
       "      <td>C566565</td>\n",
       "      <td>CRUK</td>\n",
       "      <td>CRUK Commission</td>\n",
       "      <td>-1</td>\n",
       "      <td>9/13/2011 12:32</td>\n",
       "      <td>52.240000</td>\n",
       "      <td>14096.000000</td>\n",
       "      <td>United Kingdom</td>\n",
       "    </tr>\n",
       "    <tr>\n",
       "      <th>351003</th>\n",
       "      <td>C567655</td>\n",
       "      <td>CRUK</td>\n",
       "      <td>CRUK Commission</td>\n",
       "      <td>-1</td>\n",
       "      <td>9/21/2011 14:40</td>\n",
       "      <td>608.660000</td>\n",
       "      <td>14096.000000</td>\n",
       "      <td>United Kingdom</td>\n",
       "    </tr>\n",
       "    <tr>\n",
       "      <th>361603</th>\n",
       "      <td>C568345</td>\n",
       "      <td>CRUK</td>\n",
       "      <td>CRUK Commission</td>\n",
       "      <td>-1</td>\n",
       "      <td>9/26/2011 15:28</td>\n",
       "      <td>447.560000</td>\n",
       "      <td>14096.000000</td>\n",
       "      <td>United Kingdom</td>\n",
       "    </tr>\n",
       "    <tr>\n",
       "      <th>372785</th>\n",
       "      <td>C569245</td>\n",
       "      <td>CRUK</td>\n",
       "      <td>CRUK Commission</td>\n",
       "      <td>-1</td>\n",
       "      <td>10/3/2011 9:57</td>\n",
       "      <td>361.590000</td>\n",
       "      <td>14096.000000</td>\n",
       "      <td>United Kingdom</td>\n",
       "    </tr>\n",
       "    <tr>\n",
       "      <th>390002</th>\n",
       "      <td>C570487</td>\n",
       "      <td>CRUK</td>\n",
       "      <td>CRUK Commission</td>\n",
       "      <td>-1</td>\n",
       "      <td>10/10/2011 17:12</td>\n",
       "      <td>411.920000</td>\n",
       "      <td>14096.000000</td>\n",
       "      <td>United Kingdom</td>\n",
       "    </tr>\n",
       "    <tr>\n",
       "      <th>401767</th>\n",
       "      <td>C571440</td>\n",
       "      <td>CRUK</td>\n",
       "      <td>CRUK Commission</td>\n",
       "      <td>-1</td>\n",
       "      <td>10/17/2011 13:31</td>\n",
       "      <td>495.980000</td>\n",
       "      <td>14096.000000</td>\n",
       "      <td>United Kingdom</td>\n",
       "    </tr>\n",
       "    <tr>\n",
       "      <th>416464</th>\n",
       "      <td>C572551</td>\n",
       "      <td>CRUK</td>\n",
       "      <td>CRUK Commission</td>\n",
       "      <td>-1</td>\n",
       "      <td>10/24/2011 17:07</td>\n",
       "      <td>425.140000</td>\n",
       "      <td>14096.000000</td>\n",
       "      <td>United Kingdom</td>\n",
       "    </tr>\n",
       "    <tr>\n",
       "      <th>429996</th>\n",
       "      <td>C573575</td>\n",
       "      <td>CRUK</td>\n",
       "      <td>CRUK Commission</td>\n",
       "      <td>-1</td>\n",
       "      <td>10/31/2011 14:09</td>\n",
       "      <td>606.000000</td>\n",
       "      <td>14096.000000</td>\n",
       "      <td>United Kingdom</td>\n",
       "    </tr>\n",
       "    <tr>\n",
       "      <th>455284</th>\n",
       "      <td>C575606</td>\n",
       "      <td>CRUK</td>\n",
       "      <td>CRUK Commission</td>\n",
       "      <td>-1</td>\n",
       "      <td>11/10/2011 12:37</td>\n",
       "      <td>517.510000</td>\n",
       "      <td>14096.000000</td>\n",
       "      <td>United Kingdom</td>\n",
       "    </tr>\n",
       "    <tr>\n",
       "      <th>467437</th>\n",
       "      <td>C576338</td>\n",
       "      <td>CRUK</td>\n",
       "      <td>CRUK Commission</td>\n",
       "      <td>-1</td>\n",
       "      <td>11/14/2011 15:27</td>\n",
       "      <td>1038.750000</td>\n",
       "      <td>14096.000000</td>\n",
       "      <td>United Kingdom</td>\n",
       "    </tr>\n",
       "    <tr>\n",
       "      <th>494745</th>\n",
       "      <td>C578269</td>\n",
       "      <td>CRUK</td>\n",
       "      <td>CRUK Commission</td>\n",
       "      <td>-1</td>\n",
       "      <td>11/23/2011 13:39</td>\n",
       "      <td>849.930000</td>\n",
       "      <td>14096.000000</td>\n",
       "      <td>United Kingdom</td>\n",
       "    </tr>\n",
       "    <tr>\n",
       "      <th>508561</th>\n",
       "      <td>C579195</td>\n",
       "      <td>CRUK</td>\n",
       "      <td>CRUK Commission</td>\n",
       "      <td>-1</td>\n",
       "      <td>11/28/2011 15:54</td>\n",
       "      <td>987.140000</td>\n",
       "      <td>14096.000000</td>\n",
       "      <td>United Kingdom</td>\n",
       "    </tr>\n",
       "    <tr>\n",
       "      <th>528087</th>\n",
       "      <td>C580726</td>\n",
       "      <td>CRUK</td>\n",
       "      <td>CRUK Commission</td>\n",
       "      <td>-1</td>\n",
       "      <td>12/5/2011 17:17</td>\n",
       "      <td>1100.440000</td>\n",
       "      <td>14096.000000</td>\n",
       "      <td>United Kingdom</td>\n",
       "    </tr>\n",
       "  </tbody>\n",
       "</table>\n",
       "</div>"
      ],
      "text/plain": [
       "       InvoiceNo StockCode      Description  Quantity       InvoiceDate  \\\n",
       "317508   C564763      CRUK  CRUK Commission        -1   8/30/2011 10:49   \n",
       "324023   C565382      CRUK  CRUK Commission        -1    9/2/2011 15:45   \n",
       "333779   C566216      CRUK  CRUK Commission        -1    9/9/2011 15:17   \n",
       "338848   C566565      CRUK  CRUK Commission        -1   9/13/2011 12:32   \n",
       "351003   C567655      CRUK  CRUK Commission        -1   9/21/2011 14:40   \n",
       "361603   C568345      CRUK  CRUK Commission        -1   9/26/2011 15:28   \n",
       "372785   C569245      CRUK  CRUK Commission        -1    10/3/2011 9:57   \n",
       "390002   C570487      CRUK  CRUK Commission        -1  10/10/2011 17:12   \n",
       "401767   C571440      CRUK  CRUK Commission        -1  10/17/2011 13:31   \n",
       "416464   C572551      CRUK  CRUK Commission        -1  10/24/2011 17:07   \n",
       "429996   C573575      CRUK  CRUK Commission        -1  10/31/2011 14:09   \n",
       "455284   C575606      CRUK  CRUK Commission        -1  11/10/2011 12:37   \n",
       "467437   C576338      CRUK  CRUK Commission        -1  11/14/2011 15:27   \n",
       "494745   C578269      CRUK  CRUK Commission        -1  11/23/2011 13:39   \n",
       "508561   C579195      CRUK  CRUK Commission        -1  11/28/2011 15:54   \n",
       "528087   C580726      CRUK  CRUK Commission        -1   12/5/2011 17:17   \n",
       "\n",
       "         UnitPrice   CustomerID         Country  \n",
       "317508    1.600000 14096.000000  United Kingdom  \n",
       "324023   13.010000 14096.000000  United Kingdom  \n",
       "333779   15.960000 14096.000000  United Kingdom  \n",
       "338848   52.240000 14096.000000  United Kingdom  \n",
       "351003  608.660000 14096.000000  United Kingdom  \n",
       "361603  447.560000 14096.000000  United Kingdom  \n",
       "372785  361.590000 14096.000000  United Kingdom  \n",
       "390002  411.920000 14096.000000  United Kingdom  \n",
       "401767  495.980000 14096.000000  United Kingdom  \n",
       "416464  425.140000 14096.000000  United Kingdom  \n",
       "429996  606.000000 14096.000000  United Kingdom  \n",
       "455284  517.510000 14096.000000  United Kingdom  \n",
       "467437 1038.750000 14096.000000  United Kingdom  \n",
       "494745  849.930000 14096.000000  United Kingdom  \n",
       "508561  987.140000 14096.000000  United Kingdom  \n",
       "528087 1100.440000 14096.000000  United Kingdom  "
      ]
     },
     "execution_count": 30,
     "metadata": {},
     "output_type": "execute_result"
    }
   ],
   "source": [
    "df[df['StockCode'] == 'CRUK']"
   ]
  },
  {
   "cell_type": "markdown",
   "metadata": {},
   "source": [
    "Vemos que existen varias entradas que no podemos considerar como productos, aunque podemos sacar insights muy interesantes de aqui. En un caso real tendríamos que preguntar al cliente el significado de estos StockCodes, pero haremos la suposición basandonos en la descripción.\n",
    "\n",
    "POST = Gastos de envío, parece que a paises de Europa, el precio parece variar entre 15 y 18\n",
    "D = Descuento\n",
    "C2 = Gastos de envío, parece que a paises de fuera de Europa, aunque aparece un envío a UK con esta descripción. Parece que el precio de carriage siempre es 50\n",
    "M = Manual, parecen cargos añadidos de forma manual que no corresponden a un producto. En principio solo se ven a UK pero hay que indagar en ello.\n",
    "D = Dotcom Postage, suelen ser costos específicos de envío de pedidos en línea, para diferenciar entre pedidos fisicos o en linea. Pero habria que preguntarlo.\n",
    "CRUK = CRUK Commission. Probablemente se refiere a una comisión o tarifa asociada con Cancer Research UK (CRUK), una organización benéfica líder en el Reino Unido dedicada a la investigación del cáncer. Es posible que la web pregunte al usuario si quiere colaborar con un porcentaje de la factura, y estos sean los cargos. Curiosamente se ven cantidades negativas, habria que indagar si esto es lo normal, o hay facturas con cantidades positivas de CRUK.\n",
    "\n",
    "De momento con esto sacamos una conclusión. Necesitamos separar estas referencias de los productos para que el sistema de recomendación funcione correctamente, pero estos datos pueden ser muy utiles para relacionar patrones de clientes, por lo que crearemos columnas específicas para ellos. \n"
   ]
  },
  {
   "cell_type": "markdown",
   "metadata": {},
   "source": [
    "Tras realizar varias pruebas comprobando si se clasificaban todas las entradas, dejo el codigo final aqui. En estas pruebas descubrimos que existe otra descripcion llamada Bank Charges y que hay DotCom Postage llamadas DOT y no solo \"D\""
   ]
  },
  {
   "cell_type": "code",
   "execution_count": 31,
   "metadata": {},
   "outputs": [],
   "source": [
    "# Funcion de clasificacion\n",
    "\n",
    "def clasificar_stockcode(stockcode):\n",
    "    if stockcode == 'POST':\n",
    "        return 'POST'\n",
    "    elif stockcode == 'D' or stockcode == 'DOT':\n",
    "        return 'DOT'\n",
    "    elif stockcode == 'C2':\n",
    "        return 'CARRIAGE'\n",
    "    elif stockcode == 'M':\n",
    "        return 'MANUAL'\n",
    "    elif stockcode == 'CRUK':\n",
    "        return 'CRUK'\n",
    "    elif stockcode == 'BANK CHARGES':\n",
    "        return 'BANK'\n",
    "    elif stockcode.isdigit() or (len(stockcode) > 1 and any(char.isdigit() for char in stockcode) and any(char.isalpha() for char in stockcode)):\n",
    "        return 'ORDER'\n",
    "    else:\n",
    "        return 'Other'\n",
    "\n",
    "# Aplicando la función a la columna StockCode para crear una nueva columna\n",
    "df['tipo'] = df['StockCode'].apply(clasificar_stockcode)\n",
    "\n"
   ]
  },
  {
   "cell_type": "code",
   "execution_count": 32,
   "metadata": {},
   "outputs": [
    {
     "data": {
      "text/html": [
       "<div>\n",
       "<style scoped>\n",
       "    .dataframe tbody tr th:only-of-type {\n",
       "        vertical-align: middle;\n",
       "    }\n",
       "\n",
       "    .dataframe tbody tr th {\n",
       "        vertical-align: top;\n",
       "    }\n",
       "\n",
       "    .dataframe thead th {\n",
       "        text-align: right;\n",
       "    }\n",
       "</style>\n",
       "<table border=\"1\" class=\"dataframe\">\n",
       "  <thead>\n",
       "    <tr style=\"text-align: right;\">\n",
       "      <th></th>\n",
       "      <th>InvoiceNo</th>\n",
       "      <th>StockCode</th>\n",
       "      <th>Description</th>\n",
       "      <th>Quantity</th>\n",
       "      <th>InvoiceDate</th>\n",
       "      <th>UnitPrice</th>\n",
       "      <th>CustomerID</th>\n",
       "      <th>Country</th>\n",
       "      <th>tipo</th>\n",
       "    </tr>\n",
       "  </thead>\n",
       "  <tbody>\n",
       "  </tbody>\n",
       "</table>\n",
       "</div>"
      ],
      "text/plain": [
       "Empty DataFrame\n",
       "Columns: [InvoiceNo, StockCode, Description, Quantity, InvoiceDate, UnitPrice, CustomerID, Country, tipo]\n",
       "Index: []"
      ]
     },
     "execution_count": 32,
     "metadata": {},
     "output_type": "execute_result"
    }
   ],
   "source": [
    "# Comprobar cuantas entradas hay con tipo == 'Other'\n",
    "\n",
    "df[df['tipo'] == 'other']"
   ]
  },
  {
   "cell_type": "code",
   "execution_count": 33,
   "metadata": {},
   "outputs": [],
   "source": [
    "# Vamos a marcar los cancelados y los no cancelados\n",
    "\n",
    "df['Status'] = df['InvoiceNo'].apply(lambda x: 'CANCEL' if str(x).startswith('C') else 'COMPLETED')"
   ]
  },
  {
   "cell_type": "markdown",
   "metadata": {},
   "source": [
    "Finalmente hemos categorizado todas las entradas, con esta columna podemos sacar más insights, incluso utilizarla para buscar patrones entre los clientes:\n",
    "\n",
    "* ¿Quienes cancelan mas pedidos?\n",
    "* ¿Existen errores en las cancelaciones? (Que no sean de clientes por ejemplo)\n",
    "* ¿De que paises vienen unos gastos de envios u otros?, ¿afecta el volumen?\n",
    "* ¿Los cargos manuales vienen siempre de los mismos clientes?\n",
    "* ¿En que pedidos hay Bank Charges? ¿Tiene que ver el metodo de pago? ¿Es siempre la misma comision?\n",
    "* ¿Los CRUK son siempre devoluciones?¿Hay patrones entre aquellos clientes que usan CRUK?\n",
    "* Habria que señalar de alguna manera aquellos pedidos que hayan sido cancelados, por un lado, no tenerlos en cuenta como compras, por otro lado ver patrones entre clientes o productos asociados a cancelaciones."
   ]
  },
  {
   "cell_type": "code",
   "execution_count": 34,
   "metadata": {},
   "outputs": [
    {
     "data": {
      "text/plain": [
       "InvoiceNo      399656\n",
       "StockCode      399656\n",
       "Description    399656\n",
       "Quantity       399656\n",
       "InvoiceDate    399656\n",
       "UnitPrice      399656\n",
       "CustomerID     399656\n",
       "Country        399656\n",
       "tipo           399656\n",
       "Status         399656\n",
       "dtype: int64"
      ]
     },
     "execution_count": 34,
     "metadata": {},
     "output_type": "execute_result"
    }
   ],
   "source": [
    "# Vamos a ver cuantos pedidos quedan que sean realmente ordenes\n",
    "\n",
    "df[df['tipo'] == 'ORDER'].count()"
   ]
  },
  {
   "cell_type": "markdown",
   "metadata": {},
   "source": [
    "Quedan 300656 pedidos, hay que tener en cuenta que muchos de estos estan cancelados, veamos cuantos"
   ]
  },
  {
   "cell_type": "code",
   "execution_count": 35,
   "metadata": {},
   "outputs": [
    {
     "data": {
      "text/plain": [
       "InvoiceNo      8506\n",
       "StockCode      8506\n",
       "Description    8506\n",
       "Quantity       8506\n",
       "InvoiceDate    8506\n",
       "UnitPrice      8506\n",
       "CustomerID     8506\n",
       "Country        8506\n",
       "tipo           8506\n",
       "Status         8506\n",
       "dtype: int64"
      ]
     },
     "execution_count": 35,
     "metadata": {},
     "output_type": "execute_result"
    }
   ],
   "source": [
    "# Contando cuántas órdenes son canceladas y de tipo 'ORDER'\n",
    "df[(df['Status'] == 'CANCEL') & (df['tipo'] == 'ORDER')].count()\n"
   ]
  },
  {
   "cell_type": "markdown",
   "metadata": {},
   "source": [
    "8.506 pedidos son cancelados"
   ]
  },
  {
   "cell_type": "code",
   "execution_count": 36,
   "metadata": {},
   "outputs": [
    {
     "data": {
      "text/plain": [
       "InvoiceNo      366\n",
       "StockCode      366\n",
       "Description    366\n",
       "Quantity       366\n",
       "InvoiceDate    366\n",
       "UnitPrice      366\n",
       "CustomerID     366\n",
       "Country        366\n",
       "tipo           366\n",
       "Status         366\n",
       "dtype: int64"
      ]
     },
     "execution_count": 36,
     "metadata": {},
     "output_type": "execute_result"
    }
   ],
   "source": [
    "# Contando cuántas órdenes son canceladas y no son de tipo 'ORDER'\n",
    "df[(df['Status'] == 'CANCEL') & (df['tipo'] != 'ORDER')].count()"
   ]
  },
  {
   "cell_type": "markdown",
   "metadata": {},
   "source": [
    "366 entradas de cancelaciones son una referencia especial.\n",
    "\n",
    "Vamos a comprobar si el valor del invoice es el mismo que el del cancelado, pero con la C, o son números diferentes"
   ]
  },
  {
   "cell_type": "code",
   "execution_count": 37,
   "metadata": {},
   "outputs": [
    {
     "name": "stdout",
     "output_type": "stream",
     "text": [
      "InvoiceNo      0\n",
      "StockCode      0\n",
      "Description    0\n",
      "Quantity       0\n",
      "InvoiceDate    0\n",
      "UnitPrice      0\n",
      "CustomerID     0\n",
      "Country        0\n",
      "tipo           0\n",
      "Status         0\n",
      "dtype: int64\n",
      "InvoiceNo      1\n",
      "StockCode      1\n",
      "Description    1\n",
      "Quantity       1\n",
      "InvoiceDate    1\n",
      "UnitPrice      1\n",
      "CustomerID     1\n",
      "Country        1\n",
      "tipo           1\n",
      "Status         1\n",
      "dtype: int64\n"
     ]
    }
   ],
   "source": [
    "print (df[(df['InvoiceNo'] == '536383')].count())\n",
    "print (df[(df['InvoiceNo'] == 'C536383')].count())\n"
   ]
  },
  {
   "cell_type": "markdown",
   "metadata": {},
   "source": [
    "Vemos que son numeros diferentes, así que entendemos que aquellos con C son pedidos cancelados y el resto pedidos completados"
   ]
  },
  {
   "cell_type": "code",
   "execution_count": 38,
   "metadata": {},
   "outputs": [
    {
     "data": {
      "text/plain": [
       "Status\n",
       "COMPLETED    392688\n",
       "CANCEL         8872\n",
       "Name: count, dtype: int64"
      ]
     },
     "execution_count": 38,
     "metadata": {},
     "output_type": "execute_result"
    }
   ],
   "source": [
    "# Cantidad de ordenes Completed y Canceladas\n",
    "df['Status'].value_counts()"
   ]
  },
  {
   "cell_type": "code",
   "execution_count": 39,
   "metadata": {},
   "outputs": [
    {
     "data": {
      "image/png": "[encoded data removed]",
      "text/plain": [
       "<Figure size 640x480 with 1 Axes>"
      ]
     },
     "metadata": {},
     "output_type": "display_data"
    }
   ],
   "source": [
    "# Filtrar para obtener solo las órdenes de tipo 'ORDER'\n",
    "ordenes_order = df[df['tipo'] == 'ORDER']\n",
    "\n",
    "# Contar las órdenes 'COMPLETED' y 'CANCEL'\n",
    "orden_completed = ordenes_order[ordenes_order['Status'] == 'COMPLETED'].shape[0]\n",
    "orden_cancel = ordenes_order[ordenes_order['Status'] == 'CANCEL'].shape[0]\n",
    "\n",
    "# Datos para el gráfico\n",
    "status = ['COMPLETED', 'CANCEL']\n",
    "counts = [orden_completed, orden_cancel]\n",
    "\n",
    "# Crear el gráfico de barras horizontales\n",
    "plt.barh(status, counts, color=['blue', 'red'])\n",
    "plt.xlabel('Cantidad de Órdenes')\n",
    "plt.ylabel('Status')\n",
    "plt.title('Cantidad de Órdenes de Tipo ORDER por Status')\n",
    "plt.show()"
   ]
  },
  {
   "cell_type": "markdown",
   "metadata": {},
   "source": [
    "Vemos que la tasa de pedidos cancelados es muy baja, pero son un dato interesante para tener en cuenta los productos con riesgo de cancelacion"
   ]
  },
  {
   "cell_type": "code",
   "execution_count": 40,
   "metadata": {},
   "outputs": [
    {
     "data": {
      "image/png": "[encoded data removed]",
      "text/plain": [
       "<Figure size 1000x600 with 1 Axes>"
      ]
     },
     "metadata": {},
     "output_type": "display_data"
    }
   ],
   "source": [
    "# Filtrar para obtener solo las órdenes 'CANCEL'\n",
    "ordenes_cancel = df[(df['Status'] == 'CANCEL') & (df['tipo'] == 'ORDER')]\n",
    "\n",
    "\n",
    "# Contar cuántas veces se repite cada StockCode\n",
    "stockcode_counts = ordenes_cancel['StockCode'].value_counts().head(10)\n",
    "\n",
    "# Obtener las descripciones para los StockCodes más cancelados\n",
    "top_cancelados = df[df['StockCode'].isin(stockcode_counts.index)][['StockCode', 'Description']].drop_duplicates()\n",
    "\n",
    "# Crear un DataFrame para el gráfico\n",
    "df_grafico = pd.DataFrame({\n",
    "    'StockCode': stockcode_counts.index,\n",
    "    'Counts': stockcode_counts.values\n",
    "})\n",
    "\n",
    "# Unir las descripciones con las cuentas\n",
    "df_grafico = df_grafico.merge(top_cancelados, on='StockCode')\n",
    "\n",
    "# Ordenar por Counts para el gráfico\n",
    "df_grafico.sort_values('Counts', ascending=True, inplace=True)\n",
    "\n",
    "# Crear el gráfico de barras\n",
    "plt.figure(figsize=(10, 6))\n",
    "plt.barh(df_grafico['Description'], df_grafico['Counts'])\n",
    "plt.xlabel('Número de Cancelaciones')\n",
    "plt.ylabel('Descripción del Producto')\n",
    "plt.title('Top 10 Productos Más Cancelados')\n",
    "plt.show()\n",
    "\n"
   ]
  },
  {
   "cell_type": "markdown",
   "metadata": {},
   "source": [
    "Podemos observar que REGENCY CAKESTAND 3 TIER es el producto más cancelado con mucha diferencia, más de 175 cancelaciones\n",
    "Veamos el top 10 productos que más aparecen en el Dataset"
   ]
  },
  {
   "cell_type": "code",
   "execution_count": 41,
   "metadata": {},
   "outputs": [
    {
     "data": {
      "image/png": "[encoded data removed]",
      "text/plain": [
       "<Figure size 1000x600 with 1 Axes>"
      ]
     },
     "metadata": {},
     "output_type": "display_data"
    }
   ],
   "source": [
    "# Contar cuántas veces se repite cada StockCode\n",
    "stockcode_counts = df['StockCode'].value_counts().head(10)\n",
    "\n",
    "# Obtener las descripciones para los StockCodes más repetidos\n",
    "top_repetidos = df[df['StockCode'].isin(stockcode_counts.index)][['StockCode', 'Description']].drop_duplicates()\n",
    "\n",
    "# Crear un DataFrame para el gráfico\n",
    "df_grafico = pd.DataFrame({\n",
    "    'StockCode': stockcode_counts.index,\n",
    "    'Counts': stockcode_counts.values\n",
    "})\n",
    "\n",
    "# Unir las descripciones con las cuentas\n",
    "df_grafico = df_grafico.merge(top_repetidos, on='StockCode')\n",
    "\n",
    "# Ordenar por Counts para el gráfico\n",
    "df_grafico.sort_values('Counts', ascending=True, inplace=True)\n",
    "\n",
    "# Crear el gráfico de barras\n",
    "plt.figure(figsize=(10, 6))\n",
    "plt.barh(df_grafico['Description'], df_grafico['Counts'])\n",
    "plt.xlabel('Cantidad')\n",
    "plt.ylabel('Descripción del Producto')\n",
    "plt.title('Top 10 Productos Más Repetidos')\n",
    "plt.show()"
   ]
  },
  {
   "cell_type": "markdown",
   "metadata": {},
   "source": [
    "Aqui podemos ver que REGENCY CAKESTAND 3 TIER es el tercer producto más vendido. Una nueva columna que podemos añadir es el ratio de cancelacion, pero para hacer esto correctamente y comprobar las cantidades correctamente deberemos usar la columna quantity."
   ]
  },
  {
   "cell_type": "code",
   "execution_count": 42,
   "metadata": {},
   "outputs": [],
   "source": [
    "# Crear columna con el total de veces que se ha comprado cada producto, para ello usaremos la columna Quantity, y solo usaremos Status Completed\n",
    "\n",
    "# Primero, filtramos el DataFrame para quedarnos solo con las filas donde Status es 'COMPLETED'\n",
    "df_completed = df[df['Status'] == 'COMPLETED']\n",
    "\n",
    "# Luego, agrupamos por 'StockCode' y sumamos 'Quantity'\n",
    "quantity_sum = df_completed.groupby('StockCode')['Quantity'].sum()\n",
    "\n",
    "# Ahora, creamos un nuevo DataFrame para unirlo con el original\n",
    "quantity_sum_df = quantity_sum.reset_index()\n",
    "quantity_sum_df.columns = ['StockCode', 'TotalSales']\n",
    "\n",
    "# Finalmente, unimos este DataFrame con el original\n",
    "df = pd.merge(df, quantity_sum_df, on='StockCode', how='left')\n"
   ]
  },
  {
   "cell_type": "code",
   "execution_count": 43,
   "metadata": {},
   "outputs": [],
   "source": [
    "# Ahora haremos lo mismo para las cancelaciones\n",
    "\n",
    "# Primero, filtramos el DataFrame para quedarnos solo con las filas donde Status es 'CANCEL'\n",
    "df_cancel = df[df['Status'] == 'CANCEL']\n",
    "\n",
    "# Luego, agrupamos por 'StockCode' y sumamos 'Quantity'\n",
    "quantity_sum = df_cancel.groupby('StockCode')['Quantity'].sum().abs()\n",
    "\n",
    "# Ahora, creamos un nuevo DataFrame para unirlo con el original\n",
    "quantity_sum_df = quantity_sum.reset_index()\n",
    "quantity_sum_df.columns = ['StockCode', 'TotalCancel']\n",
    "\n",
    "# Finalmente, unimos este DataFrame con el original\n",
    "df = pd.merge(df, quantity_sum_df, on='StockCode', how='left')\n"
   ]
  },
  {
   "cell_type": "markdown",
   "metadata": {},
   "source": []
  },
  {
   "cell_type": "code",
   "execution_count": 44,
   "metadata": {},
   "outputs": [],
   "source": [
    "# Ahora vamos a crear una columna que indique la tasa de cancelaciones (Cancel / (Sales + Cancel))\n",
    "\n",
    "df['TasaCancel'] = (df['TotalCancel'] / (df['TotalSales'] + df['TotalCancel']))*100"
   ]
  },
  {
   "cell_type": "code",
   "execution_count": 45,
   "metadata": {},
   "outputs": [],
   "source": [
    "status_cancelled = 'CANCEL'\n",
    "\n",
    "# Filtramos el DataFrame para quedarnos solo con las filas donde Status es 'CANCELLED'\n",
    "df_cancelled = df[df['Status'] == status_cancelled]\n",
    "\n",
    "# Agrupamos por 'CustomerID' y 'StockCode' y contamos las ocurrencias\n",
    "cancelled_counts = df_cancelled.groupby(['CustomerID', 'StockCode']).size().reset_index(name='CancelledCount')\n",
    "\n",
    "# Unimos este nuevo DataFrame con el DataFrame original\n",
    "df = pd.merge(df, cancelled_counts, on=['CustomerID', 'StockCode'], how='left')\n",
    "\n",
    "# Rellenamos los NaN con 0, ya que si no hay registro de cancelación, el conteo debería ser 0\n",
    "df['CancelledCount'].fillna(0, inplace=True)\n",
    "\n",
    "# Convertimos 'CancelledCount' a tipo entero, ya que no puede haber una cantidad fraccionada de cancelaciones\n",
    "df['CancelledCount'] = df['CancelledCount'].astype(int)\n"
   ]
  },
  {
   "cell_type": "code",
   "execution_count": 46,
   "metadata": {},
   "outputs": [],
   "source": [
    "# Ahora haremos lo mismo para contar las veces que el cliente ha completado un pedido con ese producto\n",
    "\n",
    "status_completed = 'COMPLETED'\n",
    "\n",
    "# Filtramos el DataFrame para quedarnos solo con las filas donde Status es 'COMPLETED'\n",
    "df_completed = df[df['Status'] == status_completed]\n",
    "\n",
    "# Agrupamos por 'CustomerID' y 'StockCode' y contamos las ocurrencias\n",
    "completed_counts = df_completed.groupby(['CustomerID', 'StockCode']).size().reset_index(name='CompletedCount')\n",
    "\n",
    "# Unimos este nuevo DataFrame con el DataFrame original\n",
    "df = pd.merge(df, completed_counts, on=['CustomerID', 'StockCode'], how='left')\n",
    "\n",
    "# Rellenamos los NaN con 0, ya que si no hay registro de completado, el conteo debería ser 0\n",
    "df['CompletedCount'].fillna(0, inplace=True)\n",
    "\n",
    "# Convertimos 'CompletedCount' a tipo entero, ya que no puede haber una cantidad fraccionada de completados\n",
    "df['CompletedCount'] = df['CompletedCount'].astype(int)\n",
    "\n"
   ]
  },
  {
   "cell_type": "code",
   "execution_count": 47,
   "metadata": {},
   "outputs": [],
   "source": [
    "# Ahora vamos a crear una columna que indique la tasa de cancelaciones (CancelledCount / (CompletedCount + CancelledCount) del cliente)\n",
    "\n",
    "df['TasaCancelCliente'] = (df['CancelledCount'] / (df['CompletedCount'] + df['CancelledCount']))*100\n"
   ]
  },
  {
   "cell_type": "code",
   "execution_count": 48,
   "metadata": {},
   "outputs": [
    {
     "data": {
      "text/html": [
       "<div>\n",
       "<style scoped>\n",
       "    .dataframe tbody tr th:only-of-type {\n",
       "        vertical-align: middle;\n",
       "    }\n",
       "\n",
       "    .dataframe tbody tr th {\n",
       "        vertical-align: top;\n",
       "    }\n",
       "\n",
       "    .dataframe thead th {\n",
       "        text-align: right;\n",
       "    }\n",
       "</style>\n",
       "<table border=\"1\" class=\"dataframe\">\n",
       "  <thead>\n",
       "    <tr style=\"text-align: right;\">\n",
       "      <th></th>\n",
       "      <th>InvoiceNo</th>\n",
       "      <th>StockCode</th>\n",
       "      <th>Description</th>\n",
       "      <th>Quantity</th>\n",
       "      <th>InvoiceDate</th>\n",
       "      <th>UnitPrice</th>\n",
       "      <th>CustomerID</th>\n",
       "      <th>Country</th>\n",
       "      <th>tipo</th>\n",
       "      <th>Status</th>\n",
       "      <th>TotalSales</th>\n",
       "      <th>TotalCancel</th>\n",
       "      <th>TasaCancel</th>\n",
       "      <th>CancelledCount</th>\n",
       "      <th>CompletedCount</th>\n",
       "      <th>TasaCancelCliente</th>\n",
       "    </tr>\n",
       "  </thead>\n",
       "  <tbody>\n",
       "    <tr>\n",
       "      <th>0</th>\n",
       "      <td>536365</td>\n",
       "      <td>85123A</td>\n",
       "      <td>WHITE HANGING HEART T-LIGHT HOLDER</td>\n",
       "      <td>6</td>\n",
       "      <td>12/1/2010 8:26</td>\n",
       "      <td>2.550000</td>\n",
       "      <td>17850.000000</td>\n",
       "      <td>United Kingdom</td>\n",
       "      <td>ORDER</td>\n",
       "      <td>COMPLETED</td>\n",
       "      <td>36763.000000</td>\n",
       "      <td>2578.000000</td>\n",
       "      <td>6.552960</td>\n",
       "      <td>0</td>\n",
       "      <td>17</td>\n",
       "      <td>0.000000</td>\n",
       "    </tr>\n",
       "    <tr>\n",
       "      <th>1</th>\n",
       "      <td>536365</td>\n",
       "      <td>71053</td>\n",
       "      <td>WHITE METAL LANTERN</td>\n",
       "      <td>6</td>\n",
       "      <td>12/1/2010 8:26</td>\n",
       "      <td>3.390000</td>\n",
       "      <td>17850.000000</td>\n",
       "      <td>United Kingdom</td>\n",
       "      <td>ORDER</td>\n",
       "      <td>COMPLETED</td>\n",
       "      <td>1633.000000</td>\n",
       "      <td>39.000000</td>\n",
       "      <td>2.332536</td>\n",
       "      <td>0</td>\n",
       "      <td>17</td>\n",
       "      <td>0.000000</td>\n",
       "    </tr>\n",
       "    <tr>\n",
       "      <th>2</th>\n",
       "      <td>536365</td>\n",
       "      <td>84406B</td>\n",
       "      <td>CREAM CUPID HEARTS COAT HANGER</td>\n",
       "      <td>8</td>\n",
       "      <td>12/1/2010 8:26</td>\n",
       "      <td>2.750000</td>\n",
       "      <td>17850.000000</td>\n",
       "      <td>United Kingdom</td>\n",
       "      <td>ORDER</td>\n",
       "      <td>COMPLETED</td>\n",
       "      <td>1917.000000</td>\n",
       "      <td>42.000000</td>\n",
       "      <td>2.143951</td>\n",
       "      <td>0</td>\n",
       "      <td>15</td>\n",
       "      <td>0.000000</td>\n",
       "    </tr>\n",
       "    <tr>\n",
       "      <th>3</th>\n",
       "      <td>536365</td>\n",
       "      <td>84029G</td>\n",
       "      <td>KNITTED UNION FLAG HOT WATER BOTTLE</td>\n",
       "      <td>6</td>\n",
       "      <td>12/1/2010 8:26</td>\n",
       "      <td>3.390000</td>\n",
       "      <td>17850.000000</td>\n",
       "      <td>United Kingdom</td>\n",
       "      <td>ORDER</td>\n",
       "      <td>COMPLETED</td>\n",
       "      <td>2465.000000</td>\n",
       "      <td>14.000000</td>\n",
       "      <td>0.564744</td>\n",
       "      <td>0</td>\n",
       "      <td>17</td>\n",
       "      <td>0.000000</td>\n",
       "    </tr>\n",
       "    <tr>\n",
       "      <th>4</th>\n",
       "      <td>536365</td>\n",
       "      <td>84029E</td>\n",
       "      <td>RED WOOLLY HOTTIE WHITE HEART.</td>\n",
       "      <td>6</td>\n",
       "      <td>12/1/2010 8:26</td>\n",
       "      <td>3.390000</td>\n",
       "      <td>17850.000000</td>\n",
       "      <td>United Kingdom</td>\n",
       "      <td>ORDER</td>\n",
       "      <td>COMPLETED</td>\n",
       "      <td>3676.000000</td>\n",
       "      <td>19.000000</td>\n",
       "      <td>0.514208</td>\n",
       "      <td>0</td>\n",
       "      <td>17</td>\n",
       "      <td>0.000000</td>\n",
       "    </tr>\n",
       "    <tr>\n",
       "      <th>5</th>\n",
       "      <td>536365</td>\n",
       "      <td>22752</td>\n",
       "      <td>SET 7 BABUSHKA NESTING BOXES</td>\n",
       "      <td>2</td>\n",
       "      <td>12/1/2010 8:26</td>\n",
       "      <td>7.650000</td>\n",
       "      <td>17850.000000</td>\n",
       "      <td>United Kingdom</td>\n",
       "      <td>ORDER</td>\n",
       "      <td>COMPLETED</td>\n",
       "      <td>1651.000000</td>\n",
       "      <td>124.000000</td>\n",
       "      <td>6.985915</td>\n",
       "      <td>0</td>\n",
       "      <td>16</td>\n",
       "      <td>0.000000</td>\n",
       "    </tr>\n",
       "    <tr>\n",
       "      <th>6</th>\n",
       "      <td>536365</td>\n",
       "      <td>21730</td>\n",
       "      <td>GLASS STAR FROSTED T-LIGHT HOLDER</td>\n",
       "      <td>6</td>\n",
       "      <td>12/1/2010 8:26</td>\n",
       "      <td>4.250000</td>\n",
       "      <td>17850.000000</td>\n",
       "      <td>United Kingdom</td>\n",
       "      <td>ORDER</td>\n",
       "      <td>COMPLETED</td>\n",
       "      <td>497.000000</td>\n",
       "      <td>14.000000</td>\n",
       "      <td>2.739726</td>\n",
       "      <td>2</td>\n",
       "      <td>17</td>\n",
       "      <td>10.526316</td>\n",
       "    </tr>\n",
       "    <tr>\n",
       "      <th>7</th>\n",
       "      <td>536366</td>\n",
       "      <td>22633</td>\n",
       "      <td>HAND WARMER UNION JACK</td>\n",
       "      <td>6</td>\n",
       "      <td>12/1/2010 8:28</td>\n",
       "      <td>1.850000</td>\n",
       "      <td>17850.000000</td>\n",
       "      <td>United Kingdom</td>\n",
       "      <td>ORDER</td>\n",
       "      <td>COMPLETED</td>\n",
       "      <td>4730.000000</td>\n",
       "      <td>26.000000</td>\n",
       "      <td>0.546678</td>\n",
       "      <td>0</td>\n",
       "      <td>17</td>\n",
       "      <td>0.000000</td>\n",
       "    </tr>\n",
       "    <tr>\n",
       "      <th>8</th>\n",
       "      <td>536366</td>\n",
       "      <td>22632</td>\n",
       "      <td>HAND WARMER RED POLKA DOT</td>\n",
       "      <td>6</td>\n",
       "      <td>12/1/2010 8:28</td>\n",
       "      <td>1.850000</td>\n",
       "      <td>17850.000000</td>\n",
       "      <td>United Kingdom</td>\n",
       "      <td>ORDER</td>\n",
       "      <td>COMPLETED</td>\n",
       "      <td>4388.000000</td>\n",
       "      <td>17.000000</td>\n",
       "      <td>0.385925</td>\n",
       "      <td>1</td>\n",
       "      <td>17</td>\n",
       "      <td>5.555556</td>\n",
       "    </tr>\n",
       "    <tr>\n",
       "      <th>9</th>\n",
       "      <td>536367</td>\n",
       "      <td>84879</td>\n",
       "      <td>ASSORTED COLOUR BIRD ORNAMENT</td>\n",
       "      <td>32</td>\n",
       "      <td>12/1/2010 8:34</td>\n",
       "      <td>1.690000</td>\n",
       "      <td>13047.000000</td>\n",
       "      <td>United Kingdom</td>\n",
       "      <td>ORDER</td>\n",
       "      <td>COMPLETED</td>\n",
       "      <td>35263.000000</td>\n",
       "      <td>48.000000</td>\n",
       "      <td>0.135935</td>\n",
       "      <td>0</td>\n",
       "      <td>1</td>\n",
       "      <td>0.000000</td>\n",
       "    </tr>\n",
       "  </tbody>\n",
       "</table>\n",
       "</div>"
      ],
      "text/plain": [
       "  InvoiceNo StockCode                          Description  Quantity  \\\n",
       "0    536365    85123A   WHITE HANGING HEART T-LIGHT HOLDER         6   \n",
       "1    536365     71053                  WHITE METAL LANTERN         6   \n",
       "2    536365    84406B       CREAM CUPID HEARTS COAT HANGER         8   \n",
       "3    536365    84029G  KNITTED UNION FLAG HOT WATER BOTTLE         6   \n",
       "4    536365    84029E       RED WOOLLY HOTTIE WHITE HEART.         6   \n",
       "5    536365     22752         SET 7 BABUSHKA NESTING BOXES         2   \n",
       "6    536365     21730    GLASS STAR FROSTED T-LIGHT HOLDER         6   \n",
       "7    536366     22633               HAND WARMER UNION JACK         6   \n",
       "8    536366     22632            HAND WARMER RED POLKA DOT         6   \n",
       "9    536367     84879        ASSORTED COLOUR BIRD ORNAMENT        32   \n",
       "\n",
       "      InvoiceDate  UnitPrice   CustomerID         Country   tipo     Status  \\\n",
       "0  12/1/2010 8:26   2.550000 17850.000000  United Kingdom  ORDER  COMPLETED   \n",
       "1  12/1/2010 8:26   3.390000 17850.000000  United Kingdom  ORDER  COMPLETED   \n",
       "2  12/1/2010 8:26   2.750000 17850.000000  United Kingdom  ORDER  COMPLETED   \n",
       "3  12/1/2010 8:26   3.390000 17850.000000  United Kingdom  ORDER  COMPLETED   \n",
       "4  12/1/2010 8:26   3.390000 17850.000000  United Kingdom  ORDER  COMPLETED   \n",
       "5  12/1/2010 8:26   7.650000 17850.000000  United Kingdom  ORDER  COMPLETED   \n",
       "6  12/1/2010 8:26   4.250000 17850.000000  United Kingdom  ORDER  COMPLETED   \n",
       "7  12/1/2010 8:28   1.850000 17850.000000  United Kingdom  ORDER  COMPLETED   \n",
       "8  12/1/2010 8:28   1.850000 17850.000000  United Kingdom  ORDER  COMPLETED   \n",
       "9  12/1/2010 8:34   1.690000 13047.000000  United Kingdom  ORDER  COMPLETED   \n",
       "\n",
       "    TotalSales  TotalCancel  TasaCancel  CancelledCount  CompletedCount  \\\n",
       "0 36763.000000  2578.000000    6.552960               0              17   \n",
       "1  1633.000000    39.000000    2.332536               0              17   \n",
       "2  1917.000000    42.000000    2.143951               0              15   \n",
       "3  2465.000000    14.000000    0.564744               0              17   \n",
       "4  3676.000000    19.000000    0.514208               0              17   \n",
       "5  1651.000000   124.000000    6.985915               0              16   \n",
       "6   497.000000    14.000000    2.739726               2              17   \n",
       "7  4730.000000    26.000000    0.546678               0              17   \n",
       "8  4388.000000    17.000000    0.385925               1              17   \n",
       "9 35263.000000    48.000000    0.135935               0               1   \n",
       "\n",
       "   TasaCancelCliente  \n",
       "0           0.000000  \n",
       "1           0.000000  \n",
       "2           0.000000  \n",
       "3           0.000000  \n",
       "4           0.000000  \n",
       "5           0.000000  \n",
       "6          10.526316  \n",
       "7           0.000000  \n",
       "8           5.555556  \n",
       "9           0.000000  "
      ]
     },
     "execution_count": 48,
     "metadata": {},
     "output_type": "execute_result"
    }
   ],
   "source": [
    "# Comprobamos los 10 primeros registros con CancelledCount > 0\n",
    "\n",
    "df[df['CompletedCount'] > 0].head(10)"
   ]
  },
  {
   "cell_type": "markdown",
   "metadata": {},
   "source": [
    "Bien, ya tenemos las tasas de cancelacion por producto y por producto y cliente. Ahora vamos a crear una columna para calcular el importe total pagado por cliente y el importe de cancelaciones total de cada cliente"
   ]
  },
  {
   "cell_type": "code",
   "execution_count": 49,
   "metadata": {},
   "outputs": [],
   "source": [
    "# Calculamos Precio Total (tomando el valor absoluto de Quantity para las cancelaciones)\n",
    "df['Precio Total'] = df['Quantity'].abs() * df['UnitPrice']\n",
    "\n",
    "# Para Compras Totales, filtramos por Status COMPLETED y agrupamos por CustomerID\n",
    "compras_totales = df[df['Status'] == 'COMPLETED'].groupby('CustomerID')['Precio Total'].sum().reset_index()\n",
    "compras_totales.columns = ['CustomerID', 'Compras Totales']\n",
    "\n",
    "# Unimos esta información con el DataFrame original\n",
    "df = pd.merge(df, compras_totales, on='CustomerID', how='left')\n",
    "\n",
    "# Para Cancelaciones Totales, filtramos por Status CANCEL y agrupamos por CustomerID\n",
    "cancelaciones_totales = df[df['Status'] == 'CANCEL'].groupby('CustomerID')['Precio Total'].sum().reset_index()\n",
    "cancelaciones_totales.columns = ['CustomerID', 'Cancelaciones Totales']\n",
    "\n",
    "# Unimos esta información con el DataFrame original\n",
    "df = pd.merge(df, cancelaciones_totales, on='CustomerID', how='left')\n",
    "\n",
    "# Rellenamos los NaN con 0 en las columnas de totales\n",
    "df[['Compras Totales', 'Cancelaciones Totales']] = df[['Compras Totales', 'Cancelaciones Totales']].fillna(0)\n"
   ]
  },
  {
   "cell_type": "code",
   "execution_count": 50,
   "metadata": {},
   "outputs": [
    {
     "data": {
      "text/plain": [
       "array(['ORDER', 'POST', 'DOT', 'CARRIAGE', 'MANUAL', 'BANK', 'CRUK'],\n",
       "      dtype=object)"
      ]
     },
     "execution_count": 50,
     "metadata": {},
     "output_type": "execute_result"
    }
   ],
   "source": [
    "df['tipo'].unique()"
   ]
  },
  {
   "cell_type": "markdown",
   "metadata": {},
   "source": [
    "Vamos a ver si cada tipo tiene alguna relación con los paises"
   ]
  },
  {
   "cell_type": "code",
   "execution_count": 51,
   "metadata": {},
   "outputs": [
    {
     "data": {
      "image/png": "[encoded data removed]",
      "text/plain": [
       "<Figure size 1000x600 with 1 Axes>"
      ]
     },
     "metadata": {},
     "output_type": "display_data"
    }
   ],
   "source": [
    "# Contar veces que se usa el tipo POST por pais\n",
    "\n",
    "# Filtramos el DataFrame para quedarnos solo con las filas\n",
    "# donde el tipo es 'POST' y agrupamos por 'Country'\n",
    "\n",
    "manual_counts = df[df['tipo'] == 'POST'].groupby('Country').size().reset_index(name='ManualCount')\n",
    "\n",
    "# Ordenamos por 'ManualCount' para el gráfico\n",
    "manual_counts.sort_values('ManualCount', ascending=False, inplace=True)\n",
    "\n",
    "# Creamos el gráfico de barras\n",
    "plt.figure(figsize=(10, 6))\n",
    "\n",
    "sns.barplot(data=manual_counts, x='ManualCount', y='Country', palette='viridis')\n",
    "plt.xlabel('Cantidad')\n",
    "plt.ylabel('País')\n",
    "plt.title('Cantidad de veces que se usa el tipo POST por país')\n",
    "plt.show()"
   ]
  },
  {
   "cell_type": "markdown",
   "metadata": {},
   "source": [
    "Vemos que Alemania es el país con mas cargos por POST, seguido de Francia, Belgica, UK, España..."
   ]
  },
  {
   "cell_type": "code",
   "execution_count": 52,
   "metadata": {},
   "outputs": [
    {
     "data": {
      "image/png": "[encoded data removed]",
      "text/plain": [
       "<Figure size 1000x600 with 1 Axes>"
      ]
     },
     "metadata": {},
     "output_type": "display_data"
    }
   ],
   "source": [
    "# Contar veces que se usa el tipo DOT por pais\n",
    "\n",
    "# Filtramos el DataFrame para quedarnos solo con las filas\n",
    "# donde el tipo es 'DOT' y agrupamos por 'Country'\n",
    "\n",
    "manual_counts = df[df['tipo'] == 'DOT'].groupby('Country').size().reset_index(name='ManualCount')\n",
    "\n",
    "# Ordenamos por 'ManualCount' para el gráfico\n",
    "manual_counts.sort_values('ManualCount', ascending=False, inplace=True)\n",
    "\n",
    "# Creamos el gráfico de barras\n",
    "plt.figure(figsize=(10, 6))\n",
    "\n",
    "sns.barplot(data=manual_counts, x='ManualCount', y='Country', palette='viridis')\n",
    "plt.xlabel('Cantidad')\n",
    "plt.ylabel('País')\n",
    "plt.title('Cantidad de veces que se usa el tipo DOT por país')\n",
    "plt.show()"
   ]
  },
  {
   "cell_type": "markdown",
   "metadata": {},
   "source": [
    "Los DOT vienen principalmente de UK"
   ]
  },
  {
   "cell_type": "code",
   "execution_count": 53,
   "metadata": {},
   "outputs": [
    {
     "data": {
      "image/png": "[encoded data removed]",
      "text/plain": [
       "<Figure size 1000x600 with 1 Axes>"
      ]
     },
     "metadata": {},
     "output_type": "display_data"
    }
   ],
   "source": [
    "# Contar veces que se usa el tipo CARRIAGE por pais\n",
    "\n",
    "# Filtramos el DataFrame para quedarnos solo con las filas\n",
    "# donde el tipo es 'CARRIAGE' y agrupamos por 'Country'\n",
    "\n",
    "manual_counts = df[df['tipo'] == 'CARRIAGE'].groupby('Country').size().reset_index(name='ManualCount')\n",
    "\n",
    "# Ordenamos por 'ManualCount' para el gráfico\n",
    "manual_counts.sort_values('ManualCount', ascending=False, inplace=True)\n",
    "\n",
    "# Creamos el gráfico de barras\n",
    "plt.figure(figsize=(10, 6))\n",
    "\n",
    "sns.barplot(data=manual_counts, x='ManualCount', y='Country', palette='viridis')\n",
    "plt.xlabel('Cantidad')\n",
    "plt.ylabel('País')\n",
    "plt.title('Cantidad de veces que se usa el tipo CARRIAGE por país')\n",
    "plt.show()"
   ]
  },
  {
   "cell_type": "markdown",
   "metadata": {},
   "source": [
    "Sin embargo la mayoría de Carriage es con pedidos de EIRE (Irlanda)"
   ]
  },
  {
   "cell_type": "code",
   "execution_count": 54,
   "metadata": {},
   "outputs": [
    {
     "data": {
      "image/png": "[encoded data removed]",
      "text/plain": [
       "<Figure size 1000x600 with 1 Axes>"
      ]
     },
     "metadata": {},
     "output_type": "display_data"
    }
   ],
   "source": [
    "# Contar veces que se usa el tipo BANK por pais\n",
    "\n",
    "# Filtramos el DataFrame para quedarnos solo con las filas\n",
    "# donde el tipo es 'BANK' y agrupamos por 'Country'\n",
    "\n",
    "manual_counts = df[df['tipo'] == 'BANK'].groupby('Country').size().reset_index(name='ManualCount')\n",
    "\n",
    "# Ordenamos por 'ManualCount' para el gráfico\n",
    "manual_counts.sort_values('ManualCount', ascending=False, inplace=True)\n",
    "\n",
    "# Creamos el gráfico de barras\n",
    "plt.figure(figsize=(10, 6))\n",
    "\n",
    "sns.barplot(data=manual_counts, x='ManualCount', y='Country', palette='viridis')\n",
    "plt.xlabel('Cantidad')\n",
    "plt.ylabel('País')\n",
    "plt.title('Cantidad de veces que se usa el tipo BANK por país')\n",
    "plt.show()"
   ]
  },
  {
   "cell_type": "code",
   "execution_count": 55,
   "metadata": {},
   "outputs": [
    {
     "data": {
      "image/png": "[encoded data removed]",
      "text/plain": [
       "<Figure size 1000x600 with 1 Axes>"
      ]
     },
     "metadata": {},
     "output_type": "display_data"
    }
   ],
   "source": [
    "# Contar veces que se usa el tipo CRUK por pais\n",
    "\n",
    "# Filtramos el DataFrame para quedarnos solo con las filas\n",
    "# donde el tipo es 'CRUK' y agrupamos por 'Country'\n",
    "\n",
    "manual_counts = df[df['tipo'] == 'CRUK'].groupby('Country').size().reset_index(name='ManualCount')\n",
    "\n",
    "# Ordenamos por 'ManualCount' para el gráfico\n",
    "manual_counts.sort_values('ManualCount', ascending=False, inplace=True)\n",
    "\n",
    "# Creamos el gráfico de barras\n",
    "plt.figure(figsize=(10, 6))\n",
    "\n",
    "sns.barplot(data=manual_counts, x='ManualCount', y='Country', palette='viridis')\n",
    "plt.xlabel('Cantidad')\n",
    "plt.ylabel('País')\n",
    "plt.title('Cantidad de veces que se usa el tipo CRUK por país')\n",
    "plt.show()"
   ]
  },
  {
   "cell_type": "markdown",
   "metadata": {},
   "source": [
    "Bank sin embargo solo viene de UK al igual que CRUK.\n",
    "Analicemos ahora los productos en mayor profundidad"
   ]
  },
  {
   "cell_type": "code",
   "execution_count": 56,
   "metadata": {},
   "outputs": [
    {
     "data": {
      "text/plain": [
       "Index(['InvoiceNo', 'StockCode', 'Description', 'Quantity', 'InvoiceDate',\n",
       "       'UnitPrice', 'CustomerID', 'Country', 'tipo', 'Status', 'TotalSales',\n",
       "       'TotalCancel', 'TasaCancel', 'CancelledCount', 'CompletedCount',\n",
       "       'TasaCancelCliente', 'Precio Total', 'Compras Totales',\n",
       "       'Cancelaciones Totales'],\n",
       "      dtype='object')"
      ]
     },
     "execution_count": 56,
     "metadata": {},
     "output_type": "execute_result"
    }
   ],
   "source": [
    "df.columns"
   ]
  },
  {
   "cell_type": "code",
   "execution_count": 65,
   "metadata": {},
   "outputs": [
    {
     "data": {
      "image/png": "[encoded data removed]",
      "text/plain": [
       "<Figure size 1000x600 with 1 Axes>"
      ]
     },
     "metadata": {},
     "output_type": "display_data"
    }
   ],
   "source": [
    "# Agrupamos por 'StockCode' y 'Description', y sumamos 'TotalSales'\n",
    "grouped_data = df.groupby(['StockCode', 'Description'])['TotalSales'].mean().reset_index()\n",
    "\n",
    "# Ordenamos los datos y seleccionamos el top 10\n",
    "top_10_products = grouped_data.sort_values(by='TotalSales', ascending=False).head(10)\n",
    "\n",
    "# Creamos el gráfico\n",
    "plt.figure(figsize=(10, 6))\n",
    "plt.barh(top_10_products['Description'], top_10_products['TotalSales'])\n",
    "plt.xlabel('Ingresos Totales')\n",
    "plt.ylabel('Descripción del Producto')\n",
    "plt.title('Top 10 Productos con Mayores Ingresos')\n",
    "plt.gca().invert_yaxis()  # Invertimos el eje y para que el producto con más ingresos esté arriba\n",
    "plt.show()"
   ]
  },
  {
   "cell_type": "code",
   "execution_count": 66,
   "metadata": {},
   "outputs": [
    {
     "data": {
      "image/png": "[encoded data removed]",
      "text/plain": [
       "<Figure size 1000x600 with 1 Axes>"
      ]
     },
     "metadata": {},
     "output_type": "display_data"
    }
   ],
   "source": [
    "# Calculamos los ingresos netos (TotalSales - TotalCancel) por cada StockCode y Description\n",
    "df['NetIncome'] = df['TotalSales'] - df['TotalCancel']\n",
    "grouped_data = df.groupby(['StockCode', 'Description'])['NetIncome'].mean().reset_index()\n",
    "\n",
    "# Ordenamos los datos y seleccionamos el top 10\n",
    "top_10_products = grouped_data.sort_values(by='NetIncome', ascending=False).head(10)\n",
    "\n",
    "# Creamos el gráfico\n",
    "plt.figure(figsize=(10, 6))\n",
    "plt.barh(top_10_products['Description'], top_10_products['NetIncome'])\n",
    "plt.xlabel('Ingresos Netos')\n",
    "plt.ylabel('Descripción del Producto')\n",
    "plt.title('Top 10 Productos con Mayores Ingresos Netos')\n",
    "plt.gca().invert_yaxis()  # Invertimos el eje y para que el producto con más ingresos esté arriba\n",
    "plt.show()"
   ]
  },
  {
   "cell_type": "markdown",
   "metadata": {},
   "source": [
    "Podemos observar que al tener en cuenta ingresos netos, los dos productos con mayores ingresos no aparecen. Es curioso, ya que ambos tienen el doble de ingresos que World War 2. Esto puede deberse a un error, bien en la venta o bien en la cancelacion. Asi que vamos a comprobar que ha ocurrido."
   ]
  },
  {
   "cell_type": "code",
   "execution_count": 68,
   "metadata": {},
   "outputs": [
    {
     "data": {
      "text/html": [
       "<div>\n",
       "<style scoped>\n",
       "    .dataframe tbody tr th:only-of-type {\n",
       "        vertical-align: middle;\n",
       "    }\n",
       "\n",
       "    .dataframe tbody tr th {\n",
       "        vertical-align: top;\n",
       "    }\n",
       "\n",
       "    .dataframe thead th {\n",
       "        text-align: right;\n",
       "    }\n",
       "</style>\n",
       "<table border=\"1\" class=\"dataframe\">\n",
       "  <thead>\n",
       "    <tr style=\"text-align: right;\">\n",
       "      <th></th>\n",
       "      <th>InvoiceNo</th>\n",
       "      <th>StockCode</th>\n",
       "      <th>Description</th>\n",
       "      <th>Quantity</th>\n",
       "      <th>InvoiceDate</th>\n",
       "      <th>UnitPrice</th>\n",
       "      <th>CustomerID</th>\n",
       "      <th>Country</th>\n",
       "      <th>tipo</th>\n",
       "      <th>Status</th>\n",
       "      <th>TotalSales</th>\n",
       "      <th>TotalCancel</th>\n",
       "      <th>TasaCancel</th>\n",
       "      <th>CancelledCount</th>\n",
       "      <th>CompletedCount</th>\n",
       "      <th>TasaCancelCliente</th>\n",
       "      <th>Precio Total</th>\n",
       "      <th>Compras Totales</th>\n",
       "      <th>Cancelaciones Totales</th>\n",
       "      <th>NetIncome</th>\n",
       "    </tr>\n",
       "  </thead>\n",
       "  <tbody>\n",
       "    <tr>\n",
       "      <th>401087</th>\n",
       "      <td>581483</td>\n",
       "      <td>23843</td>\n",
       "      <td>PAPER CRAFT , LITTLE BIRDIE</td>\n",
       "      <td>80995</td>\n",
       "      <td>12/9/2011 9:15</td>\n",
       "      <td>2.080000</td>\n",
       "      <td>16446.000000</td>\n",
       "      <td>United Kingdom</td>\n",
       "      <td>ORDER</td>\n",
       "      <td>COMPLETED</td>\n",
       "      <td>80995.000000</td>\n",
       "      <td>80995.000000</td>\n",
       "      <td>50.000000</td>\n",
       "      <td>1</td>\n",
       "      <td>1</td>\n",
       "      <td>50.000000</td>\n",
       "      <td>168469.600000</td>\n",
       "      <td>168472.500000</td>\n",
       "      <td>168469.600000</td>\n",
       "      <td>0.000000</td>\n",
       "    </tr>\n",
       "    <tr>\n",
       "      <th>401088</th>\n",
       "      <td>C581484</td>\n",
       "      <td>23843</td>\n",
       "      <td>PAPER CRAFT , LITTLE BIRDIE</td>\n",
       "      <td>-80995</td>\n",
       "      <td>12/9/2011 9:27</td>\n",
       "      <td>2.080000</td>\n",
       "      <td>16446.000000</td>\n",
       "      <td>United Kingdom</td>\n",
       "      <td>ORDER</td>\n",
       "      <td>CANCEL</td>\n",
       "      <td>80995.000000</td>\n",
       "      <td>80995.000000</td>\n",
       "      <td>50.000000</td>\n",
       "      <td>1</td>\n",
       "      <td>1</td>\n",
       "      <td>50.000000</td>\n",
       "      <td>168469.600000</td>\n",
       "      <td>168472.500000</td>\n",
       "      <td>168469.600000</td>\n",
       "      <td>0.000000</td>\n",
       "    </tr>\n",
       "  </tbody>\n",
       "</table>\n",
       "</div>"
      ],
      "text/plain": [
       "       InvoiceNo StockCode                  Description  Quantity  \\\n",
       "401087    581483     23843  PAPER CRAFT , LITTLE BIRDIE     80995   \n",
       "401088   C581484     23843  PAPER CRAFT , LITTLE BIRDIE    -80995   \n",
       "\n",
       "           InvoiceDate  UnitPrice   CustomerID         Country   tipo  \\\n",
       "401087  12/9/2011 9:15   2.080000 16446.000000  United Kingdom  ORDER   \n",
       "401088  12/9/2011 9:27   2.080000 16446.000000  United Kingdom  ORDER   \n",
       "\n",
       "           Status   TotalSales  TotalCancel  TasaCancel  CancelledCount  \\\n",
       "401087  COMPLETED 80995.000000 80995.000000   50.000000               1   \n",
       "401088     CANCEL 80995.000000 80995.000000   50.000000               1   \n",
       "\n",
       "        CompletedCount  TasaCancelCliente  Precio Total  Compras Totales  \\\n",
       "401087               1          50.000000 168469.600000    168472.500000   \n",
       "401088               1          50.000000 168469.600000    168472.500000   \n",
       "\n",
       "        Cancelaciones Totales  NetIncome  \n",
       "401087          168469.600000   0.000000  \n",
       "401088          168469.600000   0.000000  "
      ]
     },
     "execution_count": 68,
     "metadata": {},
     "output_type": "execute_result"
    }
   ],
   "source": [
    "df[df['Description'] == 'PAPER CRAFT , LITTLE BIRDIE']"
   ]
  },
  {
   "cell_type": "markdown",
   "metadata": {},
   "source": [
    "# CONCLUSIONES"
   ]
  },
  {
   "cell_type": "markdown",
   "metadata": {},
   "source": [
    "Esto muestra que este artículo fue comprado por error, y se produjo la cancelación del pedido. Por la cantidad entendemos que fue un error y no se hizo de forma intencionada, asi que lo mejor será borrarlo del dataset ya que entiendo que no aporta información relevante.\n",
    "\n",
    "Además, aqui nos damos cuenta de que existe una orden de de compra para cada orden de cancelación, por lo que tenemos que casar las ordenes con sus cancelaciones para tener unos datos más fiables.\n",
    "\n",
    "Nuestra suposición fue que las cancelaciones eran ordenes modificadas ya que códigos de Invoice no coincidían, tenemos que buscar una forma de casar estas cancelaciones con sus respectivas ordenes\n",
    "\n",
    "Tras esta conclusión es necesario volver atrás en el EDA, volver a comprobar los errores, partir desde la suposición correcta y repetir los calculos de las columnas eliminando compras atípicas como esta y su cancelación para mantener datos verderamente relevantes con la segmentación de los clientes y la recomendación de los productos.\n",
    "\n",
    "Este archivo es importante mantenerlo para volver a leer las conclusiones, ya que modificar todo desde tan atrás eliminaría estas conclusiones y son importantes.\n",
    "\n",
    "Por tanto, se crea un nuevo archivo EDA2.ipynb donde se repite el EDA, partiendo de las suposiciones correctas."
   ]
  }
 ],
 "metadata": {
  "kernelspec": {
   "display_name": "Python 3",
   "language": "python",
   "name": "python3"
  },
  "language_info": {
   "codemirror_mode": {
    "name": "ipython",
    "version": 3
   },
   "file_extension": ".py",
   "mimetype": "text/x-python",
   "name": "python",
   "nbconvert_exporter": "python",
   "pygments_lexer": "ipython3",
   "version": "3.10.13"
  }
 },
 "nbformat": 4,
 "nbformat_minor": 2
}

{
 "cells": [
  {
   "cell_type": "code",
   "execution_count": 13,
   "metadata": {},
   "outputs": [],
   "source": [
    "import warnings\n",
    "warnings.filterwarnings('ignore')"
   ]
  },
  {
   "cell_type": "code",
   "execution_count": 14,
   "metadata": {},
   "outputs": [],
   "source": [
    "import pandas as pd\n",
    "import numpy as np"
   ]
  },
  {
   "cell_type": "code",
   "execution_count": 15,
   "metadata": {},
   "outputs": [],
   "source": [
    "df = pd.read_csv('data_cleaned.csv',encoding='latin1')"
   ]
  },
  {
   "cell_type": "markdown",
   "metadata": {},
   "source": [
    "# Paso 1: Preparación de los Datos\n",
    "\n",
    "Primero, necesitamos preparar nuestros datos. Vamos a crear una matriz de interacciones usuario-producto, donde cada fila representa un cliente y cada columna un producto. Los valores indicarán la cantidad comprada de cada producto por cada cliente."
   ]
  },
  {
   "cell_type": "code",
   "execution_count": 16,
   "metadata": {},
   "outputs": [],
   "source": [
    "from scipy.sparse import csr_matrix\n",
    "\n",
    "# Crear una matriz de interacción usuario-producto.\n",
    "# Agrupamos los datos por CustomerID y StockCode y sumamos la cantidad para cada combinación.\n",
    "user_product_interaction = df.groupby(['CustomerID', 'StockCode'])['Quantity'].sum().unstack(fill_value=0)\n",
    "\n",
    "# Convertimos esta matriz en una matriz dispersa (sparse) para mejorar la eficiencia en memoria y cálculo.\n",
    "user_product_matrix = csr_matrix(user_product_interaction.values)"
   ]
  },
  {
   "cell_type": "markdown",
   "metadata": {},
   "source": [
    "# Paso 2: Construcción del Modelo (Basico) de Recomendación con KNN\n",
    "\n",
    "Usaremos el algoritmo Nearest Neighbors para encontrar productos similares basados en las compras de los clientes. Este modelo se entrenará con la matriz de interacciones para identificar similitudes entre productos."
   ]
  },
  {
   "cell_type": "code",
   "execution_count": null,
   "metadata": {},
   "outputs": [],
   "source": []
  },
  {
   "cell_type": "code",
   "execution_count": 17,
   "metadata": {},
   "outputs": [
    {
     "data": {
      "text/html": [
       "<style>#sk-container-id-1 {color: black;}#sk-container-id-1 pre{padding: 0;}#sk-container-id-1 div.sk-toggleable {background-color: white;}#sk-container-id-1 label.sk-toggleable__label {cursor: pointer;display: block;width: 100%;margin-bottom: 0;padding: 0.3em;box-sizing: border-box;text-align: center;}#sk-container-id-1 label.sk-toggleable__label-arrow:before {content: \"▸\";float: left;margin-right: 0.25em;color: #696969;}#sk-container-id-1 label.sk-toggleable__label-arrow:hover:before {color: black;}#sk-container-id-1 div.sk-estimator:hover label.sk-toggleable__label-arrow:before {color: black;}#sk-container-id-1 div.sk-toggleable__content {max-height: 0;max-width: 0;overflow: hidden;text-align: left;background-color: #f0f8ff;}#sk-container-id-1 div.sk-toggleable__content pre {margin: 0.2em;color: black;border-radius: 0.25em;background-color: #f0f8ff;}#sk-container-id-1 input.sk-toggleable__control:checked~div.sk-toggleable__content {max-height: 200px;max-width: 100%;overflow: auto;}#sk-container-id-1 input.sk-toggleable__control:checked~label.sk-toggleable__label-arrow:before {content: \"▾\";}#sk-container-id-1 div.sk-estimator input.sk-toggleable__control:checked~label.sk-toggleable__label {background-color: #d4ebff;}#sk-container-id-1 div.sk-label input.sk-toggleable__control:checked~label.sk-toggleable__label {background-color: #d4ebff;}#sk-container-id-1 input.sk-hidden--visually {border: 0;clip: rect(1px 1px 1px 1px);clip: rect(1px, 1px, 1px, 1px);height: 1px;margin: -1px;overflow: hidden;padding: 0;position: absolute;width: 1px;}#sk-container-id-1 div.sk-estimator {font-family: monospace;background-color: #f0f8ff;border: 1px dotted black;border-radius: 0.25em;box-sizing: border-box;margin-bottom: 0.5em;}#sk-container-id-1 div.sk-estimator:hover {background-color: #d4ebff;}#sk-container-id-1 div.sk-parallel-item::after {content: \"\";width: 100%;border-bottom: 1px solid gray;flex-grow: 1;}#sk-container-id-1 div.sk-label:hover label.sk-toggleable__label {background-color: #d4ebff;}#sk-container-id-1 div.sk-serial::before {content: \"\";position: absolute;border-left: 1px solid gray;box-sizing: border-box;top: 0;bottom: 0;left: 50%;z-index: 0;}#sk-container-id-1 div.sk-serial {display: flex;flex-direction: column;align-items: center;background-color: white;padding-right: 0.2em;padding-left: 0.2em;position: relative;}#sk-container-id-1 div.sk-item {position: relative;z-index: 1;}#sk-container-id-1 div.sk-parallel {display: flex;align-items: stretch;justify-content: center;background-color: white;position: relative;}#sk-container-id-1 div.sk-item::before, #sk-container-id-1 div.sk-parallel-item::before {content: \"\";position: absolute;border-left: 1px solid gray;box-sizing: border-box;top: 0;bottom: 0;left: 50%;z-index: -1;}#sk-container-id-1 div.sk-parallel-item {display: flex;flex-direction: column;z-index: 1;position: relative;background-color: white;}#sk-container-id-1 div.sk-parallel-item:first-child::after {align-self: flex-end;width: 50%;}#sk-container-id-1 div.sk-parallel-item:last-child::after {align-self: flex-start;width: 50%;}#sk-container-id-1 div.sk-parallel-item:only-child::after {width: 0;}#sk-container-id-1 div.sk-dashed-wrapped {border: 1px dashed gray;margin: 0 0.4em 0.5em 0.4em;box-sizing: border-box;padding-bottom: 0.4em;background-color: white;}#sk-container-id-1 div.sk-label label {font-family: monospace;font-weight: bold;display: inline-block;line-height: 1.2em;}#sk-container-id-1 div.sk-label-container {text-align: center;}#sk-container-id-1 div.sk-container {/* jupyter's `normalize.less` sets `[hidden] { display: none; }` but bootstrap.min.css set `[hidden] { display: none !important; }` so we also need the `!important` here to be able to override the default hidden behavior on the sphinx rendered scikit-learn.org. See: https://github.com/scikit-learn/scikit-learn/issues/21755 */display: inline-block !important;position: relative;}#sk-container-id-1 div.sk-text-repr-fallback {display: none;}</style><div id=\"sk-container-id-1\" class=\"sk-top-container\"><div class=\"sk-text-repr-fallback\"><pre>NearestNeighbors(algorithm=&#x27;brute&#x27;, metric=&#x27;cosine&#x27;, n_jobs=-1, n_neighbors=20)</pre><b>In a Jupyter environment, please rerun this cell to show the HTML representation or trust the notebook. <br />On GitHub, the HTML representation is unable to render, please try loading this page with nbviewer.org.</b></div><div class=\"sk-container\" hidden><div class=\"sk-item\"><div class=\"sk-estimator sk-toggleable\"><input class=\"sk-toggleable__control sk-hidden--visually\" id=\"sk-estimator-id-1\" type=\"checkbox\" checked><label for=\"sk-estimator-id-1\" class=\"sk-toggleable__label sk-toggleable__label-arrow\">NearestNeighbors</label><div class=\"sk-toggleable__content\"><pre>NearestNeighbors(algorithm=&#x27;brute&#x27;, metric=&#x27;cosine&#x27;, n_jobs=-1, n_neighbors=20)</pre></div></div></div></div></div>"
      ],
      "text/plain": [
       "NearestNeighbors(algorithm='brute', metric='cosine', n_jobs=-1, n_neighbors=20)"
      ]
     },
     "execution_count": 17,
     "metadata": {},
     "output_type": "execute_result"
    }
   ],
   "source": [
    "from sklearn.neighbors import NearestNeighbors\n",
    "\n",
    "# Inicializamos el modelo NearestNeighbors usando la métrica de similitud de coseno.\n",
    "model_knn = NearestNeighbors(metric='cosine', algorithm='brute', n_neighbors=20, n_jobs=-1)\n",
    "\n",
    "# Entrenamos el modelo con nuestra matriz de interacción producto-cliente.\n",
    "# Usamos la transposición porque queremos la similitud entre productos, no entre clientes.\n",
    "model_knn.fit(user_product_matrix.T)\n"
   ]
  },
  {
   "cell_type": "markdown",
   "metadata": {},
   "source": [
    "# Paso 3: Generación de Recomendaciones y Explicaciones\n",
    "\n",
    "Para cada cliente, identificaremos productos que no ha comprado y encontraremos los más similares a los que sí ha comprado. Proporcionaremos una explicación basada en estos productos similares."
   ]
  },
  {
   "cell_type": "code",
   "execution_count": 21,
   "metadata": {},
   "outputs": [],
   "source": [
    "def get_recommendations(customer_id, n_recommendations=5):\n",
    "    # Obtenemos los productos ya comprados por el cliente.\n",
    "    purchased_indices = user_product_interaction.loc[customer_id].nonzero()[0]\n",
    "    purchased_stockcodes = user_product_interaction.columns[purchased_indices]\n",
    "    \n",
    "    recommendations = []\n",
    "    for stockcode in purchased_stockcodes:\n",
    "        # Para cada producto comprado, encontramos productos similares.\n",
    "        stockcode_idx = list(user_product_interaction.columns).index(stockcode)\n",
    "        distances, indices = model_knn.kneighbors(user_product_interaction.iloc[:, stockcode_idx].values.reshape(1, -1), n_neighbors=n_recommendations+1)\n",
    "        \n",
    "        # Recorremos los productos similares encontrados.\n",
    "        for i, (distance, index) in enumerate(zip(distances.flatten()[1:], indices.flatten()[1:]), start=1):\n",
    "            similar_stockcode = user_product_interaction.columns[index]\n",
    "            # Aseguramos que no recomendamos productos ya comprados.\n",
    "            if similar_stockcode not in purchased_stockcodes:\n",
    "                product_name = df[df['StockCode'] == similar_stockcode]['Description'].iloc[0]\n",
    "                explanation = f\"Porque compraste {df[df['StockCode'] == stockcode]['Description'].iloc[0]} (StockCode {stockcode}), que es similar.\"\n",
    "                recommendations.append((similar_stockcode, product_name, explanation))\n",
    "                if len(recommendations) == n_recommendations:\n",
    "                    return recommendations\n",
    "    return recommendations"
   ]
  },
  {
   "cell_type": "markdown",
   "metadata": {},
   "source": [
    "# Paso 4: Aplicación del Proceso a Todos los Clientes y Exportación a Excel\n",
    "\n",
    "Aplicaremos el proceso a una muestra de clientes y luego exportaremos los resultados a un archivo Excel."
   ]
  },
  {
   "cell_type": "code",
   "execution_count": 23,
   "metadata": {},
   "outputs": [
    {
     "data": {
      "text/plain": [
       "'customer_recommendations_with_details.xlsx'"
      ]
     },
     "execution_count": 23,
     "metadata": {},
     "output_type": "execute_result"
    }
   ],
   "source": [
    "\n",
    "n_recommendations = 5  # Ajusta este valor según el número deseado de recomendaciones por cliente\n",
    "\n",
    "# Elegir una muestra de clientes para demostración\n",
    "sample_customers = user_product_interaction.index[:100]  # Ajusta esto según tu capacidad de procesamiento\n",
    "\n",
    "# Preparar contenedor para las recomendaciones de todos los clientes.\n",
    "all_recommendations = []\n",
    "\n",
    "# Iterar sobre un conjunto de clientes de ejemplo. Ajustar para iterar sobre todos los clientes según necesidades.\n",
    "for customer_id in user_product_interaction.index[:100]:  # Ejemplo: los primeros 100 clientes.\n",
    "    recs = get_recommendations(customer_id)\n",
    "    for rec in recs:\n",
    "        # Agregamos el ID del cliente y las recomendaciones (StockCode, Nombre, Explicación) a nuestra lista.\n",
    "        all_recommendations.append([customer_id] + list(rec))\n",
    "\n",
    "# Convertimos la lista de recomendaciones en un DataFrame.\n",
    "recommendations_df = pd.DataFrame(all_recommendations, columns=['CustomerID', 'StockCode', 'ProductName', 'Explanation'])\n",
    "\n",
    "# Exportamos el DataFrame a un archivo Excel.\n",
    "recommendations_df.to_excel('customer_recommendations_with_explanations.xlsx', index=False)\n",
    "\n"
   ]
  },
  {
   "cell_type": "markdown",
   "metadata": {},
   "source": [
    "El sistema de recomendación que describí utiliza el algoritmo Nearest Neighbors basado en la similitud de coseno para identificar productos similares basándose en las interacciones de compra de los clientes. Aquí te explico cómo funciona y cómo se basa para recomendar"
   ]
  },
  {
   "cell_type": "markdown",
   "metadata": {},
   "source": [
    "# Preparación de los datos: \n",
    "\n",
    "Primero, creamos una matriz de interacción usuario-producto, donde las filas representan a los clientes (CustomerID) y las columnas representan los productos (StockCode). Los valores de esta matriz indican la cantidad de cada producto comprada por cada cliente."
   ]
  },
  {
   "cell_type": "markdown",
   "metadata": {},
   "source": [
    "# Modelo de similitud de productos: \n",
    "\n",
    "Utilizamos el modelo Nearest Neighbors con la métrica de similitud de coseno para calcular qué tan similares son los productos entre sí, basándonos en todas las compras de los clientes. La similitud de coseno mide el ángulo entre dos vectores en el espacio multidimensional de la matriz de interacción, lo cual indica cuán similares son los patrones de compra de dos productos. Productos con patrones de compra similares tendrán una similitud de coseno más alta (más cercana a 1)."
   ]
  },
  {
   "cell_type": "markdown",
   "metadata": {},
   "source": [
    "# Generación de recomendaciones: \n",
    "\n",
    "Para un cliente dado, el sistema identifica los productos que ya ha comprado y busca otros productos que sean similares a estos, basándose en la similitud de coseno calculada. Los productos recomendados son aquellos que son similares a los productos comprados por el cliente pero que el cliente aún no ha comprado."
   ]
  },
  {
   "cell_type": "markdown",
   "metadata": {},
   "source": [
    "Este proceso se basa en la suposición de que si un cliente compra un producto, es probable que esté interesado en otros productos similares en términos de cómo otros clientes interactúan con ellos. Por ejemplo, si muchos clientes compran los productos A y B juntos y un cliente específico solo ha comprado el producto A, el sistema puede recomendar el producto B a ese cliente, sugiriendo que productos comprados de manera similar por otros clientes también podrían ser de su interés."
   ]
  }
 ],
 "metadata": {
  "kernelspec": {
   "display_name": "Python 3",
   "language": "python",
   "name": "python3"
  },
  "language_info": {
   "codemirror_mode": {
    "name": "ipython",
    "version": 3
   },
   "file_extension": ".py",
   "mimetype": "text/x-python",
   "name": "python",
   "nbconvert_exporter": "python",
   "pygments_lexer": "ipython3",
   "version": "3.10.13"
  }
 },
 "nbformat": 4,
 "nbformat_minor": 2
}
